{
 "cells": [
  {
   "cell_type": "code",
   "execution_count": 1,
   "metadata": {},
   "outputs": [],
   "source": [
    "import numpy as np\n",
    "import random\n",
    "import pandas as pd\n",
    "import matplotlib.pyplot as plt\n",
    "from sklearn.utils import murmurhash3_32\n",
    "from random import randint\n",
    "import csv\n",
    "import sys\n",
    "from sklearn.metrics import roc_curve, auc"
   ]
  },
  {
   "cell_type": "code",
   "execution_count": 2,
   "metadata": {},
   "outputs": [],
   "source": [
    "def hashfunc(m):\n",
    "    ss = randint(1, 99999999)\n",
    "    def hash_m(x):\n",
    "        return murmurhash3_32(x,seed=ss)%m\n",
    "    return hash_m"
   ]
  },
  {
   "cell_type": "code",
   "execution_count": 3,
   "metadata": {},
   "outputs": [],
   "source": [
    "class BloomFilter():\n",
    "    def __init__(self, n, hash_len, k = None):\n",
    "        self.n = n\n",
    "        self.hash_len = int(hash_len)\n",
    "        if k == None:\n",
    "            self.k = int(self.hash_len/n*0.6931472)\n",
    "        else:\n",
    "            self.k = k\n",
    "        self.h = []\n",
    "        for i in range(self.k):\n",
    "            self.h.append(hashfunc(self.hash_len))\n",
    "        self.table = np.zeros(self.hash_len, dtype=int)\n",
    "    def insert(self, key):\n",
    "        for i in key:\n",
    "            for j in range(self.k):\n",
    "                t = self.h[j](i)\n",
    "                self.table[t] = 1\n",
    "    def test(self, key):\n",
    "        test_result = np.zeros(len(key))\n",
    "        ss=0\n",
    "        for i in key:\n",
    "            match = 0\n",
    "            for j in range(self.k):\n",
    "                t = self.h[j](i)\n",
    "                match += 1*(self.table[t] == 1)\n",
    "            if match == self.k:\n",
    "                test_result[ss] = 1\n",
    "            ss += 1  \n",
    "        return test_result"
   ]
  },
  {
   "cell_type": "code",
   "execution_count": 4,
   "metadata": {},
   "outputs": [],
   "source": [
    "class BloomFilter_2():\n",
    "    def __init__(self, n, hash_len, k_max):\n",
    "        self.n = n\n",
    "        self.hash_len = int(hash_len)\n",
    "        self.h = []\n",
    "        for i in range(int(k_max)):\n",
    "            self.h.append(hashfunc(self.hash_len))\n",
    "        self.table = np.zeros(self.hash_len, dtype=int)\n",
    "    def insert(self, key, k):\n",
    "        for j in range(int(k)):\n",
    "            t = self.h[j](key)\n",
    "            self.table[t] = 1\n",
    "    def test(self, key, k):\n",
    "        test_result = 0\n",
    "        match = 0\n",
    "        for j in range(int(k)):\n",
    "            t = self.h[j](key)\n",
    "            match += 1*(self.table[t] == 1)\n",
    "        if match == k:\n",
    "            test_result = 1\n",
    "        return test_result"
   ]
  },
  {
   "cell_type": "code",
   "execution_count": 5,
   "metadata": {},
   "outputs": [],
   "source": [
    "class BloomFilter_3():\n",
    "    def __init__(self, n, hash_len):\n",
    "        self.n = n\n",
    "        self.hash_len = int(hash_len)\n",
    "        self.k = np.round(self.hash_len/n*0.6931472)\n",
    "        self.h = []\n",
    "        for i in range(self.k.astype(int)):\n",
    "            self.h.append(hashfunc(self.hash_len))\n",
    "        self.table = np.zeros(self.hash_len, dtype=int)\n",
    "    def insert(self, key):\n",
    "        for i in key:\n",
    "            for j in range(self.k.astype(int)):\n",
    "                t = self.h[j](i)\n",
    "                self.table[t] = 1\n",
    "    def test(self, key):\n",
    "        test_result = 0\n",
    "        match = 0\n",
    "        for j in range(self.k.astype(int)):\n",
    "            t = self.h[j](key)\n",
    "            match += 1*(self.table[t] == 1)\n",
    "        if match == self.k.astype(int):\n",
    "            test_result = 1  \n",
    "        return test_result"
   ]
  },
  {
   "cell_type": "code",
   "execution_count": 6,
   "metadata": {},
   "outputs": [],
   "source": [
    "### Adaboost, n_estimator = 40, learning_rate = 0.05, 30% training data\n",
    "train_data = pd.read_csv('C:/COMP 580/Malware Detection/Machine-Learning-approach-for-Malware-Detection-master/model fitted result 3.csv')\n",
    "# train_data = pd.read_csv('C:/COMP 580/Malware Detection/Machine-Learning-approach-for-Malware-Detection-master/model fitted result (train).csv')\n",
    "test_data = pd.read_csv('C:/COMP 580/Malware Detection/Machine-Learning-approach-for-Malware-Detection-master/model fitted result (test).csv')\n",
    "\n",
    "train_negative = train_data.loc[(train_data.loc[:,'label']==0),:]\n",
    "train_positive = train_data.loc[(train_data.loc[:,'label']==1),:]\n",
    "\n",
    "test_negative = test_data.loc[(test_data.loc[:,'label']==0),:]\n",
    "test_positive = test_data.loc[(test_data.loc[:,'label']==1),:]"
   ]
  },
  {
   "cell_type": "code",
   "execution_count": 19,
   "metadata": {},
   "outputs": [
    {
     "data": {
      "image/png": "[encoded data removed]",
      "text/plain": [
       "<Figure size 432x288 with 1 Axes>"
      ]
     },
     "metadata": {
      "needs_background": "light"
     },
     "output_type": "display_data"
    }
   ],
   "source": [
    "plt.style.use('seaborn-deep')\n",
    "\n",
    "x = train_data.loc[train_data.loc[:,'label']==1,'score']\n",
    "y = train_data.loc[train_data.loc[:,'label']==0,'score']\n",
    "bins = np.linspace(0.1, 0.9, 25)\n",
    "\n",
    "plt.hist([x, y], bins, log=True, label=['Viral', 'Benign'])\n",
    "plt.legend(loc='upper right')\n",
    "plt.show()"
   ]
  },
  {
   "cell_type": "code",
   "execution_count": 9,
   "metadata": {},
   "outputs": [
    {
     "data": {
      "image/png": "[encoded data removed]",
      "text/plain": [
       "<Figure size 432x288 with 1 Axes>"
      ]
     },
     "metadata": {
      "needs_background": "light"
     },
     "output_type": "display_data"
    }
   ],
   "source": [
    "fpr, tpr, _ = roc_curve(train_data.loc[:,'label'], train_data.loc[:,'score'])\n",
    "roc_auc = auc(fpr, tpr)\n",
    "\n",
    "plt.figure()\n",
    "lw = 2\n",
    "plt.plot(fpr, tpr, color='darkorange',\n",
    "         lw=lw, label='ROC curve (area = %0.2f)' % roc_auc)\n",
    "plt.plot([0, 1], [0, 1], color='navy', lw=lw, linestyle='--')\n",
    "plt.xlim([0.0, 1.0])\n",
    "plt.ylim([0.0, 1.05])\n",
    "plt.xlabel('False Positive Rate')\n",
    "plt.ylabel('True Positive Rate')\n",
    "plt.title('Prediction Accuracy of URLNet')\n",
    "plt.legend(loc=\"lower right\")\n",
    "plt.show()"
   ]
  },
  {
   "cell_type": "markdown",
   "metadata": {},
   "source": [
    "## <font color='red'> Original ML based Bloom Filter</font>\n"
   ]
  },
  {
   "cell_type": "markdown",
   "metadata": {},
   "source": [
    "#### First Round: Briefly search the optimal threshold (Hash_len = 100000)"
   ]
  },
  {
   "cell_type": "code",
   "execution_count": 11,
   "metadata": {},
   "outputs": [
    {
     "name": "stdout",
     "output_type": "stream",
     "text": [
      "False positive items:  8943.0\n",
      "False positive items:  6900.0\n",
      "False positive items:  4992.0\n",
      "False positive items:  3789.0\n",
      "False positive items:  3529.0\n",
      "False positive items:  1671.0\n",
      "False positive items:  1212.0\n",
      "False positive items:  955.0\n",
      "False positive items:  828.0\n",
      "False positive items:  673.0\n",
      "False positive items:  858.0\n",
      "False positive items:  14136.0\n"
     ]
    }
   ],
   "source": [
    "## Control FPR = 0.001 in the training data\n",
    "thresholds = np.linspace(0.3, 0.85, 12)\n",
    "FPR_count = np.zeros(len(thresholds))\n",
    "ss = 0\n",
    "\n",
    "hash_len = 100000\n",
    "for threshold in thresholds:\n",
    "    url = train_positive.loc[(train_positive.loc[:,'score'] <= threshold),'md5']\n",
    "    n = len(url)\n",
    "    bloom_filter = BloomFilter(n, hash_len)\n",
    "    bloom_filter.insert(url)\n",
    "    ML_positive = train_negative.loc[(train_negative.loc[:,'score'] > threshold),'md5']\n",
    "    bloom_negative = train_negative.loc[(train_negative.loc[:,'score'] <= threshold),'md5']\n",
    "    n1 = bloom_filter.test(bloom_negative)\n",
    "    print('False positive items: ', sum(n1) + len(ML_positive))\n",
    "    FPR_count[ss] = sum(n1) + len(ML_positive)\n",
    "    ss += 1"
   ]
  },
  {
   "cell_type": "markdown",
   "metadata": {},
   "source": [
    "#### Second Round: Detaily search the optimal threshold (Hash_len = 100000)"
   ]
  },
  {
   "cell_type": "code",
   "execution_count": 90,
   "metadata": {},
   "outputs": [
    {
     "name": "stdout",
     "output_type": "stream",
     "text": [
      "False positive items:  673.0\n",
      "False positive items:  671.0\n",
      "False positive items:  616.0\n",
      "False positive items:  616.0\n",
      "False positive items:  763.0\n",
      "False positive items:  776.0\n",
      "False positive items:  815.0\n",
      "False positive items:  887.0\n",
      "False positive items:  919.0\n",
      "False positive items:  875.0\n",
      "False positive items:  904.0\n"
     ]
    }
   ],
   "source": [
    "## Control FPR = 0.001 in the training data\n",
    "thresholds = np.linspace(0.75, 0.80, 11)\n",
    "FPR_count = np.zeros(len(thresholds))\n",
    "ss = 0\n",
    "\n",
    "hash_len = 100000\n",
    "for threshold in thresholds:\n",
    "    url = train_positive.loc[(train_positive.loc[:,'score'] <= threshold),'md5']\n",
    "    n = len(url)\n",
    "    bloom_filter = BloomFilter(n, hash_len)\n",
    "    bloom_filter.insert(url)\n",
    "    ML_positive = train_negative.loc[(train_negative.loc[:,'score'] > threshold),'md5']\n",
    "    bloom_negative = train_negative.loc[(train_negative.loc[:,'score'] <= threshold),'md5']\n",
    "    n1 = bloom_filter.test(bloom_negative)\n",
    "    print('False positive items: ', sum(n1) + len(ML_positive))\n",
    "    FPR_count[ss] = sum(n1) + len(ML_positive)\n",
    "    ss += 1"
   ]
  },
  {
   "cell_type": "markdown",
   "metadata": {},
   "source": [
    "#### Corresponding on testing data (Hash_len = 100000)"
   ]
  },
  {
   "cell_type": "code",
   "execution_count": 45,
   "metadata": {},
   "outputs": [
    {
     "name": "stdout",
     "output_type": "stream",
     "text": [
      "False positive items:  229.0\n",
      "False positive Rate:  0.013935373942676322\n"
     ]
    }
   ],
   "source": [
    "## Control FPR = 0.001 in the training data\n",
    "threshold = 0.76\n",
    "\n",
    "hash_len = 100000\n",
    "url = train_positive.loc[(train_positive.loc[:,'score'] <= threshold),'md5']\n",
    "n = len(url)\n",
    "bloom_filter = BloomFilter(n, hash_len)\n",
    "bloom_filter.insert(url)\n",
    "ML_positive = test_negative.loc[(test_negative.loc[:,'score'] > threshold),'md5']\n",
    "bloom_negative = test_negative.loc[(test_negative.loc[:,'score'] <= threshold),'md5']\n",
    "n1 = bloom_filter.test(bloom_negative)\n",
    "print('False positive items: ', sum(n1) + len(ML_positive))\n",
    "print('False positive Rate: ', (sum(n1) + len(ML_positive))/test_negative.shape[0])"
   ]
  },
  {
   "cell_type": "markdown",
   "metadata": {},
   "source": [
    "#### First Round: Briefly search the optimal threshold (Hash_len = 150000)"
   ]
  },
  {
   "cell_type": "code",
   "execution_count": 13,
   "metadata": {},
   "outputs": [
    {
     "name": "stdout",
     "output_type": "stream",
     "text": [
      "False positive items:  3529.0\n",
      "False positive items:  1671.0\n",
      "False positive items:  1212.0\n",
      "False positive items:  955.0\n",
      "False positive items:  828.0\n",
      "False positive items:  673.0\n",
      "False positive items:  397.0\n",
      "False positive items:  8114.0\n"
     ]
    }
   ],
   "source": [
    "## Control FPR = 0.001 in the training data\n",
    "thresholds = np.linspace(0.5, 0.85, 8)\n",
    "FPR_count = np.zeros(len(thresholds))\n",
    "ss = 0\n",
    "\n",
    "hash_len = 150000\n",
    "for threshold in thresholds:\n",
    "    url = train_positive.loc[(train_positive.loc[:,'score'] <= threshold),'md5']\n",
    "    n = len(url)\n",
    "    bloom_filter = BloomFilter(n, hash_len)\n",
    "    bloom_filter.insert(url)\n",
    "    ML_positive = train_negative.loc[(train_negative.loc[:,'score'] > threshold),'md5']\n",
    "    bloom_negative = train_negative.loc[(train_negative.loc[:,'score'] <= threshold),'md5']\n",
    "    n1 = bloom_filter.test(bloom_negative)\n",
    "    print('False positive items: ', sum(n1) + len(ML_positive))\n",
    "    FPR_count[ss] = sum(n1) + len(ML_positive)\n",
    "    ss += 1"
   ]
  },
  {
   "cell_type": "markdown",
   "metadata": {},
   "source": [
    "#### Second Round: Detaily search the optimal threshold (Hash_len = 150000)"
   ]
  },
  {
   "cell_type": "code",
   "execution_count": 96,
   "metadata": {},
   "outputs": [
    {
     "name": "stdout",
     "output_type": "stream",
     "text": [
      "False positive items:  828.0\n",
      "False positive items:  776.0\n",
      "False positive items:  774.0\n",
      "False positive items:  703.0\n",
      "False positive items:  676.0\n",
      "False positive items:  673.0\n",
      "False positive items:  616.0\n",
      "False positive items:  536.0\n",
      "False positive items:  549.0\n",
      "False positive items:  394.0\n",
      "False positive items:  373.0\n"
     ]
    }
   ],
   "source": [
    "## Control FPR = 0.001 in the training data\n",
    "thresholds = np.linspace(0.70, 0.80, 11)\n",
    "FPR_count = np.zeros(len(thresholds))\n",
    "ss = 0\n",
    "\n",
    "hash_len = 150000\n",
    "for threshold in thresholds:\n",
    "    url = train_positive.loc[(train_positive.loc[:,'score'] <= threshold),'md5']\n",
    "    n = len(url)\n",
    "    bloom_filter = BloomFilter(n, hash_len)\n",
    "    bloom_filter.insert(url)\n",
    "    ML_positive = train_negative.loc[(train_negative.loc[:,'score'] > threshold),'md5']\n",
    "    bloom_negative = train_negative.loc[(train_negative.loc[:,'score'] <= threshold),'md5']\n",
    "    n1 = bloom_filter.test(bloom_negative)\n",
    "    print('False positive items: ', sum(n1) + len(ML_positive))\n",
    "    FPR_count[ss] = sum(n1) + len(ML_positive)\n",
    "    ss += 1"
   ]
  },
  {
   "cell_type": "code",
   "execution_count": 98,
   "metadata": {},
   "outputs": [
    {
     "name": "stdout",
     "output_type": "stream",
     "text": [
      "11236\n"
     ]
    },
    {
     "data": {
      "text/plain": [
       "51.0"
      ]
     },
     "execution_count": 98,
     "metadata": {},
     "output_type": "execute_result"
    }
   ],
   "source": [
    "print(n)\n",
    "sum(n1)"
   ]
  },
  {
   "cell_type": "markdown",
   "metadata": {},
   "source": [
    "#### First Round: Briefly search the optimal threshold (Hash_len = 200000)"
   ]
  },
  {
   "cell_type": "code",
   "execution_count": 15,
   "metadata": {},
   "outputs": [
    {
     "name": "stdout",
     "output_type": "stream",
     "text": [
      "False positive items:  3529.0\n",
      "False positive items:  1671.0\n",
      "False positive items:  1212.0\n",
      "False positive items:  955.0\n",
      "False positive items:  828.0\n",
      "False positive items:  673.0\n",
      "False positive items:  329.0\n",
      "False positive items:  4544.0\n"
     ]
    }
   ],
   "source": [
    "## Control FPR = 0.001 in the training data\n",
    "thresholds = np.linspace(0.5, 0.85, 8)\n",
    "FPR_count = np.zeros(len(thresholds))\n",
    "ss = 0\n",
    "\n",
    "hash_len = 200000\n",
    "for threshold in thresholds:\n",
    "    url = train_positive.loc[(train_positive.loc[:,'score'] <= threshold),'md5']\n",
    "    n = len(url)\n",
    "    bloom_filter = BloomFilter(n, hash_len)\n",
    "    bloom_filter.insert(url)\n",
    "    ML_positive = train_negative.loc[(train_negative.loc[:,'score'] > threshold),'md5']\n",
    "    bloom_negative = train_negative.loc[(train_negative.loc[:,'score'] <= threshold),'md5']\n",
    "    n1 = bloom_filter.test(bloom_negative)\n",
    "    print('False positive items: ', sum(n1) + len(ML_positive))\n",
    "    FPR_count[ss] = sum(n1) + len(ML_positive)\n",
    "    ss += 1"
   ]
  },
  {
   "cell_type": "markdown",
   "metadata": {},
   "source": [
    "#### Second Round: Detaily search the optimal threshold (Hash_len = 200000)"
   ]
  },
  {
   "cell_type": "code",
   "execution_count": 16,
   "metadata": {},
   "outputs": [
    {
     "name": "stdout",
     "output_type": "stream",
     "text": [
      "False positive items:  673.0\n",
      "False positive items:  616.0\n",
      "False positive items:  519.0\n",
      "False positive items:  520.0\n",
      "False positive items:  324.0\n",
      "False positive items:  327.0\n",
      "False positive items:  319.0\n",
      "False positive items:  4293.0\n",
      "False positive items:  4380.0\n",
      "False positive items:  4417.0\n",
      "False positive items:  4771.0\n"
     ]
    }
   ],
   "source": [
    "## Control FPR = 0.001 in the training data\n",
    "thresholds = np.linspace(0.75, 0.85, 11)\n",
    "FPR_count = np.zeros(len(thresholds))\n",
    "ss = 0\n",
    "\n",
    "hash_len = 200000\n",
    "for threshold in thresholds:\n",
    "    url = train_positive.loc[(train_positive.loc[:,'score'] <= threshold),'md5']\n",
    "    n = len(url)\n",
    "    bloom_filter = BloomFilter(n, hash_len)\n",
    "    bloom_filter.insert(url)\n",
    "    ML_positive = train_negative.loc[(train_negative.loc[:,'score'] > threshold),'md5']\n",
    "    bloom_negative = train_negative.loc[(train_negative.loc[:,'score'] <= threshold),'md5']\n",
    "    n1 = bloom_filter.test(bloom_negative)\n",
    "    print('False positive items: ', sum(n1) + len(ML_positive))\n",
    "    FPR_count[ss] = sum(n1) + len(ML_positive)\n",
    "    ss += 1"
   ]
  },
  {
   "cell_type": "markdown",
   "metadata": {},
   "source": [
    "#### First Round: Briefly search the optimal threshold (Hash_len = 250000)"
   ]
  },
  {
   "cell_type": "code",
   "execution_count": 17,
   "metadata": {},
   "outputs": [
    {
     "name": "stdout",
     "output_type": "stream",
     "text": [
      "False positive items:  3529.0\n",
      "False positive items:  1671.0\n",
      "False positive items:  1212.0\n",
      "False positive items:  955.0\n",
      "False positive items:  828.0\n",
      "False positive items:  673.0\n",
      "False positive items:  323.0\n",
      "False positive items:  2717.0\n"
     ]
    }
   ],
   "source": [
    "## Control FPR = 0.001 in the training data\n",
    "thresholds = np.linspace(0.5, 0.85, 8)\n",
    "FPR_count = np.zeros(len(thresholds))\n",
    "ss = 0\n",
    "\n",
    "hash_len = 250000\n",
    "for threshold in thresholds:\n",
    "    url = train_positive.loc[(train_positive.loc[:,'score'] <= threshold),'md5']\n",
    "    n = len(url)\n",
    "    bloom_filter = BloomFilter(n, hash_len)\n",
    "    bloom_filter.insert(url)\n",
    "    ML_positive = train_negative.loc[(train_negative.loc[:,'score'] > threshold),'md5']\n",
    "    bloom_negative = train_negative.loc[(train_negative.loc[:,'score'] <= threshold),'md5']\n",
    "    n1 = bloom_filter.test(bloom_negative)\n",
    "    print('False positive items: ', sum(n1) + len(ML_positive))\n",
    "    FPR_count[ss] = sum(n1) + len(ML_positive)\n",
    "    ss += 1"
   ]
  },
  {
   "cell_type": "markdown",
   "metadata": {},
   "source": [
    "#### Second Round: Detaily search the optimal threshold (Hash_len = 250000)"
   ]
  },
  {
   "cell_type": "code",
   "execution_count": 79,
   "metadata": {},
   "outputs": [
    {
     "name": "stdout",
     "output_type": "stream",
     "text": [
      "False positive items:  519.0\n",
      "False positive items:  519.0\n",
      "False positive items:  519.0\n",
      "False positive items:  323.0\n",
      "False positive items:  322.0\n",
      "False positive items:  322.0\n",
      "False positive items:  322.0\n",
      "False positive items:  323.0\n",
      "False positive items:  304.0\n",
      "False positive items:  311.0\n",
      "False positive items:  2466.0\n"
     ]
    }
   ],
   "source": [
    "## Control FPR = 0.001 in the training data\n",
    "thresholds = np.linspace(0.77, 0.82, 11)\n",
    "FPR_count = np.zeros(len(thresholds))\n",
    "ss = 0\n",
    "\n",
    "hash_len = 250000\n",
    "for threshold in thresholds:\n",
    "    url = train_positive.loc[(train_positive.loc[:,'score'] <= threshold),'md5']\n",
    "    n = len(url)\n",
    "    bloom_filter = BloomFilter(n, hash_len)\n",
    "    bloom_filter.insert(url)\n",
    "    ML_positive = train_negative.loc[(train_negative.loc[:,'score'] > threshold),'md5']\n",
    "    bloom_negative = train_negative.loc[(train_negative.loc[:,'score'] <= threshold),'md5']\n",
    "    n1 = bloom_filter.test(bloom_negative)\n",
    "    print('False positive items: ', sum(n1) + len(ML_positive))\n",
    "    FPR_count[ss] = sum(n1) + len(ML_positive)\n",
    "    ss += 1"
   ]
  },
  {
   "cell_type": "markdown",
   "metadata": {},
   "source": [
    "## <font color='red'> Sandwiching ML based Bloom Filter</font>"
   ]
  },
  {
   "cell_type": "markdown",
   "metadata": {},
   "source": [
    "#### Performance of training data (Hash_len = 100000)"
   ]
  },
  {
   "cell_type": "code",
   "execution_count": 71,
   "metadata": {},
   "outputs": [
    {
     "name": "stdout",
     "output_type": "stream",
     "text": [
      "False positive items:  828.0\n",
      "False positive items:  776.0\n",
      "False positive items:  774.0\n",
      "False positive items:  703.0\n",
      "False positive items:  676.0\n",
      "False positive items:  673.0\n",
      "False positive items:  616.0\n",
      "False positive items:  1139.0\n",
      "False positive items:  1327.0\n",
      "False positive items:  1762.0\n",
      "False positive items:  1649.0\n"
     ]
    }
   ],
   "source": [
    "thresholds = np.linspace(0.70, 0.80, 11)\n",
    "\n",
    "for threshold in thresholds:\n",
    "    url_raw = train_positive.loc[:,'md5']\n",
    "    n = len(url_raw)\n",
    "    hash_len1 = 20000\n",
    "    bloom_filter1 = BloomFilter(n, hash_len1)\n",
    "    bloom_filter1.insert(url_raw)\n",
    "\n",
    "    url = train_positive.loc[(train_positive.loc[:,'score'] <= threshold),'md5']\n",
    "    n2 = len(url)\n",
    "    hash_len2 = 80000\n",
    "    bloom_filter2 = BloomFilter(n2, hash_len2)\n",
    "    bloom_filter2.insert(url)\n",
    "\n",
    "    negative_url_raw = train_negative.loc[:,'md5']\n",
    "    negative_score_raw = train_negative.loc[:,'score']\n",
    "    test_result = bloom_filter1.test(negative_url_raw)\n",
    "\n",
    "\n",
    "    negative_url_filtered = negative_url_raw[test_result==1]\n",
    "    negative_score_filtered = negative_score_raw[test_result==1]\n",
    "    bloom_negative = negative_url_filtered[negative_score_filtered <= threshold]\n",
    "    ML_positive = negative_url_filtered[negative_score_filtered > threshold]\n",
    "\n",
    "    test_result2 = bloom_filter2.test(bloom_negative)\n",
    "    print('False positive items: ', sum(test_result2) + len(ML_positive))"
   ]
  },
  {
   "cell_type": "markdown",
   "metadata": {},
   "source": [
    "#### Performance of training data (Hash_len = 150000)"
   ]
  },
  {
   "cell_type": "code",
   "execution_count": 75,
   "metadata": {},
   "outputs": [
    {
     "name": "stdout",
     "output_type": "stream",
     "text": [
      "False positive items:  828.0\n",
      "False positive items:  776.0\n",
      "False positive items:  774.0\n",
      "False positive items:  703.0\n",
      "False positive items:  676.0\n",
      "False positive items:  673.0\n",
      "False positive items:  616.0\n",
      "False positive items:  608.0\n",
      "False positive items:  634.0\n",
      "False positive items:  576.0\n",
      "False positive items:  599.0\n",
      "False positive items:  690.0\n",
      "False positive items:  10564.0\n",
      "False positive items:  10660.0\n",
      "False positive items:  10798.0\n",
      "False positive items:  11114.0\n"
     ]
    }
   ],
   "source": [
    "thresholds = np.linspace(0.70, 0.85, 16)\n",
    "\n",
    "for threshold in thresholds:\n",
    "    url_raw = train_positive.loc[:,'md5']\n",
    "    n = len(url_raw)\n",
    "    hash_len1 = 30000\n",
    "    bloom_filter1 = BloomFilter(n, hash_len1)\n",
    "    bloom_filter1.insert(url_raw)\n",
    "\n",
    "    url = train_positive.loc[(train_positive.loc[:,'score'] <= threshold),'md5']\n",
    "    n2 = len(url)\n",
    "    hash_len2 = 120000\n",
    "    bloom_filter2 = BloomFilter(n2, hash_len2)\n",
    "    bloom_filter2.insert(url)\n",
    "\n",
    "    negative_url_raw = train_negative.loc[:,'md5']\n",
    "    negative_score_raw = train_negative.loc[:,'score']\n",
    "    test_result = bloom_filter1.test(negative_url_raw)\n",
    "\n",
    "\n",
    "    negative_url_filtered = negative_url_raw[test_result==1]\n",
    "    negative_score_filtered = negative_score_raw[test_result==1]\n",
    "    bloom_negative = negative_url_filtered[negative_score_filtered <= threshold]\n",
    "    ML_positive = negative_url_filtered[negative_score_filtered > threshold]\n",
    "\n",
    "    test_result2 = bloom_filter2.test(bloom_negative)\n",
    "    print('False positive items: ', sum(test_result2) + len(ML_positive))"
   ]
  },
  {
   "cell_type": "markdown",
   "metadata": {},
   "source": [
    "#### Performance of training data (Hash_len = 200000)"
   ]
  },
  {
   "cell_type": "code",
   "execution_count": 77,
   "metadata": {},
   "outputs": [
    {
     "name": "stdout",
     "output_type": "stream",
     "text": [
      "False positive items:  828.0\n",
      "False positive items:  776.0\n",
      "False positive items:  774.0\n",
      "False positive items:  703.0\n",
      "False positive items:  676.0\n",
      "False positive items:  673.0\n",
      "False positive items:  616.0\n",
      "False positive items:  535.0\n",
      "False positive items:  538.0\n",
      "False positive items:  366.0\n",
      "False positive items:  353.0\n",
      "False positive items:  389.0\n",
      "False positive items:  6839.0\n",
      "False positive items:  6736.0\n",
      "False positive items:  6927.0\n",
      "False positive items:  7422.0\n"
     ]
    }
   ],
   "source": [
    "thresholds = np.linspace(0.70, 0.85, 16)\n",
    "\n",
    "for threshold in thresholds:\n",
    "    url_raw = train_positive.loc[:,'md5']\n",
    "    n = len(url_raw)\n",
    "    hash_len1 = 40000\n",
    "    bloom_filter1 = BloomFilter(n, hash_len1)\n",
    "    bloom_filter1.insert(url_raw)\n",
    "\n",
    "    url = train_positive.loc[(train_positive.loc[:,'score'] <= threshold),'md5']\n",
    "    n2 = len(url)\n",
    "    hash_len2 = 160000\n",
    "    bloom_filter2 = BloomFilter(n2, hash_len2)\n",
    "    bloom_filter2.insert(url)\n",
    "\n",
    "    negative_url_raw = train_negative.loc[:,'md5']\n",
    "    negative_score_raw = train_negative.loc[:,'score']\n",
    "    test_result = bloom_filter1.test(negative_url_raw)\n",
    "\n",
    "\n",
    "    negative_url_filtered = negative_url_raw[test_result==1]\n",
    "    negative_score_filtered = negative_score_raw[test_result==1]\n",
    "    bloom_negative = negative_url_filtered[negative_score_filtered <= threshold]\n",
    "    ML_positive = negative_url_filtered[negative_score_filtered > threshold]\n",
    "\n",
    "    test_result2 = bloom_filter2.test(bloom_negative)\n",
    "    print('False positive items: ', sum(test_result2) + len(ML_positive))"
   ]
  },
  {
   "cell_type": "markdown",
   "metadata": {},
   "source": [
    "#### Performance of training data (Hash_len = 250000)"
   ]
  },
  {
   "cell_type": "code",
   "execution_count": 78,
   "metadata": {},
   "outputs": [
    {
     "name": "stdout",
     "output_type": "stream",
     "text": [
      "False positive items:  828.0\n",
      "False positive items:  776.0\n",
      "False positive items:  774.0\n",
      "False positive items:  703.0\n",
      "False positive items:  676.0\n",
      "False positive items:  673.0\n",
      "False positive items:  616.0\n",
      "False positive items:  520.0\n",
      "False positive items:  519.0\n",
      "False positive items:  326.0\n",
      "False positive items:  329.0\n",
      "False positive items:  317.0\n",
      "False positive items:  4338.0\n",
      "False positive items:  4309.0\n",
      "False positive items:  4449.0\n",
      "False positive items:  4758.0\n"
     ]
    }
   ],
   "source": [
    "thresholds = np.linspace(0.70, 0.85, 16)\n",
    "\n",
    "for threshold in thresholds:\n",
    "    url_raw = train_positive.loc[:,'md5']\n",
    "    n = len(url_raw)\n",
    "    hash_len1 = 50000\n",
    "    bloom_filter1 = BloomFilter(n, hash_len1)\n",
    "    bloom_filter1.insert(url_raw)\n",
    "\n",
    "    url = train_positive.loc[(train_positive.loc[:,'score'] <= threshold),'md5']\n",
    "    n2 = len(url)\n",
    "    hash_len2 = 200000\n",
    "    bloom_filter2 = BloomFilter(n2, hash_len2)\n",
    "    bloom_filter2.insert(url)\n",
    "\n",
    "    negative_url_raw = train_negative.loc[:,'md5']\n",
    "    negative_score_raw = train_negative.loc[:,'score']\n",
    "    test_result = bloom_filter1.test(negative_url_raw)\n",
    "\n",
    "\n",
    "    negative_url_filtered = negative_url_raw[test_result==1]\n",
    "    negative_score_filtered = negative_score_raw[test_result==1]\n",
    "    bloom_negative = negative_url_filtered[negative_score_filtered <= threshold]\n",
    "    ML_positive = negative_url_filtered[negative_score_filtered > threshold]\n",
    "\n",
    "    test_result2 = bloom_filter2.test(bloom_negative)\n",
    "    print('False positive items: ', sum(test_result2) + len(ML_positive))"
   ]
  },
  {
   "cell_type": "markdown",
   "metadata": {},
   "source": [
    "## <font color='red'> Enhanced Version of ML based Bloom Filter</font>"
   ]
  },
  {
   "cell_type": "markdown",
   "metadata": {},
   "source": [
    "#### Search Optimal k_max and c (Hash_len = 100000)"
   ]
  },
  {
   "cell_type": "code",
   "execution_count": 19,
   "metadata": {},
   "outputs": [
    {
     "name": "stdout",
     "output_type": "stream",
     "text": [
      "False positive items:  [5, 1.4] 3789.0\n",
      "False positive items:  [5, 1.5] 3255.0\n",
      "False positive items:  [5, 1.5999999999999999] 3255.0\n",
      "False positive items:  [5, 1.7] 3255.0\n",
      "False positive items:  [5, 1.7999999999999998] 3255.0\n",
      "False positive items:  [5, 1.9] 1570.0\n",
      "False positive items:  [5, 2.0] 1479.0\n",
      "False positive items:  [5, 2.0999999999999996] 1182.0\n",
      "False positive items:  [5, 2.1999999999999997] 1067.0\n",
      "False positive items:  [5, 2.3] 851.0\n",
      "False positive items:  [6, 1.4] 3255.0\n",
      "False positive items:  [6, 1.5] 3255.0\n",
      "False positive items:  [6, 1.5999999999999999] 1573.0\n",
      "False positive items:  [6, 1.7] 1479.0\n",
      "False positive items:  [6, 1.7999999999999998] 1067.0\n",
      "False positive items:  [6, 1.9] 828.0\n",
      "False positive items:  [6, 2.0] 671.0\n",
      "False positive items:  [6, 2.0999999999999996] 605.0\n",
      "False positive items:  [6, 2.1999999999999997] 557.0\n",
      "False positive items:  [6, 2.3] 514.0\n",
      "False positive items:  [7, 1.4] 1789.0\n",
      "False positive items:  [7, 1.5] 1479.0\n",
      "False positive items:  [7, 1.5999999999999999] 1067.0\n",
      "False positive items:  [7, 1.7] 774.0\n",
      "False positive items:  [7, 1.7999999999999998] 605.0\n",
      "False positive items:  [7, 1.9] 524.0\n",
      "False positive items:  [7, 2.0] 515.0\n",
      "False positive items:  [7, 2.0999999999999996] 411.0\n",
      "False positive items:  [7, 2.1999999999999997] 468.0\n",
      "False positive items:  [7, 2.3] 449.0\n",
      "False positive items:  [8, 1.4] 1205.0\n",
      "False positive items:  [8, 1.5] 845.0\n",
      "False positive items:  [8, 1.5999999999999999] 605.0\n",
      "False positive items:  [8, 1.7] 513.0\n",
      "False positive items:  [8, 1.7999999999999998] 417.0\n",
      "False positive items:  [8, 1.9] 474.0\n",
      "False positive items:  [8, 2.0] 466.0\n"
     ]
    },
    {
     "name": "stderr",
     "output_type": "stream",
     "text": [
      "C:\\Users\\daizw\\Anaconda3\\lib\\site-packages\\ipykernel_launcher.py:5: RuntimeWarning: divide by zero encountered in double_scalars\n",
      "  \"\"\"\n"
     ]
    },
    {
     "name": "stdout",
     "output_type": "stream",
     "text": [
      "False positive items:  [8, 2.0999999999999996] 446.0\n",
      "False positive items:  [8, 2.1999999999999997] 458.0\n",
      "False positive items:  [8, 2.3] 449.0\n",
      "False positive items:  [9, 1.4] 845.0\n",
      "False positive items:  [9, 1.5] 605.0\n",
      "False positive items:  [9, 1.5999999999999999] 495.0\n",
      "False positive items:  [9, 1.7] 504.0\n",
      "False positive items:  [9, 1.7999999999999998] 485.0\n",
      "False positive items:  [9, 1.9] 476.0\n",
      "False positive items:  [9, 2.0] 452.0\n",
      "False positive items:  [9, 2.0999999999999996] 438.0\n",
      "False positive items:  [9, 2.1999999999999997] 473.0\n",
      "False positive items:  [9, 2.3] 567.0\n"
     ]
    }
   ],
   "source": [
    "c_set = np.linspace(1.4, 2.3, 10)\n",
    "\n",
    "R_sum = 100000\n",
    "\n",
    "for num_group in range(5,10):\n",
    "    for c in c_set:\n",
    "        ### Determine the thresholds\n",
    "        thresholds = np.zeros(num_group+1)\n",
    "        thresholds[0] = 0\n",
    "        thresholds[-1] = 1\n",
    "        num_negative = sum(train_negative.loc[:,'score'] <= thresholds[-1])\n",
    "        tau = sum(c**np.arange(0, num_group, 1)) \n",
    "        num_piece = int(num_negative/tau)\n",
    "        score = train_negative.loc[(train_negative.loc[:,'score'] <= thresholds[-1]),'score']\n",
    "        score = np.sort(score)\n",
    "        for i in range(num_group-1):\n",
    "            score_1 = score[score<=thresholds[-(i+1)]]\n",
    "            thresholds[-(i+2)] = score_1[-int(num_piece*c**i)]\n",
    "        \n",
    "        ### Count the keys of each group\n",
    "        url =  train_positive.loc[(train_positive.loc[:,'score'] < thresholds[-1]),'md5']\n",
    "        score = train_positive.loc[(train_positive.loc[:,'score'] < thresholds[-1]),'score']\n",
    "\n",
    "        count_key = np.zeros(num_group)\n",
    "        url_group = []\n",
    "        bloom_filter = []\n",
    "        for j in range(int(num_group)):\n",
    "            count_key[j] = sum((score >= thresholds[j]) & (score < thresholds[j+1]))\n",
    "            url_group.append(url[(score >= thresholds[j]) & (score < thresholds[j+1])])\n",
    "            \n",
    "        ### Search the Bloom filters' size\n",
    "        R = np.zeros(num_group - 1)\n",
    "        R[:] = 0.5*R_sum\n",
    "        kk = 1\n",
    "        while abs(sum(R)-R_sum)>200:\n",
    "            if (sum(R)>R_sum):\n",
    "                R[0] = R[0] - int((0.5*R_sum)*(0.5)**kk+1)\n",
    "            else:\n",
    "                R[0] = R[0] + int((0.5*R_sum)*(0.5)**kk+1)\n",
    "            for j in range(1, int(num_group-1)):\n",
    "                R[j] = max(int(count_key[j]*(R[0]/count_key[0]+j*np.log(c)/np.log(0.618))),1)\n",
    "            if int((0.5*R_sum)*(0.5)**kk+1) == 1:\n",
    "                break\n",
    "            kk += 1\n",
    "        \n",
    "        Bloom_Filters = []\n",
    "        for j in range(int(num_group-1)):\n",
    "            Bloom_Filters.append(BloomFilter_3(count_key[j], R[j]))\n",
    "            Bloom_Filters[j].insert(url_group[j])\n",
    "            \n",
    "        ### Test URLs\n",
    "        ML_positive = train_negative.loc[(train_negative.loc[:,'score'] >= thresholds[-2]),'md5']\n",
    "        url_negative =  train_negative.loc[(train_negative.loc[:,'score'] < thresholds[-2]),'md5']\n",
    "        score_negative = train_negative.loc[(train_negative.loc[:,'score'] < thresholds[-2]),'score']\n",
    "\n",
    "        test_result = np.zeros(len(url_negative))\n",
    "        ss = 0\n",
    "        for score_s, url_s in zip(score_negative, url_negative):\n",
    "            ix = min(np.where(score_s < thresholds)[0])\n",
    "            test_result[ss] = Bloom_Filters[ix-1].test(url_s)\n",
    "            ss += 1\n",
    "        print('False positive items: ', [num_group, c], sum(test_result)+len(ML_positive))"
   ]
  },
  {
   "cell_type": "markdown",
   "metadata": {},
   "source": [
    "#### Search Optimal k_max and c (Hash_len = 150000)"
   ]
  },
  {
   "cell_type": "code",
   "execution_count": 20,
   "metadata": {},
   "outputs": [
    {
     "name": "stdout",
     "output_type": "stream",
     "text": [
      "False positive items:  [6, 1.4] 3255.0\n",
      "False positive items:  [6, 1.5] 3255.0\n",
      "False positive items:  [6, 1.5999999999999999] 1573.0\n",
      "False positive items:  [6, 1.7] 1479.0\n",
      "False positive items:  [6, 1.7999999999999998] 1067.0\n",
      "False positive items:  [6, 1.9] 828.0\n",
      "False positive items:  [6, 2.0] 671.0\n",
      "False positive items:  [6, 2.0999999999999996] 605.0\n",
      "False positive items:  [6, 2.1999999999999997] 523.0\n",
      "False positive items:  [6, 2.3] 430.0\n",
      "False positive items:  [7, 1.4] 1789.0\n",
      "False positive items:  [7, 1.5] 1479.0\n",
      "False positive items:  [7, 1.5999999999999999] 1067.0\n",
      "False positive items:  [7, 1.7] 774.0\n",
      "False positive items:  [7, 1.7999999999999998] 605.0\n",
      "False positive items:  [7, 1.9] 434.0\n",
      "False positive items:  [7, 2.0] 429.0\n",
      "False positive items:  [7, 2.0999999999999996] 330.0\n",
      "False positive items:  [7, 2.1999999999999997] 325.0\n",
      "False positive items:  [7, 2.3] 316.0\n",
      "False positive items:  [8, 1.4] 1205.0\n",
      "False positive items:  [8, 1.5] 845.0\n",
      "False positive items:  [8, 1.5999999999999999] 605.0\n",
      "False positive items:  [8, 1.7] 435.0\n",
      "False positive items:  [8, 1.7999999999999998] 323.0\n",
      "False positive items:  [8, 1.9] 325.0\n",
      "False positive items:  [8, 2.0] 327.0\n"
     ]
    },
    {
     "name": "stderr",
     "output_type": "stream",
     "text": [
      "C:\\Users\\daizw\\Anaconda3\\lib\\site-packages\\ipykernel_launcher.py:5: RuntimeWarning: divide by zero encountered in double_scalars\n",
      "  \"\"\"\n"
     ]
    },
    {
     "name": "stdout",
     "output_type": "stream",
     "text": [
      "False positive items:  [8, 2.0999999999999996] 325.0\n",
      "False positive items:  [8, 2.1999999999999997] 334.0\n",
      "False positive items:  [8, 2.3] 324.0\n",
      "False positive items:  [9, 1.4] 845.0\n",
      "False positive items:  [9, 1.5] 605.0\n",
      "False positive items:  [9, 1.5999999999999999] 431.0\n",
      "False positive items:  [9, 1.7] 340.0\n",
      "False positive items:  [9, 1.7999999999999998] 329.0\n",
      "False positive items:  [9, 1.9] 327.0\n",
      "False positive items:  [9, 2.0] 323.0\n",
      "False positive items:  [9, 2.0999999999999996] 331.0\n",
      "False positive items:  [9, 2.1999999999999997] 328.0\n",
      "False positive items:  [9, 2.3] 279.0\n",
      "False positive items:  [10, 1.4] 605.0\n",
      "False positive items:  [10, 1.5] 433.0\n",
      "False positive items:  [10, 1.5999999999999999] 338.0\n",
      "False positive items:  [10, 1.7] 337.0\n",
      "False positive items:  [10, 1.7999999999999998] 325.0\n",
      "False positive items:  [10, 1.9] 325.0\n",
      "False positive items:  [10, 2.0] 327.0\n",
      "False positive items:  [10, 2.0999999999999996] 310.0\n",
      "False positive items:  [10, 2.1999999999999997] 352.0\n",
      "False positive items:  [10, 2.3] 312.0\n"
     ]
    }
   ],
   "source": [
    "c_set = np.linspace(1.4, 2.3, 10)\n",
    "\n",
    "R_sum = 150000\n",
    "\n",
    "for num_group in range(6,11):\n",
    "    for c in c_set:\n",
    "        ### Determine the thresholds\n",
    "        thresholds = np.zeros(num_group+1)\n",
    "        thresholds[0] = 0\n",
    "        thresholds[-1] = 1\n",
    "        num_negative = sum(train_negative.loc[:,'score'] <= thresholds[-1])\n",
    "        tau = sum(c**np.arange(0, num_group, 1)) \n",
    "        num_piece = int(num_negative/tau)\n",
    "        score = train_negative.loc[(train_negative.loc[:,'score'] <= thresholds[-1]),'score']\n",
    "        score = np.sort(score)\n",
    "        for i in range(num_group-1):\n",
    "            score_1 = score[score<=thresholds[-(i+1)]]\n",
    "            thresholds[-(i+2)] = score_1[-int(num_piece*c**i)]\n",
    "        \n",
    "        ### Count the keys of each group\n",
    "        url =  train_positive.loc[(train_positive.loc[:,'score'] < thresholds[-1]),'md5']\n",
    "        score = train_positive.loc[(train_positive.loc[:,'score'] < thresholds[-1]),'score']\n",
    "\n",
    "        count_key = np.zeros(num_group)\n",
    "        url_group = []\n",
    "        bloom_filter = []\n",
    "        for j in range(int(num_group)):\n",
    "            count_key[j] = sum((score >= thresholds[j]) & (score < thresholds[j+1]))\n",
    "            url_group.append(url[(score >= thresholds[j]) & (score < thresholds[j+1])])\n",
    "            \n",
    "        ### Search the Bloom filters' size\n",
    "        R = np.zeros(num_group - 1)\n",
    "        R[:] = 0.5*R_sum\n",
    "        kk = 1\n",
    "        while abs(sum(R)-R_sum)>200:\n",
    "            if (sum(R)>R_sum):\n",
    "                R[0] = R[0] - int((0.5*R_sum)*(0.5)**kk+1)\n",
    "            else:\n",
    "                R[0] = R[0] + int((0.5*R_sum)*(0.5)**kk+1)\n",
    "            for j in range(1, int(num_group-1)):\n",
    "                R[j] = max(int(count_key[j]*(R[0]/count_key[0]+j*np.log(c)/np.log(0.618))),1)\n",
    "            if int((0.5*R_sum)*(0.5)**kk+1) == 1:\n",
    "                break\n",
    "            kk += 1\n",
    "        \n",
    "        Bloom_Filters = []\n",
    "        for j in range(int(num_group-1)):\n",
    "            Bloom_Filters.append(BloomFilter_3(count_key[j], R[j]))\n",
    "            Bloom_Filters[j].insert(url_group[j])\n",
    "            \n",
    "        ### Test URLs\n",
    "        ML_positive = train_negative.loc[(train_negative.loc[:,'score'] >= thresholds[-2]),'md5']\n",
    "        url_negative =  train_negative.loc[(train_negative.loc[:,'score'] < thresholds[-2]),'md5']\n",
    "        score_negative = train_negative.loc[(train_negative.loc[:,'score'] < thresholds[-2]),'score']\n",
    "\n",
    "        test_result = np.zeros(len(url_negative))\n",
    "        ss = 0\n",
    "        for score_s, url_s in zip(score_negative, url_negative):\n",
    "            ix = min(np.where(score_s < thresholds)[0])\n",
    "            test_result[ss] = Bloom_Filters[ix-1].test(url_s)\n",
    "            ss += 1\n",
    "        print('False positive items: ', [num_group, c], sum(test_result)+len(ML_positive))"
   ]
  },
  {
   "cell_type": "markdown",
   "metadata": {},
   "source": [
    "#### Search Optimal k_max and c (Hash_len = 200000)"
   ]
  },
  {
   "cell_type": "code",
   "execution_count": 21,
   "metadata": {},
   "outputs": [
    {
     "name": "stdout",
     "output_type": "stream",
     "text": [
      "False positive items:  [7, 1.4] 1789.0\n",
      "False positive items:  [7, 1.5] 1479.0\n",
      "False positive items:  [7, 1.5999999999999999] 1067.0\n",
      "False positive items:  [7, 1.7] 774.0\n",
      "False positive items:  [7, 1.7999999999999998] 605.0\n",
      "False positive items:  [7, 1.9] 427.0\n",
      "False positive items:  [7, 2.0] 426.0\n",
      "False positive items:  [7, 2.0999999999999996] 306.0\n",
      "False positive items:  [7, 2.1999999999999997] 303.0\n",
      "False positive items:  [7, 2.3] 308.0\n",
      "False positive items:  [8, 1.4] 1205.0\n",
      "False positive items:  [8, 1.5] 845.0\n",
      "False positive items:  [8, 1.5999999999999999] 605.0\n",
      "False positive items:  [8, 1.7] 428.0\n",
      "False positive items:  [8, 1.7999999999999998] 306.0\n",
      "False positive items:  [8, 1.9] 302.0\n",
      "False positive items:  [8, 2.0] 305.0\n"
     ]
    },
    {
     "name": "stderr",
     "output_type": "stream",
     "text": [
      "C:\\Users\\daizw\\Anaconda3\\lib\\site-packages\\ipykernel_launcher.py:5: RuntimeWarning: divide by zero encountered in double_scalars\n",
      "  \"\"\"\n"
     ]
    },
    {
     "name": "stdout",
     "output_type": "stream",
     "text": [
      "False positive items:  [8, 2.0999999999999996] 309.0\n",
      "False positive items:  [8, 2.1999999999999997] 314.0\n",
      "False positive items:  [8, 2.3] 304.0\n",
      "False positive items:  [9, 1.4] 845.0\n",
      "False positive items:  [9, 1.5] 605.0\n",
      "False positive items:  [9, 1.5999999999999999] 427.0\n",
      "False positive items:  [9, 1.7] 305.0\n",
      "False positive items:  [9, 1.7999999999999998] 307.0\n",
      "False positive items:  [9, 1.9] 304.0\n",
      "False positive items:  [9, 2.0] 304.0\n",
      "False positive items:  [9, 2.0999999999999996] 308.0\n",
      "False positive items:  [9, 2.1999999999999997] 302.0\n",
      "False positive items:  [9, 2.3] 198.0\n",
      "False positive items:  [10, 1.4] 605.0\n",
      "False positive items:  [10, 1.5] 428.0\n",
      "False positive items:  [10, 1.5999999999999999] 306.0\n",
      "False positive items:  [10, 1.7] 308.0\n",
      "False positive items:  [10, 1.7999999999999998] 309.0\n",
      "False positive items:  [10, 1.9] 304.0\n",
      "False positive items:  [10, 2.0] 304.0\n",
      "False positive items:  [10, 2.0999999999999996] 171.0\n",
      "False positive items:  [10, 2.1999999999999997] 204.0\n",
      "False positive items:  [10, 2.3] 186.0\n",
      "False positive items:  [11, 1.4] 428.0\n",
      "False positive items:  [11, 1.5] 303.0\n",
      "False positive items:  [11, 1.5999999999999999] 306.0\n",
      "False positive items:  [11, 1.7] 305.0\n",
      "False positive items:  [11, 1.7999999999999998] 307.0\n",
      "False positive items:  [11, 1.9] 227.0\n",
      "False positive items:  [11, 2.0] 188.0\n",
      "False positive items:  [11, 2.0999999999999996] 174.0\n",
      "False positive items:  [11, 2.1999999999999997] 210.0\n",
      "False positive items:  [11, 2.3] 166.0\n"
     ]
    }
   ],
   "source": [
    "c_set = np.linspace(1.4, 2.3, 10)\n",
    "\n",
    "R_sum = 200000\n",
    "\n",
    "for num_group in range(7,12):\n",
    "    for c in c_set:\n",
    "        ### Determine the thresholds\n",
    "        thresholds = np.zeros(num_group+1)\n",
    "        thresholds[0] = 0\n",
    "        thresholds[-1] = 1\n",
    "        num_negative = sum(train_negative.loc[:,'score'] <= thresholds[-1])\n",
    "        tau = sum(c**np.arange(0, num_group, 1)) \n",
    "        num_piece = int(num_negative/tau)\n",
    "        score = train_negative.loc[(train_negative.loc[:,'score'] <= thresholds[-1]),'score']\n",
    "        score = np.sort(score)\n",
    "        for i in range(num_group-1):\n",
    "            score_1 = score[score<=thresholds[-(i+1)]]\n",
    "            thresholds[-(i+2)] = score_1[-int(num_piece*c**i)]\n",
    "        \n",
    "        ### Count the keys of each group\n",
    "        url =  train_positive.loc[(train_positive.loc[:,'score'] < thresholds[-1]),'md5']\n",
    "        score = train_positive.loc[(train_positive.loc[:,'score'] < thresholds[-1]),'score']\n",
    "\n",
    "        count_key = np.zeros(num_group)\n",
    "        url_group = []\n",
    "        bloom_filter = []\n",
    "        for j in range(int(num_group)):\n",
    "            count_key[j] = sum((score >= thresholds[j]) & (score < thresholds[j+1]))\n",
    "            url_group.append(url[(score >= thresholds[j]) & (score < thresholds[j+1])])\n",
    "            \n",
    "        ### Search the Bloom filters' size\n",
    "        R = np.zeros(num_group - 1)\n",
    "        R[:] = 0.5*R_sum\n",
    "        kk = 1\n",
    "        while abs(sum(R)-R_sum)>200:\n",
    "            if (sum(R)>R_sum):\n",
    "                R[0] = R[0] - int((0.5*R_sum)*(0.5)**kk+1)\n",
    "            else:\n",
    "                R[0] = R[0] + int((0.5*R_sum)*(0.5)**kk+1)\n",
    "            for j in range(1, int(num_group-1)):\n",
    "                R[j] = max(int(count_key[j]*(R[0]/count_key[0]+j*np.log(c)/np.log(0.618))),1)\n",
    "            if int((0.5*R_sum)*(0.5)**kk+1) == 1:\n",
    "                break\n",
    "            kk += 1\n",
    "        \n",
    "        Bloom_Filters = []\n",
    "        for j in range(int(num_group-1)):\n",
    "            Bloom_Filters.append(BloomFilter_3(count_key[j], R[j]))\n",
    "            Bloom_Filters[j].insert(url_group[j])\n",
    "            \n",
    "        ### Test URLs\n",
    "        ML_positive = train_negative.loc[(train_negative.loc[:,'score'] >= thresholds[-2]),'md5']\n",
    "        url_negative =  train_negative.loc[(train_negative.loc[:,'score'] < thresholds[-2]),'md5']\n",
    "        score_negative = train_negative.loc[(train_negative.loc[:,'score'] < thresholds[-2]),'score']\n",
    "\n",
    "        test_result = np.zeros(len(url_negative))\n",
    "        ss = 0\n",
    "        for score_s, url_s in zip(score_negative, url_negative):\n",
    "            ix = min(np.where(score_s < thresholds)[0])\n",
    "            test_result[ss] = Bloom_Filters[ix-1].test(url_s)\n",
    "            ss += 1\n",
    "        print('False positive items: ', [num_group, c], sum(test_result)+len(ML_positive))"
   ]
  },
  {
   "cell_type": "markdown",
   "metadata": {},
   "source": [
    "#### Search Optimal k_max and c (Hash_len = 250000)"
   ]
  },
  {
   "cell_type": "code",
   "execution_count": 22,
   "metadata": {},
   "outputs": [
    {
     "name": "stdout",
     "output_type": "stream",
     "text": [
      "False positive items:  [7, 1.4] 1789.0\n",
      "False positive items:  [7, 1.5] 1479.0\n",
      "False positive items:  [7, 1.5999999999999999] 1067.0\n",
      "False positive items:  [7, 1.7] 774.0\n",
      "False positive items:  [7, 1.7999999999999998] 605.0\n",
      "False positive items:  [7, 1.9] 426.0\n",
      "False positive items:  [7, 2.0] 426.0\n",
      "False positive items:  [7, 2.0999999999999996] 301.0\n",
      "False positive items:  [7, 2.1999999999999997] 300.0\n",
      "False positive items:  [7, 2.3] 300.0\n",
      "False positive items:  [8, 1.4] 1205.0\n",
      "False positive items:  [8, 1.5] 845.0\n",
      "False positive items:  [8, 1.5999999999999999] 605.0\n",
      "False positive items:  [8, 1.7] 426.0\n",
      "False positive items:  [8, 1.7999999999999998] 304.0\n",
      "False positive items:  [8, 1.9] 302.0\n",
      "False positive items:  [8, 2.0] 303.0\n"
     ]
    },
    {
     "name": "stderr",
     "output_type": "stream",
     "text": [
      "C:\\Users\\daizw\\Anaconda3\\lib\\site-packages\\ipykernel_launcher.py:5: RuntimeWarning: divide by zero encountered in double_scalars\n",
      "  \"\"\"\n"
     ]
    },
    {
     "name": "stdout",
     "output_type": "stream",
     "text": [
      "False positive items:  [8, 2.0999999999999996] 300.0\n",
      "False positive items:  [8, 2.1999999999999997] 301.0\n",
      "False positive items:  [8, 2.3] 300.0\n",
      "False positive items:  [9, 1.4] 845.0\n",
      "False positive items:  [9, 1.5] 605.0\n",
      "False positive items:  [9, 1.5999999999999999] 426.0\n",
      "False positive items:  [9, 1.7] 302.0\n",
      "False positive items:  [9, 1.7999999999999998] 302.0\n",
      "False positive items:  [9, 1.9] 301.0\n",
      "False positive items:  [9, 2.0] 300.0\n",
      "False positive items:  [9, 2.0999999999999996] 303.0\n",
      "False positive items:  [9, 2.1999999999999997] 306.0\n",
      "False positive items:  [9, 2.3] 121.0\n",
      "False positive items:  [10, 1.4] 605.0\n",
      "False positive items:  [10, 1.5] 426.0\n",
      "False positive items:  [10, 1.5999999999999999] 305.0\n",
      "False positive items:  [10, 1.7] 300.0\n",
      "False positive items:  [10, 1.7999999999999998] 301.0\n",
      "False positive items:  [10, 1.9] 301.0\n",
      "False positive items:  [10, 2.0] 300.0\n",
      "False positive items:  [10, 2.0999999999999996] 113.0\n",
      "False positive items:  [10, 2.1999999999999997] 144.0\n",
      "False positive items:  [10, 2.3] 115.0\n",
      "False positive items:  [11, 1.4] 426.0\n",
      "False positive items:  [11, 1.5] 302.0\n",
      "False positive items:  [11, 1.5999999999999999] 302.0\n",
      "False positive items:  [11, 1.7] 300.0\n",
      "False positive items:  [11, 1.7999999999999998] 303.0\n",
      "False positive items:  [11, 1.9] 129.0\n",
      "False positive items:  [11, 2.0] 112.0\n",
      "False positive items:  [11, 2.0999999999999996] 124.0\n",
      "False positive items:  [11, 2.1999999999999997] 117.0\n",
      "False positive items:  [11, 2.3] 119.0\n"
     ]
    }
   ],
   "source": [
    "c_set = np.linspace(1.4, 2.3, 10)\n",
    "\n",
    "R_sum = 250000\n",
    "\n",
    "for num_group in range(7,12):\n",
    "    for c in c_set:\n",
    "        ### Determine the thresholds\n",
    "        thresholds = np.zeros(num_group+1)\n",
    "        thresholds[0] = 0\n",
    "        thresholds[-1] = 1\n",
    "        num_negative = sum(train_negative.loc[:,'score'] <= thresholds[-1])\n",
    "        tau = sum(c**np.arange(0, num_group, 1)) \n",
    "        num_piece = int(num_negative/tau)\n",
    "        score = train_negative.loc[(train_negative.loc[:,'score'] <= thresholds[-1]),'score']\n",
    "        score = np.sort(score)\n",
    "        for i in range(num_group-1):\n",
    "            score_1 = score[score<=thresholds[-(i+1)]]\n",
    "            thresholds[-(i+2)] = score_1[-int(num_piece*c**i)]\n",
    "        \n",
    "        ### Count the keys of each group\n",
    "        url =  train_positive.loc[(train_positive.loc[:,'score'] < thresholds[-1]),'md5']\n",
    "        score = train_positive.loc[(train_positive.loc[:,'score'] < thresholds[-1]),'score']\n",
    "\n",
    "        count_key = np.zeros(num_group)\n",
    "        url_group = []\n",
    "        bloom_filter = []\n",
    "        for j in range(int(num_group)):\n",
    "            count_key[j] = sum((score >= thresholds[j]) & (score < thresholds[j+1]))\n",
    "            url_group.append(url[(score >= thresholds[j]) & (score < thresholds[j+1])])\n",
    "            \n",
    "        ### Search the Bloom filters' size\n",
    "        R = np.zeros(num_group - 1)\n",
    "        R[:] = 0.5*R_sum\n",
    "        kk = 1\n",
    "        while abs(sum(R)-R_sum)>200:\n",
    "            if (sum(R)>R_sum):\n",
    "                R[0] = R[0] - int((0.5*R_sum)*(0.5)**kk+1)\n",
    "            else:\n",
    "                R[0] = R[0] + int((0.5*R_sum)*(0.5)**kk+1)\n",
    "            for j in range(1, int(num_group-1)):\n",
    "                R[j] = max(int(count_key[j]*(R[0]/count_key[0]+j*np.log(c)/np.log(0.618))),1)\n",
    "            if int((0.5*R_sum)*(0.5)**kk+1) == 1:\n",
    "                break\n",
    "            kk += 1\n",
    "        \n",
    "        Bloom_Filters = []\n",
    "        for j in range(int(num_group-1)):\n",
    "            Bloom_Filters.append(BloomFilter_3(count_key[j], R[j]))\n",
    "            Bloom_Filters[j].insert(url_group[j])\n",
    "            \n",
    "        ### Test URLs\n",
    "        ML_positive = train_negative.loc[(train_negative.loc[:,'score'] >= thresholds[-2]),'md5']\n",
    "        url_negative =  train_negative.loc[(train_negative.loc[:,'score'] < thresholds[-2]),'md5']\n",
    "        score_negative = train_negative.loc[(train_negative.loc[:,'score'] < thresholds[-2]),'score']\n",
    "\n",
    "        test_result = np.zeros(len(url_negative))\n",
    "        ss = 0\n",
    "        for score_s, url_s in zip(score_negative, url_negative):\n",
    "            ix = min(np.where(score_s < thresholds)[0])\n",
    "            test_result[ss] = Bloom_Filters[ix-1].test(url_s)\n",
    "            ss += 1\n",
    "        print('False positive items: ', [num_group, c], sum(test_result)+len(ML_positive))"
   ]
  },
  {
   "cell_type": "markdown",
   "metadata": {},
   "source": [
    "## <font color='red'> Enhanced Version of ML based Bloom Filter (Version 2)</font>"
   ]
  },
  {
   "cell_type": "markdown",
   "metadata": {},
   "source": [
    "#### Search Optimal k_max and c (Hash_len = 100000)"
   ]
  },
  {
   "cell_type": "code",
   "execution_count": 23,
   "metadata": {},
   "outputs": [
    {
     "name": "stdout",
     "output_type": "stream",
     "text": [
      "False positive items:  [7, 1.4] 1230.0\n",
      "False positive items:  [7, 1.5] 903.0\n",
      "False positive items:  [7, 1.5999999999999999] 630.0\n",
      "False positive items:  [7, 1.7] 439.0\n",
      "False positive items:  [7, 1.7999999999999998] 435.0\n",
      "False positive items:  [7, 1.9] 729.0\n",
      "False positive items:  [7, 2.0] 718.0\n",
      "False positive items:  [7, 2.0999999999999996] 2694.0\n",
      "False positive items:  [7, 2.1999999999999997] 2606.0\n",
      "False positive items:  [7, 2.3] 2413.0\n",
      "False positive items:  [8, 1.4] 882.0\n",
      "False positive items:  [8, 1.5] 627.0\n",
      "False positive items:  [8, 1.5999999999999999] 444.0\n",
      "False positive items:  [8, 1.7] 613.0\n",
      "False positive items:  [8, 1.7999999999999998] 577.0\n",
      "False positive items:  [8, 1.9] 1967.0\n",
      "False positive items:  [8, 2.0] 1929.0\n",
      "False positive items:  [8, 2.0999999999999996] 5859.0\n",
      "False positive items:  [8, 2.1999999999999997] 5880.0\n",
      "False positive items:  [8, 2.3] 13505.0\n",
      "False positive items:  [9, 1.4] 635.0\n",
      "False positive items:  [9, 1.5] 430.0\n",
      "False positive items:  [9, 1.5999999999999999] 440.0\n",
      "False positive items:  [9, 1.7] 1647.0\n",
      "False positive items:  [9, 1.7999999999999998] 1556.0\n",
      "False positive items:  [9, 1.9] 4742.0\n",
      "False positive items:  [9, 2.0] 4737.0\n",
      "False positive items:  [9, 2.0999999999999996] 18431.0\n",
      "False positive items:  [9, 2.1999999999999997] 18405.0\n",
      "False positive items:  [9, 2.3] 26044.0\n",
      "False positive items:  [10, 1.4] 434.0\n",
      "False positive items:  [10, 1.5] 438.0\n",
      "False positive items:  [10, 1.5999999999999999] 1273.0\n",
      "False positive items:  [10, 1.7] 4064.0\n",
      "False positive items:  [10, 1.7999999999999998] 4222.0\n",
      "False positive items:  [10, 1.9] 17335.0\n",
      "False positive items:  [10, 2.0] 17467.0\n",
      "False positive items:  [10, 2.0999999999999996] 29464.0\n",
      "False positive items:  [10, 2.1999999999999997] 29905.0\n",
      "False positive items:  [10, 2.3] 34276.0\n",
      "False positive items:  [11, 1.4] 473.0\n",
      "False positive items:  [11, 1.5] 1153.0\n",
      "False positive items:  [11, 1.5999999999999999] 3397.0\n",
      "False positive items:  [11, 1.7] 8083.0\n",
      "False positive items:  [11, 1.7999999999999998] 16369.0\n",
      "False positive items:  [11, 1.9] 28856.0\n",
      "False positive items:  [11, 2.0] 28853.0\n",
      "False positive items:  [11, 2.0999999999999996] 33654.0\n",
      "False positive items:  [11, 2.1999999999999997] 35804.0\n",
      "False positive items:  [11, 2.3] 35953.0\n"
     ]
    }
   ],
   "source": [
    "k_min = 0\n",
    "k_max_set = range(7,12)\n",
    "c_set = np.linspace(1.4, 2.3, 10)\n",
    "for k_max in k_max_set:\n",
    "    for c in c_set:\n",
    "        tau = sum(c**np.arange(0, k_max-k_min+1, 1)) \n",
    "        n = train_positive.shape[0]\n",
    "        hash_len = 100000\n",
    "        bloom_filter = BloomFilter_2(n, hash_len, k_max)\n",
    "        thresholds = np.zeros(k_max-k_min+1)\n",
    "        thresholds[-1] = 1\n",
    "        num_negative = sum(train_negative.loc[:,'score'] <= thresholds[-1])\n",
    "        num_piece = int(num_negative/tau)+1\n",
    "        score = train_negative.loc[(train_negative.loc[:,'score'] <= thresholds[-1]),'score']\n",
    "        score = np.sort(score)\n",
    "        for k in range(k_min,k_max):\n",
    "            i = k - k_min\n",
    "            score_1 = score[score<=thresholds[-(i+1)]]\n",
    "            thresholds[-(i+2)] = score_1[-int(num_piece*c**i)]\n",
    "        url =  train_positive.loc[(train_positive.loc[:,'score'] < thresholds[-1]),'md5']\n",
    "        score = train_positive.loc[(train_positive.loc[:,'score'] < thresholds[-1]),'score']\n",
    "\n",
    "        for score_s, url_s in zip(score, url):\n",
    "            ix = min(np.where(score_s<=thresholds)[0])\n",
    "            thres = thresholds[ix]\n",
    "            k = k_max - ix\n",
    "            bloom_filter.insert(url_s, k)\n",
    "        ML_positive = train_negative.loc[(train_negative.loc[:,'score'] > thresholds[-1]),'md5']\n",
    "        url_negative =  train_negative.loc[(train_negative.loc[:,'score'] <= thresholds[-1]),'md5']\n",
    "        score_negative = train_negative.loc[(train_negative.loc[:,'score'] <= thresholds[-1]),'score']\n",
    "\n",
    "        test_result = np.zeros(len(url_negative))\n",
    "        ss = 0\n",
    "        for score_s, url_s in zip(score_negative, url_negative):\n",
    "            ix = min(np.where(score_s<=thresholds)[0])\n",
    "            thres = thresholds[ix]\n",
    "            k = k_max - ix\n",
    "            test_result[ss] = bloom_filter.test(url_s, k)\n",
    "            ss += 1\n",
    "        print('False positive items: ', [k_max, c], sum(test_result)+len(ML_positive))"
   ]
  },
  {
   "cell_type": "markdown",
   "metadata": {},
   "source": [
    "#### Corresponding performance on the testing set (Hash_len = 100000)"
   ]
  },
  {
   "cell_type": "code",
   "execution_count": 51,
   "metadata": {},
   "outputs": [
    {
     "name": "stdout",
     "output_type": "stream",
     "text": [
      "False positive items:  [10, 1.5] 211.0\n"
     ]
    }
   ],
   "source": [
    "k_min = 0\n",
    "k_max = 10\n",
    "c = 1.5\n",
    "\n",
    "\n",
    "tau = sum(c**np.arange(0, k_max-k_min+1, 1)) \n",
    "n = train_positive.shape[0]\n",
    "hash_len = 100000\n",
    "bloom_filter = BloomFilter_2(n, hash_len, k_max)\n",
    "thresholds = np.zeros(k_max-k_min+1)\n",
    "thresholds[-1] = 1\n",
    "num_negative = sum(train_negative.loc[:,'score'] <= thresholds[-1])\n",
    "num_piece = int(num_negative/tau)+1\n",
    "score = train_negative.loc[(train_negative.loc[:,'score'] <= thresholds[-1]),'score']\n",
    "score = np.sort(score)\n",
    "for k in range(k_min,k_max):\n",
    "    i = k - k_min\n",
    "    score_1 = score[score<=thresholds[-(i+1)]]\n",
    "    thresholds[-(i+2)] = score_1[-int(num_piece*c**i)]\n",
    "url =  train_positive.loc[(train_positive.loc[:,'score'] < thresholds[-1]),'md5']\n",
    "score = train_positive.loc[(train_positive.loc[:,'score'] < thresholds[-1]),'score']\n",
    "\n",
    "for score_s, url_s in zip(score, url):\n",
    "    ix = min(np.where(score_s<=thresholds)[0])\n",
    "    thres = thresholds[ix]\n",
    "    k = k_max - ix\n",
    "    bloom_filter.insert(url_s, k)\n",
    "ML_positive = test_negative.loc[(test_negative.loc[:,'score'] > thresholds[-1]),'md5']\n",
    "url_negative =  test_negative.loc[(test_negative.loc[:,'score'] <= thresholds[-1]),'md5']\n",
    "score_negative = test_negative.loc[(test_negative.loc[:,'score'] <= thresholds[-1]),'score']\n",
    "\n",
    "test_result = np.zeros(len(url_negative))\n",
    "ss = 0\n",
    "for score_s, url_s in zip(score_negative, url_negative):\n",
    "    ix = min(np.where(score_s<=thresholds)[0])\n",
    "    thres = thresholds[ix]\n",
    "    k = k_max - ix\n",
    "    test_result[ss] = bloom_filter.test(url_s, k)\n",
    "    ss += 1\n",
    "print('False positive items: ', [k_max, c], sum(test_result)+len(ML_positive))"
   ]
  },
  {
   "cell_type": "markdown",
   "metadata": {},
   "source": [
    "#### Search Optimal k_max and c (Hash_len = 150000)"
   ]
  },
  {
   "cell_type": "code",
   "execution_count": 24,
   "metadata": {},
   "outputs": [
    {
     "name": "stdout",
     "output_type": "stream",
     "text": [
      "False positive items:  [7, 1.4] 1225.0\n",
      "False positive items:  [7, 1.5] 882.0\n",
      "False positive items:  [7, 1.5999999999999999] 576.0\n",
      "False positive items:  [7, 1.7] 399.0\n",
      "False positive items:  [7, 1.7999999999999998] 384.0\n",
      "False positive items:  [7, 1.9] 327.0\n",
      "False positive items:  [7, 2.0] 280.0\n",
      "False positive items:  [7, 2.0999999999999996] 775.0\n",
      "False positive items:  [7, 2.1999999999999997] 731.0\n",
      "False positive items:  [7, 2.3] 647.0\n",
      "False positive items:  [8, 1.4] 886.0\n",
      "False positive items:  [8, 1.5] 599.0\n",
      "False positive items:  [8, 1.5999999999999999] 390.0\n",
      "False positive items:  [8, 1.7] 293.0\n",
      "False positive items:  [8, 1.7999999999999998] 268.0\n",
      "False positive items:  [8, 1.9] 496.0\n",
      "False positive items:  [8, 2.0] 473.0\n",
      "False positive items:  [8, 2.0999999999999996] 1370.0\n",
      "False positive items:  [8, 2.1999999999999997] 1492.0\n",
      "False positive items:  [8, 2.3] 4245.0\n",
      "False positive items:  [9, 1.4] 590.0\n",
      "False positive items:  [9, 1.5] 379.0\n",
      "False positive items:  [9, 1.5999999999999999] 228.0\n",
      "False positive items:  [9, 1.7] 470.0\n",
      "False positive items:  [9, 1.7999999999999998] 443.0\n",
      "False positive items:  [9, 1.9] 1029.0\n",
      "False positive items:  [9, 2.0] 1019.0\n",
      "False positive items:  [9, 2.0999999999999996] 6456.0\n",
      "False positive items:  [9, 2.1999999999999997] 6619.0\n",
      "False positive items:  [9, 2.3] 11325.0\n",
      "False positive items:  [10, 1.4] 383.0\n",
      "False positive items:  [10, 1.5] 253.0\n",
      "False positive items:  [10, 1.5999999999999999] 356.0\n",
      "False positive items:  [10, 1.7] 803.0\n",
      "False positive items:  [10, 1.7999999999999998] 845.0\n",
      "False positive items:  [10, 1.9] 5591.0\n",
      "False positive items:  [10, 2.0] 5438.0\n",
      "False positive items:  [10, 2.0999999999999996] 14237.0\n",
      "False positive items:  [10, 2.1999999999999997] 14493.0\n",
      "False positive items:  [10, 2.3] 19797.0\n",
      "False positive items:  [11, 1.4] 268.0\n",
      "False positive items:  [11, 1.5] 278.0\n",
      "False positive items:  [11, 1.5999999999999999] 681.0\n",
      "False positive items:  [11, 1.7] 1730.0\n",
      "False positive items:  [11, 1.7999999999999998] 4827.0\n",
      "False positive items:  [11, 1.9] 13218.0\n",
      "False positive items:  [11, 2.0] 13192.0\n",
      "False positive items:  [11, 2.0999999999999996] 19077.0\n",
      "False positive items:  [11, 2.1999999999999997] 22947.0\n",
      "False positive items:  [11, 2.3] 22996.0\n"
     ]
    }
   ],
   "source": [
    "k_min = 0\n",
    "k_max_set = range(7,12)\n",
    "c_set = np.linspace(1.4, 2.3, 10)\n",
    "for k_max in k_max_set:\n",
    "    for c in c_set:\n",
    "        tau = sum(c**np.arange(0, k_max-k_min+1, 1)) \n",
    "        n = train_positive.shape[0]\n",
    "        hash_len = 150000\n",
    "        bloom_filter = BloomFilter_2(n, hash_len, k_max)\n",
    "        thresholds = np.zeros(k_max-k_min+1)\n",
    "        thresholds[-1] = 1\n",
    "        num_negative = sum(train_negative.loc[:,'score'] <= thresholds[-1])\n",
    "        num_piece = int(num_negative/tau)+1\n",
    "        score = train_negative.loc[(train_negative.loc[:,'score'] <= thresholds[-1]),'score']\n",
    "        score = np.sort(score)\n",
    "        for k in range(k_min,k_max):\n",
    "            i = k - k_min\n",
    "            score_1 = score[score<=thresholds[-(i+1)]]\n",
    "            thresholds[-(i+2)] = score_1[-int(num_piece*c**i)]\n",
    "        url =  train_positive.loc[(train_positive.loc[:,'score'] < thresholds[-1]),'md5']\n",
    "        score = train_positive.loc[(train_positive.loc[:,'score'] < thresholds[-1]),'score']\n",
    "\n",
    "        for score_s, url_s in zip(score, url):\n",
    "            ix = min(np.where(score_s<=thresholds)[0])\n",
    "            thres = thresholds[ix]\n",
    "            k = k_max - ix\n",
    "            bloom_filter.insert(url_s, k)\n",
    "        ML_positive = train_negative.loc[(train_negative.loc[:,'score'] > thresholds[-1]),'md5']\n",
    "        url_negative =  train_negative.loc[(train_negative.loc[:,'score'] <= thresholds[-1]),'md5']\n",
    "        score_negative = train_negative.loc[(train_negative.loc[:,'score'] <= thresholds[-1]),'score']\n",
    "\n",
    "        test_result = np.zeros(len(url_negative))\n",
    "        ss = 0\n",
    "        for score_s, url_s in zip(score_negative, url_negative):\n",
    "            ix = min(np.where(score_s<=thresholds)[0])\n",
    "            thres = thresholds[ix]\n",
    "            k = k_max - ix\n",
    "            test_result[ss] = bloom_filter.test(url_s, k)\n",
    "            ss += 1\n",
    "        print('False positive items: ', [k_max, c], sum(test_result)+len(ML_positive))"
   ]
  },
  {
   "cell_type": "markdown",
   "metadata": {},
   "source": [
    "#### Search Optimal k_max and c (Hash_len = 200000)"
   ]
  },
  {
   "cell_type": "code",
   "execution_count": 25,
   "metadata": {},
   "outputs": [
    {
     "name": "stdout",
     "output_type": "stream",
     "text": [
      "False positive items:  [7, 1.4] 1210.0\n",
      "False positive items:  [7, 1.5] 860.0\n",
      "False positive items:  [7, 1.5999999999999999] 562.0\n",
      "False positive items:  [7, 1.7] 383.0\n",
      "False positive items:  [7, 1.7999999999999998] 371.0\n",
      "False positive items:  [7, 1.9] 226.0\n",
      "False positive items:  [7, 2.0] 181.0\n",
      "False positive items:  [7, 2.0999999999999996] 333.0\n",
      "False positive items:  [7, 2.1999999999999997] 294.0\n",
      "False positive items:  [7, 2.3] 264.0\n",
      "False positive items:  [8, 1.4] 863.0\n",
      "False positive items:  [8, 1.5] 567.0\n",
      "False positive items:  [8, 1.5999999999999999] 363.0\n",
      "False positive items:  [8, 1.7] 188.0\n",
      "False positive items:  [8, 1.7999999999999998] 176.0\n",
      "False positive items:  [8, 1.9] 237.0\n",
      "False positive items:  [8, 2.0] 220.0\n",
      "False positive items:  [8, 2.0999999999999996] 467.0\n",
      "False positive items:  [8, 2.1999999999999997] 494.0\n",
      "False positive items:  [8, 2.3] 1519.0\n",
      "False positive items:  [9, 1.4] 575.0\n",
      "False positive items:  [9, 1.5] 369.0\n",
      "False positive items:  [9, 1.5999999999999999] 146.0\n",
      "False positive items:  [9, 1.7] 222.0\n",
      "False positive items:  [9, 1.7999999999999998] 190.0\n",
      "False positive items:  [9, 1.9] 361.0\n",
      "False positive items:  [9, 2.0] 293.0\n",
      "False positive items:  [9, 2.0999999999999996] 2228.0\n",
      "False positive items:  [9, 2.1999999999999997] 2321.0\n",
      "False positive items:  [9, 2.3] 4532.0\n",
      "False positive items:  [10, 1.4] 358.0\n",
      "False positive items:  [10, 1.5] 180.0\n",
      "False positive items:  [10, 1.5999999999999999] 179.0\n",
      "False positive items:  [10, 1.7] 311.0\n",
      "False positive items:  [10, 1.7999999999999998] 271.0\n",
      "False positive items:  [10, 1.9] 1749.0\n",
      "False positive items:  [10, 2.0] 1785.0\n",
      "False positive items:  [10, 2.0999999999999996] 6257.0\n",
      "False positive items:  [10, 2.1999999999999997] 6299.0\n",
      "False positive items:  [10, 2.3] 9851.0\n",
      "False positive items:  [11, 1.4] 178.0\n",
      "False positive items:  [11, 1.5] 150.0\n",
      "False positive items:  [11, 1.5999999999999999] 220.0\n",
      "False positive items:  [11, 1.7] 444.0\n",
      "False positive items:  [11, 1.7999999999999998] 1475.0\n",
      "False positive items:  [11, 1.9] 5466.0\n",
      "False positive items:  [11, 2.0] 5301.0\n",
      "False positive items:  [11, 2.0999999999999996] 8885.0\n",
      "False positive items:  [11, 2.1999999999999997] 11945.0\n",
      "False positive items:  [11, 2.3] 12211.0\n"
     ]
    }
   ],
   "source": [
    "k_min = 0\n",
    "k_max_set = range(7,12)\n",
    "c_set = np.linspace(1.4, 2.3, 10)\n",
    "for k_max in k_max_set:\n",
    "    for c in c_set:\n",
    "        tau = sum(c**np.arange(0, k_max-k_min+1, 1)) \n",
    "        n = train_positive.shape[0]\n",
    "        hash_len = 200000\n",
    "        bloom_filter = BloomFilter_2(n, hash_len, k_max)\n",
    "        thresholds = np.zeros(k_max-k_min+1)\n",
    "        thresholds[-1] = 1\n",
    "        num_negative = sum(train_negative.loc[:,'score'] <= thresholds[-1])\n",
    "        num_piece = int(num_negative/tau)+1\n",
    "        score = train_negative.loc[(train_negative.loc[:,'score'] <= thresholds[-1]),'score']\n",
    "        score = np.sort(score)\n",
    "        for k in range(k_min,k_max):\n",
    "            i = k - k_min\n",
    "            score_1 = score[score<=thresholds[-(i+1)]]\n",
    "            thresholds[-(i+2)] = score_1[-int(num_piece*c**i)]\n",
    "        url =  train_positive.loc[(train_positive.loc[:,'score'] < thresholds[-1]),'md5']\n",
    "        score = train_positive.loc[(train_positive.loc[:,'score'] < thresholds[-1]),'score']\n",
    "\n",
    "        for score_s, url_s in zip(score, url):\n",
    "            ix = min(np.where(score_s<=thresholds)[0])\n",
    "            thres = thresholds[ix]\n",
    "            k = k_max - ix\n",
    "            bloom_filter.insert(url_s, k)\n",
    "        ML_positive = train_negative.loc[(train_negative.loc[:,'score'] > thresholds[-1]),'md5']\n",
    "        url_negative =  train_negative.loc[(train_negative.loc[:,'score'] <= thresholds[-1]),'md5']\n",
    "        score_negative = train_negative.loc[(train_negative.loc[:,'score'] <= thresholds[-1]),'score']\n",
    "\n",
    "        test_result = np.zeros(len(url_negative))\n",
    "        ss = 0\n",
    "        for score_s, url_s in zip(score_negative, url_negative):\n",
    "            ix = min(np.where(score_s<=thresholds)[0])\n",
    "            thres = thresholds[ix]\n",
    "            k = k_max - ix\n",
    "            test_result[ss] = bloom_filter.test(url_s, k)\n",
    "            ss += 1\n",
    "        print('False positive items: ', [k_max, c], sum(test_result)+len(ML_positive))"
   ]
  },
  {
   "cell_type": "markdown",
   "metadata": {},
   "source": [
    "#### Search Optimal k_max and c (Hash_len = 250000)"
   ]
  },
  {
   "cell_type": "code",
   "execution_count": 26,
   "metadata": {
    "scrolled": true
   },
   "outputs": [
    {
     "name": "stdout",
     "output_type": "stream",
     "text": [
      "False positive items:  [7, 1.4] 1206.0\n",
      "False positive items:  [7, 1.5] 857.0\n",
      "False positive items:  [7, 1.5999999999999999] 569.0\n",
      "False positive items:  [7, 1.7] 370.0\n",
      "False positive items:  [7, 1.7999999999999998] 350.0\n",
      "False positive items:  [7, 1.9] 152.0\n",
      "False positive items:  [7, 2.0] 133.0\n",
      "False positive items:  [7, 2.0999999999999996] 210.0\n",
      "False positive items:  [7, 2.1999999999999997] 168.0\n",
      "False positive items:  [7, 2.3] 126.0\n",
      "False positive items:  [8, 1.4] 862.0\n",
      "False positive items:  [8, 1.5] 562.0\n",
      "False positive items:  [8, 1.5999999999999999] 368.0\n",
      "False positive items:  [8, 1.7] 161.0\n",
      "False positive items:  [8, 1.7999999999999998] 129.0\n",
      "False positive items:  [8, 1.9] 125.0\n",
      "False positive items:  [8, 2.0] 136.0\n",
      "False positive items:  [8, 2.0999999999999996] 211.0\n",
      "False positive items:  [8, 2.1999999999999997] 195.0\n",
      "False positive items:  [8, 2.3] 566.0\n",
      "False positive items:  [9, 1.4] 574.0\n",
      "False positive items:  [9, 1.5] 355.0\n",
      "False positive items:  [9, 1.5999999999999999] 148.0\n",
      "False positive items:  [9, 1.7] 147.0\n",
      "False positive items:  [9, 1.7999999999999998] 113.0\n",
      "False positive items:  [9, 1.9] 186.0\n",
      "False positive items:  [9, 2.0] 157.0\n",
      "False positive items:  [9, 2.0999999999999996] 913.0\n",
      "False positive items:  [9, 2.1999999999999997] 910.0\n",
      "False positive items:  [9, 2.3] 1972.0\n",
      "False positive items:  [10, 1.4] 369.0\n",
      "False positive items:  [10, 1.5] 122.0\n",
      "False positive items:  [10, 1.5999999999999999] 105.0\n",
      "False positive items:  [10, 1.7] 140.0\n",
      "False positive items:  [10, 1.7999999999999998] 156.0\n",
      "False positive items:  [10, 1.9] 662.0\n",
      "False positive items:  [10, 2.0] 629.0\n",
      "False positive items:  [10, 2.0999999999999996] 2560.0\n",
      "False positive items:  [10, 2.1999999999999997] 2623.0\n",
      "False positive items:  [10, 2.3] 4487.0\n",
      "False positive items:  [11, 1.4] 135.0\n",
      "False positive items:  [11, 1.5] 107.0\n",
      "False positive items:  [11, 1.5999999999999999] 105.0\n",
      "False positive items:  [11, 1.7] 212.0\n",
      "False positive items:  [11, 1.7999999999999998] 548.0\n",
      "False positive items:  [11, 1.9] 2136.0\n",
      "False positive items:  [11, 2.0] 2063.0\n",
      "False positive items:  [11, 2.0999999999999996] 3849.0\n",
      "False positive items:  [11, 2.1999999999999997] 5706.0\n",
      "False positive items:  [11, 2.3] 5898.0\n"
     ]
    }
   ],
   "source": [
    "k_min = 0\n",
    "k_max_set = range(7,12)\n",
    "c_set = np.linspace(1.4, 2.3, 10)\n",
    "for k_max in k_max_set:\n",
    "    for c in c_set:\n",
    "        tau = sum(c**np.arange(0, k_max-k_min+1, 1)) \n",
    "        n = train_positive.shape[0]\n",
    "        hash_len = 250000\n",
    "        bloom_filter = BloomFilter_2(n, hash_len, k_max)\n",
    "        thresholds = np.zeros(k_max-k_min+1)\n",
    "        thresholds[-1] = 1\n",
    "        num_negative = sum(train_negative.loc[:,'score'] <= thresholds[-1])\n",
    "        num_piece = int(num_negative/tau)+1\n",
    "        score = train_negative.loc[(train_negative.loc[:,'score'] <= thresholds[-1]),'score']\n",
    "        score = np.sort(score)\n",
    "        for k in range(k_min,k_max):\n",
    "            i = k - k_min\n",
    "            score_1 = score[score<=thresholds[-(i+1)]]\n",
    "            thresholds[-(i+2)] = score_1[-int(num_piece*c**i)]\n",
    "        url =  train_positive.loc[(train_positive.loc[:,'score'] < thresholds[-1]),'md5']\n",
    "        score = train_positive.loc[(train_positive.loc[:,'score'] < thresholds[-1]),'score']\n",
    "\n",
    "        for score_s, url_s in zip(score, url):\n",
    "            ix = min(np.where(score_s<=thresholds)[0])\n",
    "            thres = thresholds[ix]\n",
    "            k = k_max - ix\n",
    "            bloom_filter.insert(url_s, k)\n",
    "        ML_positive = train_negative.loc[(train_negative.loc[:,'score'] > thresholds[-1]),'md5']\n",
    "        url_negative =  train_negative.loc[(train_negative.loc[:,'score'] <= thresholds[-1]),'md5']\n",
    "        score_negative = train_negative.loc[(train_negative.loc[:,'score'] <= thresholds[-1]),'score']\n",
    "\n",
    "        test_result = np.zeros(len(url_negative))\n",
    "        ss = 0\n",
    "        for score_s, url_s in zip(score_negative, url_negative):\n",
    "            ix = min(np.where(score_s<=thresholds)[0])\n",
    "            thres = thresholds[ix]\n",
    "            k = k_max - ix\n",
    "            test_result[ss] = bloom_filter.test(url_s, k)\n",
    "            ss += 1\n",
    "        print('False positive items: ', [k_max, c], sum(test_result)+len(ML_positive))"
   ]
  },
  {
   "cell_type": "markdown",
   "metadata": {},
   "source": [
    "## <font color='red'> Generate the Figure </font>"
   ]
  },
  {
   "cell_type": "code",
   "execution_count": 22,
   "metadata": {},
   "outputs": [],
   "source": [
    "FP_item_train = {'original':np.array([616,389,319,304]), 'enhanced':np.array([430,228,150,105]), 'blocked':np.array([411,279,166,112]), 'sandwich':np.array([616,576,353,317])}\n",
    "size = 41323\n",
    "FPR_train = {'original':np.array([616,389,319,304])/size, 'enhanced':np.array([430,228,150,105])/size, 'blocked':np.array([411,279,166,112])/size, 'sandwich':np.array([616,576,353,317])/size}"
   ]
  },
  {
   "cell_type": "code",
   "execution_count": 36,
   "metadata": {},
   "outputs": [
    {
     "data": {
      "image/png": "[encoded data removed]",
      "text/plain": [
       "<Figure size 936x360 with 2 Axes>"
      ]
     },
     "metadata": {
      "needs_background": "light"
     },
     "output_type": "display_data"
    }
   ],
   "source": [
    "from matplotlib import gridspec\n",
    "\n",
    "fig = plt.figure(figsize = (13,5))\n",
    "gs = gridspec.GridSpec(1, 2, width_ratios = [1, 1])\n",
    "ax0 = plt.subplot(gs[0])\n",
    "# ax0.style.use('seaborn-deep')\n",
    "\n",
    "x = train_data.loc[train_data.loc[:,'label']==1,'score']\n",
    "y = train_data.loc[train_data.loc[:,'label']==0,'score']\n",
    "bins = np.linspace(0.1, 0.9, 25)\n",
    "ax0.hist([x, y], bins, log=True, label=['Viral', 'Benign'])\n",
    "ax0.legend(loc='upper left')\n",
    "ax0.set_title('Distribution of Scores')\n",
    "\n",
    "ax1 = plt.subplot(gs[1])\n",
    "ax1.plot([10*10**4, 15*10**4, 20*10**4, 25*10**4], FPR_train['original'], 'x-', label = 'original learned Bloom filter')\n",
    "ax1.plot([10*10**4, 15*10**4, 20*10**4, 25*10**4], FPR_train['enhanced'], 'x-', label = 'enhanced learned Bloom filter')\n",
    "ax1.plot([10*10**4, 15*10**4, 20*10**4, 25*10**4], FPR_train['blocked'], 'x-', label = 'blocked learned Bloom filter')\n",
    "ax1.plot([10*10**4, 15*10**4, 20*10**4, 25*10**4], FPR_train['sandwich'], 'x-', label = 'sandwiching learned Bloom filter')\n",
    "ax1.set_title('False Positive Rates Comparison')\n",
    "ax1.legend(loc='upper right')\n",
    "ax1.set_xticks(np.arange(100000, 260000, 25000))\n",
    "ax1.set_ylim(0, 0.018)\n",
    "ax1.set_xlabel('Budget of buckets')\n",
    "ax1.set_ylabel('False Positive Rate')\n",
    "\n",
    "fig.savefig('FPR_benchmark.png')"
   ]
  }
 ],
 "metadata": {
  "kernelspec": {
   "display_name": "Python 3",
   "language": "python",
   "name": "python3"
  },
  "language_info": {
   "codemirror_mode": {
    "name": "ipython",
    "version": 3
   },
   "file_extension": ".py",
   "mimetype": "text/x-python",
   "name": "python",
   "nbconvert_exporter": "python",
   "pygments_lexer": "ipython3",
   "version": "3.7.1"
  }
 },
 "nbformat": 4,
 "nbformat_minor": 2
}
