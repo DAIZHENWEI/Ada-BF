{
 "cells": [
  {
   "cell_type": "code",
   "execution_count": 1,
   "metadata": {},
   "outputs": [],
   "source": [
    "import numpy as np\n",
    "import random\n",
    "import pandas as pd\n",
    "import matplotlib.pyplot as plt\n",
    "from sklearn.utils import murmurhash3_32\n",
    "from random import randint\n",
    "import csv\n",
    "import sys"
   ]
  },
  {
   "cell_type": "code",
   "execution_count": 2,
   "metadata": {},
   "outputs": [],
   "source": [
    "def hashfunc(m):\n",
    "    ss = randint(1, 99999999)\n",
    "    def hash_m(x):\n",
    "        return murmurhash3_32(x,seed=ss)%m\n",
    "    return hash_m"
   ]
  },
  {
   "cell_type": "code",
   "execution_count": 3,
   "metadata": {},
   "outputs": [],
   "source": [
    "class BloomFilter():\n",
    "    def __init__(self, n, hash_len):\n",
    "        self.n = n\n",
    "        self.hash_len = int(hash_len)\n",
    "        self.k = np.round(self.hash_len/n*0.6931472)\n",
    "        self.h = []\n",
    "        for i in range(self.k.astype(int)):\n",
    "            self.h.append(hashfunc(self.hash_len))\n",
    "        self.table = np.zeros(self.hash_len, dtype=int)\n",
    "    def insert(self, key):\n",
    "        for i in key:\n",
    "            for j in range(self.k.astype(int)):\n",
    "                t = self.h[j](i)\n",
    "                self.table[t] = 1\n",
    "    def test(self, key):\n",
    "        test_result = np.zeros(len(key))\n",
    "        ss=0\n",
    "        for i in key:\n",
    "            match = 0\n",
    "            for j in range(self.k.astype(int)):\n",
    "                t = self.h[j](i)\n",
    "                match += 1*(self.table[t] == 1)\n",
    "            if match == self.k.astype(int):\n",
    "                test_result[ss] = 1\n",
    "            ss += 1  \n",
    "        return test_result"
   ]
  },
  {
   "cell_type": "markdown",
   "metadata": {},
   "source": [
    "### Insert the low risk Malicious URLs into the bloom filter"
   ]
  },
  {
   "cell_type": "code",
   "execution_count": 6,
   "metadata": {},
   "outputs": [],
   "source": [
    "train_data = pd.read_csv('C:/COMP 580/Final Project/URL_output/all_output.txt', sep = '\\t')\n",
    "test_data = pd.read_csv('C:/COMP 580/Final Project/URL_output/test_output.txt', sep = '\\t')\n",
    "\n",
    "train_negative = train_data.loc[(train_data.loc[:,'label']==-1),:]\n",
    "train_positive = train_data.loc[(train_data.loc[:,'label']==1),:]\n",
    "\n",
    "test_negative = test_data.loc[(test_data.loc[:,'label']==-1),:]\n",
    "test_positive = test_data.loc[(test_data.loc[:,'label']==1),:]"
   ]
  },
  {
   "cell_type": "code",
   "execution_count": 39,
   "metadata": {},
   "outputs": [
    {
     "data": {
      "text/plain": [
       "(344821, 4)"
      ]
     },
     "execution_count": 39,
     "metadata": {},
     "output_type": "execute_result"
    }
   ],
   "source": [
    "train_negative.shape"
   ]
  },
  {
   "cell_type": "code",
   "execution_count": 37,
   "metadata": {},
   "outputs": [
    {
     "data": {
      "image/png": "[encoded data removed]",
      "text/plain": [
       "<Figure size 432x288 with 1 Axes>"
      ]
     },
     "metadata": {
      "needs_background": "light"
     },
     "output_type": "display_data"
    }
   ],
   "source": [
    "plt.style.use('seaborn-deep')\n",
    "\n",
    "x = train_data.loc[train_data.loc[:,'label']==1,'score']\n",
    "y = train_data.loc[train_data.loc[:,'label']==-1,'score']\n",
    "bins = np.linspace(0, 1, 25)\n",
    "\n",
    "plt.hist([x, y], bins, log=True, label=['Malicious', 'Benign'])\n",
    "plt.legend(loc='upper right')\n",
    "plt.show()"
   ]
  },
  {
   "cell_type": "markdown",
   "metadata": {},
   "source": [
    "### Testing the FNR and FPR (insample testing)"
   ]
  },
  {
   "cell_type": "markdown",
   "metadata": {},
   "source": [
    "#### First Round: Briefly search the optimal threshold (Hash_len = 100000)"
   ]
  },
  {
   "cell_type": "code",
   "execution_count": 8,
   "metadata": {},
   "outputs": [
    {
     "name": "stdout",
     "output_type": "stream",
     "text": [
      "False positive items:  5524.0\n",
      "False positive items:  4755.0\n",
      "False positive items:  4129.0\n",
      "False positive items:  3641.0\n",
      "False positive items:  3211.0\n",
      "False positive items:  2862.0\n",
      "False positive items:  2588.0\n",
      "False positive items:  2452.0\n",
      "False positive items:  2555.0\n",
      "False positive items:  2869.0\n",
      "False positive items:  3935.0\n",
      "False positive items:  6551.0\n",
      "False positive items:  13741.0\n",
      "False positive items:  32578.0\n",
      "False positive items:  167169.0\n"
     ]
    }
   ],
   "source": [
    "## Control FPR = 0.001 in the training data\n",
    "thresholds = np.linspace(0.3, 1, 15)\n",
    "FPR_count = np.zeros(len(thresholds))\n",
    "ss = 0\n",
    "\n",
    "hash_len = 100000\n",
    "for threshold in thresholds:\n",
    "    url = train_positive.loc[(train_positive.loc[:,'score'] <= threshold),'url']\n",
    "    n = len(url)\n",
    "    bloom_filter = BloomFilter(n, hash_len)\n",
    "    bloom_filter.insert(url)\n",
    "    ML_positive = train_negative.loc[(train_negative.loc[:,'score'] > threshold),'url']\n",
    "    bloom_negative = train_negative.loc[(train_negative.loc[:,'score'] <= threshold),'url']\n",
    "    n1 = bloom_filter.test(bloom_negative)\n",
    "    print('False positive items: ', sum(n1) + len(ML_positive))\n",
    "    FPR_count[ss] = sum(n1) + len(ML_positive)\n",
    "    ss += 1"
   ]
  },
  {
   "cell_type": "markdown",
   "metadata": {},
   "source": [
    "#### Second Round: Detaily search the optimal threshold (Hash_len = 100000)"
   ]
  },
  {
   "cell_type": "code",
   "execution_count": 10,
   "metadata": {},
   "outputs": [
    {
     "name": "stdout",
     "output_type": "stream",
     "text": [
      "False positive items:  2571.0\n",
      "False positive items:  2555.0\n",
      "False positive items:  2544.0\n",
      "False positive items:  2515.0\n",
      "False positive items:  2492.0\n",
      "False positive items:  2486.0\n",
      "False positive items:  2482.0\n",
      "False positive items:  2439.0\n",
      "False positive items:  2480.0\n",
      "False positive items:  2448.0\n",
      "False positive items:  2553.0\n"
     ]
    }
   ],
   "source": [
    "## Control FPR = 0.001 in the training data\n",
    "thresholds = np.linspace(0.60, 0.70, 11)\n",
    "FPR_count = np.zeros(len(thresholds))\n",
    "ss = 0\n",
    "\n",
    "hash_len = 100000\n",
    "for threshold in thresholds:\n",
    "    url = train_positive.loc[(train_positive.loc[:,'score'] <= threshold),'url']\n",
    "    n = len(url)\n",
    "    bloom_filter = BloomFilter(n, hash_len)\n",
    "    bloom_filter.insert(url)\n",
    "    ML_positive = train_negative.loc[(train_negative.loc[:,'score'] > threshold),'url']\n",
    "    bloom_negative = train_negative.loc[(train_negative.loc[:,'score'] <= threshold),'url']\n",
    "    n1 = bloom_filter.test(bloom_negative)\n",
    "    print('False positive items: ', sum(n1) + len(ML_positive))\n",
    "    FPR_count[ss] = sum(n1) + len(ML_positive)\n",
    "    ss += 1"
   ]
  },
  {
   "cell_type": "markdown",
   "metadata": {},
   "source": [
    "#### First Round: Briefly search the optimal threshold (Hash_len = 150000)"
   ]
  },
  {
   "cell_type": "code",
   "execution_count": 12,
   "metadata": {},
   "outputs": [
    {
     "name": "stdout",
     "output_type": "stream",
     "text": [
      "Threshold:  0.3 False positive items:  5519.0\n",
      "Threshold:  0.35 False positive items:  4749.0\n",
      "Threshold:  0.39999999999999997 False positive items:  4110.0\n",
      "Threshold:  0.44999999999999996 False positive items:  3604.0\n",
      "Threshold:  0.5 False positive items:  3130.0\n",
      "Threshold:  0.5499999999999999 False positive items:  2709.0\n",
      "Threshold:  0.6 False positive items:  2338.0\n",
      "Threshold:  0.6499999999999999 False positive items:  2013.0\n",
      "Threshold:  0.7 False positive items:  1695.0\n",
      "Threshold:  0.75 False positive items:  1417.0\n",
      "Threshold:  0.7999999999999999 False positive items:  1288.0\n",
      "Threshold:  0.8499999999999999 False positive items:  1505.0\n",
      "Threshold:  0.8999999999999999 False positive items:  3079.0\n",
      "Threshold:  0.95 False positive items:  9900.0\n",
      "Threshold:  1.0 False positive items:  123734.0\n"
     ]
    }
   ],
   "source": [
    "## Control FPR = 0.001 in the training data\n",
    "thresholds = np.linspace(0.3, 1, 15)\n",
    "FPR_count = np.zeros(len(thresholds))\n",
    "ss = 0\n",
    "\n",
    "hash_len = 150000\n",
    "for threshold in thresholds:\n",
    "    url = train_positive.loc[(train_positive.loc[:,'score'] <= threshold),'url']\n",
    "    n = len(url)\n",
    "    bloom_filter = BloomFilter(n, hash_len)\n",
    "    bloom_filter.insert(url)\n",
    "    ML_positive = train_negative.loc[(train_negative.loc[:,'score'] > threshold),'url']\n",
    "    bloom_negative = train_negative.loc[(train_negative.loc[:,'score'] <= threshold),'url']\n",
    "    n1 = bloom_filter.test(bloom_negative)\n",
    "    print('Threshold: ', threshold, '   False positive items: ', sum(n1) + len(ML_positive))\n",
    "    FPR_count[ss] = sum(n1) + len(ML_positive)\n",
    "    ss += 1"
   ]
  },
  {
   "cell_type": "markdown",
   "metadata": {},
   "source": [
    "#### Second Round: Detaily search the optimal threshold (Hash_len = 150000)"
   ]
  },
  {
   "cell_type": "code",
   "execution_count": 13,
   "metadata": {},
   "outputs": [
    {
     "name": "stdout",
     "output_type": "stream",
     "text": [
      "Threshold:  0.75    False positive items:  1395.0\n",
      "Threshold:  0.76    False positive items:  1386.0\n",
      "Threshold:  0.77    False positive items:  1342.0\n",
      "Threshold:  0.78    False positive items:  1311.0\n",
      "Threshold:  0.79    False positive items:  1315.0\n",
      "Threshold:  0.8    False positive items:  1308.0\n",
      "Threshold:  0.8099999999999999    False positive items:  1276.0\n",
      "Threshold:  0.82    False positive items:  1309.0\n",
      "Threshold:  0.83    False positive items:  1307.0\n",
      "Threshold:  0.84    False positive items:  1443.0\n",
      "Threshold:  0.85    False positive items:  1520.0\n"
     ]
    }
   ],
   "source": [
    "## Control FPR = 0.001 in the training data\n",
    "thresholds = np.linspace(0.75, 0.85, 11)\n",
    "FPR_count = np.zeros(len(thresholds))\n",
    "ss = 0\n",
    "\n",
    "hash_len = 150000\n",
    "for threshold in thresholds:\n",
    "    url = train_positive.loc[(train_positive.loc[:,'score'] <= threshold),'url']\n",
    "    n = len(url)\n",
    "    bloom_filter = BloomFilter(n, hash_len)\n",
    "    bloom_filter.insert(url)\n",
    "    ML_positive = train_negative.loc[(train_negative.loc[:,'score'] > threshold),'url']\n",
    "    bloom_negative = train_negative.loc[(train_negative.loc[:,'score'] <= threshold),'url']\n",
    "    n1 = bloom_filter.test(bloom_negative)\n",
    "    print('Threshold: ', threshold, '   False positive items: ', sum(n1) + len(ML_positive))\n",
    "    FPR_count[ss] = sum(n1) + len(ML_positive)\n",
    "    ss += 1"
   ]
  },
  {
   "cell_type": "markdown",
   "metadata": {},
   "source": [
    "#### First Round: Briefly search the optimal threshold (Hash_len = 200000)"
   ]
  },
  {
   "cell_type": "code",
   "execution_count": 14,
   "metadata": {},
   "outputs": [
    {
     "name": "stdout",
     "output_type": "stream",
     "text": [
      "Threshold:  0.3    False positive items:  5519.0\n",
      "Threshold:  0.35    False positive items:  4749.0\n",
      "Threshold:  0.39999999999999997    False positive items:  4110.0\n",
      "Threshold:  0.44999999999999996    False positive items:  3604.0\n",
      "Threshold:  0.5    False positive items:  3129.0\n",
      "Threshold:  0.5499999999999999    False positive items:  2705.0\n",
      "Threshold:  0.6    False positive items:  2331.0\n",
      "Threshold:  0.6499999999999999    False positive items:  1991.0\n",
      "Threshold:  0.7    False positive items:  1638.0\n",
      "Threshold:  0.75    False positive items:  1314.0\n",
      "Threshold:  0.7999999999999999    False positive items:  1049.0\n",
      "Threshold:  0.8499999999999999    False positive items:  832.0\n",
      "Threshold:  0.8999999999999999    False positive items:  983.0\n",
      "Threshold:  0.95    False positive items:  3304.0\n",
      "Threshold:  1.0    False positive items:  80953.0\n"
     ]
    }
   ],
   "source": [
    "## Control FPR = 0.001 in the training data\n",
    "thresholds = np.linspace(0.3, 1, 15)\n",
    "FPR_count = np.zeros(len(thresholds))\n",
    "ss = 0\n",
    "\n",
    "hash_len = 200000\n",
    "for threshold in thresholds:\n",
    "    url = train_positive.loc[(train_positive.loc[:,'score'] <= threshold),'url']\n",
    "    n = len(url)\n",
    "    bloom_filter = BloomFilter(n, hash_len)\n",
    "    bloom_filter.insert(url)\n",
    "    ML_positive = train_negative.loc[(train_negative.loc[:,'score'] > threshold),'url']\n",
    "    bloom_negative = train_negative.loc[(train_negative.loc[:,'score'] <= threshold),'url']\n",
    "    n1 = bloom_filter.test(bloom_negative)\n",
    "    print('Threshold: ', threshold, '   False positive items: ', sum(n1) + len(ML_positive))\n",
    "    FPR_count[ss] = sum(n1) + len(ML_positive)\n",
    "    ss += 1"
   ]
  },
  {
   "cell_type": "markdown",
   "metadata": {},
   "source": [
    "#### Second Round: Detaily search the optimal threshold (Hash_len = 200000)"
   ]
  },
  {
   "cell_type": "code",
   "execution_count": 15,
   "metadata": {},
   "outputs": [
    {
     "name": "stdout",
     "output_type": "stream",
     "text": [
      "Threshold:  0.8    False positive items:  1050.0\n",
      "Threshold:  0.81    False positive items:  986.0\n",
      "Threshold:  0.8200000000000001    False positive items:  955.0\n",
      "Threshold:  0.8300000000000001    False positive items:  906.0\n",
      "Threshold:  0.8400000000000001    False positive items:  864.0\n",
      "Threshold:  0.8500000000000001    False positive items:  851.0\n",
      "Threshold:  0.86    False positive items:  828.0\n",
      "Threshold:  0.87    False positive items:  822.0\n",
      "Threshold:  0.88    False positive items:  847.0\n",
      "Threshold:  0.89    False positive items:  870.0\n",
      "Threshold:  0.9    False positive items:  951.0\n"
     ]
    }
   ],
   "source": [
    "## Control FPR = 0.001 in the training data\n",
    "thresholds = np.linspace(0.80, 0.90, 11)\n",
    "FPR_count = np.zeros(len(thresholds))\n",
    "ss = 0\n",
    "\n",
    "hash_len = 200000\n",
    "for threshold in thresholds:\n",
    "    url = train_positive.loc[(train_positive.loc[:,'score'] <= threshold),'url']\n",
    "    n = len(url)\n",
    "    bloom_filter = BloomFilter(n, hash_len)\n",
    "    bloom_filter.insert(url)\n",
    "    ML_positive = train_negative.loc[(train_negative.loc[:,'score'] > threshold),'url']\n",
    "    bloom_negative = train_negative.loc[(train_negative.loc[:,'score'] <= threshold),'url']\n",
    "    n1 = bloom_filter.test(bloom_negative)\n",
    "    print('Threshold: ', threshold, '   False positive items: ', sum(n1) + len(ML_positive))\n",
    "    FPR_count[ss] = sum(n1) + len(ML_positive)\n",
    "    ss += 1"
   ]
  },
  {
   "cell_type": "markdown",
   "metadata": {},
   "source": [
    "#### First Round: Briefly search the optimal threshold (Hash_len = 250000)"
   ]
  },
  {
   "cell_type": "code",
   "execution_count": 16,
   "metadata": {},
   "outputs": [
    {
     "name": "stdout",
     "output_type": "stream",
     "text": [
      "Threshold:  0.3    False positive items:  5519.0\n",
      "Threshold:  0.35    False positive items:  4749.0\n",
      "Threshold:  0.39999999999999997    False positive items:  4110.0\n",
      "Threshold:  0.44999999999999996    False positive items:  3604.0\n",
      "Threshold:  0.5    False positive items:  3129.0\n",
      "Threshold:  0.5499999999999999    False positive items:  2705.0\n",
      "Threshold:  0.6    False positive items:  2331.0\n",
      "Threshold:  0.6499999999999999    False positive items:  1991.0\n",
      "Threshold:  0.7    False positive items:  1636.0\n",
      "Threshold:  0.75    False positive items:  1310.0\n",
      "Threshold:  0.7999999999999999    False positive items:  1024.0\n",
      "Threshold:  0.8499999999999999    False positive items:  754.0\n",
      "Threshold:  0.8999999999999999    False positive items:  578.0\n",
      "Threshold:  0.95    False positive items:  1159.0\n",
      "Threshold:  1.0    False positive items:  58925.0\n"
     ]
    }
   ],
   "source": [
    "## Control FPR = 0.001 in the training data\n",
    "thresholds = np.linspace(0.3, 1, 15)\n",
    "FPR_count = np.zeros(len(thresholds))\n",
    "ss = 0\n",
    "\n",
    "hash_len = 250000\n",
    "for threshold in thresholds:\n",
    "    url = train_positive.loc[(train_positive.loc[:,'score'] <= threshold),'url']\n",
    "    n = len(url)\n",
    "    bloom_filter = BloomFilter(n, hash_len)\n",
    "    bloom_filter.insert(url)\n",
    "    ML_positive = train_negative.loc[(train_negative.loc[:,'score'] > threshold),'url']\n",
    "    bloom_negative = train_negative.loc[(train_negative.loc[:,'score'] <= threshold),'url']\n",
    "    n1 = bloom_filter.test(bloom_negative)\n",
    "    print('Threshold: ', threshold, '   False positive items: ', sum(n1) + len(ML_positive))\n",
    "    FPR_count[ss] = sum(n1) + len(ML_positive)\n",
    "    ss += 1"
   ]
  },
  {
   "cell_type": "markdown",
   "metadata": {},
   "source": [
    "#### Second Round: Detaily search the optimal threshold (Hash_len = 250000)"
   ]
  },
  {
   "cell_type": "code",
   "execution_count": 17,
   "metadata": {},
   "outputs": [
    {
     "name": "stdout",
     "output_type": "stream",
     "text": [
      "Threshold:  0.85    False positive items:  755.0\n",
      "Threshold:  0.86    False positive items:  717.0\n",
      "Threshold:  0.87    False positive items:  670.0\n",
      "Threshold:  0.88    False positive items:  631.0\n",
      "Threshold:  0.89    False positive items:  595.0\n",
      "Threshold:  0.8999999999999999    False positive items:  585.0\n",
      "Threshold:  0.9099999999999999    False positive items:  591.0\n",
      "Threshold:  0.9199999999999999    False positive items:  639.0\n",
      "Threshold:  0.9299999999999999    False positive items:  671.0\n",
      "Threshold:  0.94    False positive items:  851.0\n",
      "Threshold:  0.95    False positive items:  1159.0\n"
     ]
    }
   ],
   "source": [
    "## Control FPR = 0.001 in the training data\n",
    "thresholds = np.linspace(0.85, 0.95, 11)\n",
    "FPR_count = np.zeros(len(thresholds))\n",
    "ss = 0\n",
    "\n",
    "hash_len = 250000\n",
    "for threshold in thresholds:\n",
    "    url = train_positive.loc[(train_positive.loc[:,'score'] <= threshold),'url']\n",
    "    n = len(url)\n",
    "    bloom_filter = BloomFilter(n, hash_len)\n",
    "    bloom_filter.insert(url)\n",
    "    ML_positive = train_negative.loc[(train_negative.loc[:,'score'] > threshold),'url']\n",
    "    bloom_negative = train_negative.loc[(train_negative.loc[:,'score'] <= threshold),'url']\n",
    "    n1 = bloom_filter.test(bloom_negative)\n",
    "    print('Threshold: ', threshold, '   False positive items: ', sum(n1) + len(ML_positive))\n",
    "    FPR_count[ss] = sum(n1) + len(ML_positive)\n",
    "    ss += 1"
   ]
  },
  {
   "cell_type": "markdown",
   "metadata": {},
   "source": [
    "## <font color='red'> Sandwich ML based Bloom Filter</font>"
   ]
  },
  {
   "cell_type": "markdown",
   "metadata": {},
   "source": [
    "### Hash_len = 100000"
   ]
  },
  {
   "cell_type": "markdown",
   "metadata": {},
   "source": [
    "#### Performance of training data (Hash_len = 100000)"
   ]
  },
  {
   "cell_type": "code",
   "execution_count": 19,
   "metadata": {},
   "outputs": [
    {
     "name": "stdout",
     "output_type": "stream",
     "text": [
      "Threshold:  0.55     False positive items:  3435.0\n",
      "Threshold:  0.56     False positive items:  3318.0\n",
      "Threshold:  0.5700000000000001     False positive items:  3417.0\n",
      "Threshold:  0.5800000000000001     False positive items:  3378.0\n",
      "Threshold:  0.5900000000000001     False positive items:  3517.0\n",
      "Threshold:  0.6000000000000001     False positive items:  3416.0\n",
      "Threshold:  0.61     False positive items:  3544.0\n",
      "Threshold:  0.62     False positive items:  3535.0\n",
      "Threshold:  0.63     False positive items:  3651.0\n",
      "Threshold:  0.64     False positive items:  3729.0\n",
      "Threshold:  0.65     False positive items:  3810.0\n"
     ]
    }
   ],
   "source": [
    "thresholds = np.linspace(0.55, 0.65, 11)\n",
    "\n",
    "for threshold in thresholds:\n",
    "    url_raw = train_positive.loc[:,'url']\n",
    "    n = len(url_raw)\n",
    "    hash_len1 = 20000\n",
    "    bloom_filter1 = BloomFilter(n, hash_len1)\n",
    "    bloom_filter1.insert(url_raw)\n",
    "\n",
    "    url = train_positive.loc[(train_positive.loc[:,'score'] <= threshold),'url']\n",
    "    n2 = len(url)\n",
    "    hash_len2 = 80000\n",
    "    bloom_filter2 = BloomFilter(n2, hash_len2)\n",
    "    bloom_filter2.insert(url)\n",
    "\n",
    "    negative_url_raw = train_negative.loc[:,'url']\n",
    "    negative_score_raw = train_negative.loc[:,'score']\n",
    "    test_result = bloom_filter1.test(negative_url_raw)\n",
    "\n",
    "\n",
    "    negative_url_filtered = negative_url_raw[test_result==1]\n",
    "    negative_score_filtered = negative_score_raw[test_result==1]\n",
    "    bloom_negative = negative_url_filtered[negative_score_filtered <= threshold]\n",
    "    ML_positive = negative_url_filtered[negative_score_filtered > threshold]\n",
    "\n",
    "    test_result2 = bloom_filter2.test(bloom_negative)\n",
    "    print('Threshold: ', threshold, '    False positive items: ', sum(test_result2) + len(ML_positive))"
   ]
  },
  {
   "cell_type": "markdown",
   "metadata": {},
   "source": [
    "#### Performance on testing data"
   ]
  },
  {
   "cell_type": "code",
   "execution_count": 28,
   "metadata": {},
   "outputs": [
    {
     "name": "stdout",
     "output_type": "stream",
     "text": [
      "False positive items:  2132.0\n"
     ]
    }
   ],
   "source": [
    "negative_url_raw = test_negative.loc[:,'url']\n",
    "negative_score_raw = test_negative.loc[:,'score']\n",
    "test_result = bloom_filter1.test(negative_url_raw)\n",
    "\n",
    "\n",
    "negative_url_filtered = negative_url_raw[test_result==1]\n",
    "negative_score_filtered = negative_score_raw[test_result==1]\n",
    "bloom_negative = negative_url_filtered[negative_score_filtered <= threshold]\n",
    "ML_positive = negative_url_filtered[negative_score_filtered > threshold]\n",
    "\n",
    "test_result2 = bloom_filter2.test(bloom_negative)\n",
    "print('False positive items: ', sum(test_result2) + len(ML_positive))"
   ]
  },
  {
   "cell_type": "markdown",
   "metadata": {},
   "source": [
    "### Hash_len = 150000"
   ]
  },
  {
   "cell_type": "markdown",
   "metadata": {},
   "source": [
    "#### Performance of training data"
   ]
  },
  {
   "cell_type": "code",
   "execution_count": 21,
   "metadata": {},
   "outputs": [
    {
     "name": "stdout",
     "output_type": "stream",
     "text": [
      "Threshold:  0.65     False positive items:  2105.0\n",
      "Threshold:  0.66     False positive items:  2055.0\n",
      "Threshold:  0.67     False positive items:  2024.0\n",
      "Threshold:  0.68     False positive items:  1974.0\n",
      "Threshold:  0.6900000000000001     False positive items:  1931.0\n",
      "Threshold:  0.7     False positive items:  1933.0\n",
      "Threshold:  0.71     False positive items:  1876.0\n",
      "Threshold:  0.72     False positive items:  1842.0\n",
      "Threshold:  0.73     False positive items:  1867.0\n",
      "Threshold:  0.74     False positive items:  1814.0\n",
      "Threshold:  0.75     False positive items:  1820.0\n"
     ]
    }
   ],
   "source": [
    "thresholds = np.linspace(0.65, 0.75, 11)\n",
    "\n",
    "for threshold in thresholds:\n",
    "    url_raw = train_positive.loc[:,'url']\n",
    "    n = len(url_raw)\n",
    "    hash_len1 = 30000\n",
    "    bloom_filter1 = BloomFilter(n, hash_len1)\n",
    "    bloom_filter1.insert(url_raw)\n",
    "\n",
    "    url = train_positive.loc[(train_positive.loc[:,'score'] <= threshold),'url']\n",
    "    n2 = len(url)\n",
    "    hash_len2 = 120000\n",
    "    bloom_filter2 = BloomFilter(n2, hash_len2)\n",
    "    bloom_filter2.insert(url)\n",
    "\n",
    "    negative_url_raw = train_negative.loc[:,'url']\n",
    "    negative_score_raw = train_negative.loc[:,'score']\n",
    "    test_result = bloom_filter1.test(negative_url_raw)\n",
    "\n",
    "\n",
    "    negative_url_filtered = negative_url_raw[test_result==1]\n",
    "    negative_score_filtered = negative_score_raw[test_result==1]\n",
    "    bloom_negative = negative_url_filtered[negative_score_filtered <= threshold]\n",
    "    ML_positive = negative_url_filtered[negative_score_filtered > threshold]\n",
    "\n",
    "    test_result2 = bloom_filter2.test(bloom_negative)\n",
    "    print('Threshold: ', threshold, '    False positive items: ', sum(test_result2) + len(ML_positive))"
   ]
  },
  {
   "cell_type": "markdown",
   "metadata": {},
   "source": [
    "#### Performance on testing data"
   ]
  },
  {
   "cell_type": "code",
   "execution_count": 37,
   "metadata": {},
   "outputs": [
    {
     "name": "stdout",
     "output_type": "stream",
     "text": [
      "False positive items:  1419.0\n"
     ]
    }
   ],
   "source": [
    "negative_url_raw = test_negative.loc[:,'url']\n",
    "negative_score_raw = test_negative.loc[:,'score']\n",
    "test_result = bloom_filter1.test(negative_url_raw)\n",
    "\n",
    "\n",
    "negative_url_filtered = negative_url_raw[test_result==1]\n",
    "negative_score_filtered = negative_score_raw[test_result==1]\n",
    "bloom_negative = negative_url_filtered[negative_score_filtered <= threshold]\n",
    "ML_positive = negative_url_filtered[negative_score_filtered > threshold]\n",
    "\n",
    "test_result2 = bloom_filter2.test(bloom_negative)\n",
    "print('False positive items: ', sum(test_result2) + len(ML_positive))"
   ]
  },
  {
   "cell_type": "markdown",
   "metadata": {},
   "source": [
    "### Hash_len = 200000"
   ]
  },
  {
   "cell_type": "markdown",
   "metadata": {},
   "source": [
    "#### Performance of training data"
   ]
  },
  {
   "cell_type": "code",
   "execution_count": 22,
   "metadata": {},
   "outputs": [
    {
     "name": "stdout",
     "output_type": "stream",
     "text": [
      "Threshold:  0.75     False positive items:  1358.0\n",
      "Threshold:  0.76     False positive items:  1320.0\n",
      "Threshold:  0.77     False positive items:  1296.0\n",
      "Threshold:  0.78     False positive items:  1250.0\n",
      "Threshold:  0.79     False positive items:  1203.0\n",
      "Threshold:  0.8     False positive items:  1190.0\n",
      "Threshold:  0.8099999999999999     False positive items:  1148.0\n",
      "Threshold:  0.82     False positive items:  1136.0\n",
      "Threshold:  0.83     False positive items:  1142.0\n",
      "Threshold:  0.84     False positive items:  1189.0\n",
      "Threshold:  0.85     False positive items:  1237.0\n"
     ]
    }
   ],
   "source": [
    "thresholds = np.linspace(0.75, 0.85, 11)\n",
    "\n",
    "for threshold in thresholds:\n",
    "    url_raw = train_positive.loc[:,'url']\n",
    "    n = len(url_raw)\n",
    "    hash_len1 = 40000\n",
    "    bloom_filter1 = BloomFilter(n, hash_len1)\n",
    "    bloom_filter1.insert(url_raw)\n",
    "\n",
    "    url = train_positive.loc[(train_positive.loc[:,'score'] <= threshold),'url']\n",
    "    n2 = len(url)\n",
    "    hash_len2 = 160000\n",
    "    bloom_filter2 = BloomFilter(n2, hash_len2)\n",
    "    bloom_filter2.insert(url)\n",
    "\n",
    "    negative_url_raw = train_negative.loc[:,'url']\n",
    "    negative_score_raw = train_negative.loc[:,'score']\n",
    "    test_result = bloom_filter1.test(negative_url_raw)\n",
    "\n",
    "\n",
    "    negative_url_filtered = negative_url_raw[test_result==1]\n",
    "    negative_score_filtered = negative_score_raw[test_result==1]\n",
    "    bloom_negative = negative_url_filtered[negative_score_filtered <= threshold]\n",
    "    ML_positive = negative_url_filtered[negative_score_filtered > threshold]\n",
    "\n",
    "    test_result2 = bloom_filter2.test(bloom_negative)\n",
    "    print('Threshold: ', threshold, '    False positive items: ', sum(test_result2) + len(ML_positive))"
   ]
  },
  {
   "cell_type": "markdown",
   "metadata": {},
   "source": [
    "#### Performance on testing data"
   ]
  },
  {
   "cell_type": "code",
   "execution_count": 22,
   "metadata": {},
   "outputs": [
    {
     "name": "stdout",
     "output_type": "stream",
     "text": [
      "False positive items:  991.0\n"
     ]
    }
   ],
   "source": [
    "negative_url_raw = test_negative.loc[:,'url']\n",
    "negative_score_raw = test_negative.loc[:,'score']\n",
    "test_result = bloom_filter1.test(negative_url_raw)\n",
    "\n",
    "\n",
    "negative_url_filtered = negative_url_raw[test_result==1]\n",
    "negative_score_filtered = negative_score_raw[test_result==1]\n",
    "bloom_negative = negative_url_filtered[negative_score_filtered <= threshold]\n",
    "ML_positive = negative_url_filtered[negative_score_filtered > threshold]\n",
    "\n",
    "test_result2 = bloom_filter2.test(bloom_negative)\n",
    "print('False positive items: ', sum(test_result2) + len(ML_positive))"
   ]
  },
  {
   "cell_type": "markdown",
   "metadata": {},
   "source": [
    "### Hash_len = 250000"
   ]
  },
  {
   "cell_type": "markdown",
   "metadata": {},
   "source": [
    "#### Performance of training data"
   ]
  },
  {
   "cell_type": "code",
   "execution_count": 23,
   "metadata": {},
   "outputs": [
    {
     "name": "stdout",
     "output_type": "stream",
     "text": [
      "Threshold:  0.8     False positive items:  1045.0\n",
      "Threshold:  0.81     False positive items:  989.0\n",
      "Threshold:  0.8200000000000001     False positive items:  943.0\n",
      "Threshold:  0.8300000000000001     False positive items:  901.0\n",
      "Threshold:  0.8400000000000001     False positive items:  876.0\n",
      "Threshold:  0.8500000000000001     False positive items:  843.0\n",
      "Threshold:  0.86     False positive items:  823.0\n",
      "Threshold:  0.87     False positive items:  821.0\n",
      "Threshold:  0.88     False positive items:  809.0\n",
      "Threshold:  0.89     False positive items:  890.0\n",
      "Threshold:  0.9     False positive items:  959.0\n"
     ]
    }
   ],
   "source": [
    "thresholds = np.linspace(0.80, 0.90, 11)\n",
    "\n",
    "for threshold in thresholds:\n",
    "    url_raw = train_positive.loc[:,'url']\n",
    "    n = len(url_raw)\n",
    "    hash_len1 = 50000\n",
    "    bloom_filter1 = BloomFilter(n, hash_len1)\n",
    "    bloom_filter1.insert(url_raw)\n",
    "\n",
    "    url = train_positive.loc[(train_positive.loc[:,'score'] <= threshold),'url']\n",
    "    n2 = len(url)\n",
    "    hash_len2 = 200000\n",
    "    bloom_filter2 = BloomFilter(n2, hash_len2)\n",
    "    bloom_filter2.insert(url)\n",
    "\n",
    "    negative_url_raw = train_negative.loc[:,'url']\n",
    "    negative_score_raw = train_negative.loc[:,'score']\n",
    "    test_result = bloom_filter1.test(negative_url_raw)\n",
    "\n",
    "\n",
    "    negative_url_filtered = negative_url_raw[test_result==1]\n",
    "    negative_score_filtered = negative_score_raw[test_result==1]\n",
    "    bloom_negative = negative_url_filtered[negative_score_filtered <= threshold]\n",
    "    ML_positive = negative_url_filtered[negative_score_filtered > threshold]\n",
    "\n",
    "    test_result2 = bloom_filter2.test(bloom_negative)\n",
    "    print('Threshold: ', threshold, '    False positive items: ', sum(test_result2) + len(ML_positive))"
   ]
  },
  {
   "cell_type": "markdown",
   "metadata": {},
   "source": [
    "#### Performance on testing data"
   ]
  },
  {
   "cell_type": "code",
   "execution_count": 40,
   "metadata": {},
   "outputs": [
    {
     "name": "stdout",
     "output_type": "stream",
     "text": [
      "False positive items:  731.0\n"
     ]
    }
   ],
   "source": [
    "negative_url_raw = test_negative.loc[:,'url']\n",
    "negative_score_raw = test_negative.loc[:,'score']\n",
    "test_result = bloom_filter1.test(negative_url_raw)\n",
    "\n",
    "\n",
    "negative_url_filtered = negative_url_raw[test_result==1]\n",
    "negative_score_filtered = negative_score_raw[test_result==1]\n",
    "bloom_negative = negative_url_filtered[negative_score_filtered <= threshold]\n",
    "ML_positive = negative_url_filtered[negative_score_filtered > threshold]\n",
    "\n",
    "test_result2 = bloom_filter2.test(bloom_negative)\n",
    "print('False positive items: ', sum(test_result2) + len(ML_positive))"
   ]
  },
  {
   "cell_type": "markdown",
   "metadata": {},
   "source": [
    "## <font color='red'> Enhanced Version of ML based Bloom Filter</font>"
   ]
  },
  {
   "cell_type": "code",
   "execution_count": 25,
   "metadata": {},
   "outputs": [],
   "source": [
    "class BloomFilter_3():\n",
    "    def __init__(self, n, hash_len):\n",
    "        self.n = n\n",
    "        self.hash_len = int(hash_len)\n",
    "        self.k = np.round(self.hash_len/n*0.6931472)\n",
    "        self.h = []\n",
    "        for i in range(self.k.astype(int)):\n",
    "            self.h.append(hashfunc(self.hash_len))\n",
    "        self.table = np.zeros(self.hash_len, dtype=int)\n",
    "    def insert(self, key):\n",
    "        for i in key:\n",
    "            for j in range(self.k.astype(int)):\n",
    "                t = self.h[j](i)\n",
    "                self.table[t] = 1\n",
    "    def test(self, key):\n",
    "        test_result = 0\n",
    "        match = 0\n",
    "        for j in range(self.k.astype(int)):\n",
    "            t = self.h[j](key)\n",
    "            match += 1*(self.table[t] == 1)\n",
    "        if match == self.k.astype(int):\n",
    "            test_result = 1  \n",
    "        return test_result"
   ]
  },
  {
   "cell_type": "markdown",
   "metadata": {},
   "source": [
    "#### Search Optimal k_max and c (Hash_len = 100000)"
   ]
  },
  {
   "cell_type": "code",
   "execution_count": 26,
   "metadata": {},
   "outputs": [
    {
     "name": "stdout",
     "output_type": "stream",
     "text": [
      "False positive items:  [8, 1.6] 4934.0\n",
      "False positive items:  [8, 1.7000000000000002] 3526.0\n",
      "False positive items:  [8, 1.8] 2572.0\n",
      "False positive items:  [8, 1.9000000000000001] 1946.0\n",
      "False positive items:  [8, 2.0] 1579.0\n",
      "False positive items:  [8, 2.1] 1347.0\n",
      "False positive items:  [8, 2.2] 1292.0\n",
      "False positive items:  [8, 2.3] 1364.0\n",
      "False positive items:  [8, 2.4] 1443.0\n",
      "False positive items:  [8, 2.5] 1465.0\n",
      "False positive items:  [9, 1.6] 3088.0\n",
      "False positive items:  [9, 1.7000000000000002] 2124.0\n",
      "False positive items:  [9, 1.8] 1610.0\n",
      "False positive items:  [9, 1.9000000000000001] 1366.0\n",
      "False positive items:  [9, 2.0] 1310.0\n",
      "False positive items:  [9, 2.1] 1503.0\n",
      "False positive items:  [9, 2.2] 1430.0\n",
      "False positive items:  [9, 2.3] 1647.0\n",
      "False positive items:  [9, 2.4] 1617.0\n",
      "False positive items:  [9, 2.5] 1557.0\n",
      "False positive items:  [10, 1.6] 2016.0\n",
      "False positive items:  [10, 1.7000000000000002] 1508.0\n",
      "False positive items:  [10, 1.8] 1343.0\n",
      "False positive items:  [10, 1.9000000000000001] 1389.0\n",
      "False positive items:  [10, 2.0] 1519.0\n",
      "False positive items:  [10, 2.1] 1530.0\n",
      "False positive items:  [10, 2.2] 1581.0\n",
      "False positive items:  [10, 2.3] 1579.0\n",
      "False positive items:  [10, 2.4] 1436.0\n",
      "False positive items:  [10, 2.5] 1491.0\n",
      "False positive items:  [11, 1.6] 1464.0\n",
      "False positive items:  [11, 1.7000000000000002] 1337.0\n",
      "False positive items:  [11, 1.8] 1594.0\n",
      "False positive items:  [11, 1.9000000000000001] 1684.0\n",
      "False positive items:  [11, 2.0] 1616.0\n",
      "False positive items:  [11, 2.1] 1643.0\n",
      "False positive items:  [11, 2.2] 1411.0\n",
      "False positive items:  [11, 2.3] 1520.0\n",
      "False positive items:  [11, 2.4] 1398.0\n",
      "False positive items:  [11, 2.5] 1434.0\n",
      "False positive items:  [12, 1.6] 1353.0\n",
      "False positive items:  [12, 1.7000000000000002] 1510.0\n",
      "False positive items:  [12, 1.8] 1663.0\n",
      "False positive items:  [12, 1.9000000000000001] 1707.0\n",
      "False positive items:  [12, 2.0] 1622.0\n",
      "False positive items:  [12, 2.1] 1543.0\n",
      "False positive items:  [12, 2.2] 1401.0\n",
      "False positive items:  [12, 2.3] 1640.0\n",
      "False positive items:  [12, 2.4] 1377.0\n",
      "False positive items:  [12, 2.5] 1447.0\n"
     ]
    }
   ],
   "source": [
    "c_set = np.linspace(1.6, 2.5, 10)\n",
    "\n",
    "R_sum = 100000\n",
    "\n",
    "for num_group in range(8,13):\n",
    "    for c in c_set:\n",
    "        ### Determine the thresholds\n",
    "        thresholds = np.zeros(num_group+1)\n",
    "        thresholds[0] = 0\n",
    "        thresholds[-1] = 1\n",
    "        num_negative = sum(train_negative.loc[:,'score'] <= thresholds[-1])\n",
    "        tau = sum(c**np.arange(0, num_group, 1)) \n",
    "        num_piece = int(num_negative/tau)\n",
    "        score = train_negative.loc[(train_negative.loc[:,'score'] <= thresholds[-1]),'score']\n",
    "        score = np.sort(score)\n",
    "        for i in range(num_group-1):\n",
    "            score_1 = score[score<=thresholds[-(i+1)]]\n",
    "            thresholds[-(i+2)] = score_1[-int(num_piece*c**i)]\n",
    "        \n",
    "        ### Count the keys of each group\n",
    "        url =  train_positive.loc[(train_positive.loc[:,'score'] < thresholds[-1]),'url']\n",
    "        score = train_positive.loc[(train_positive.loc[:,'score'] < thresholds[-1]),'score']\n",
    "\n",
    "        count_key = np.zeros(num_group)\n",
    "        url_group = []\n",
    "        bloom_filter = []\n",
    "        for j in range(int(num_group)):\n",
    "            count_key[j] = sum((score >= thresholds[j]) & (score < thresholds[j+1]))\n",
    "            url_group.append(url[(score >= thresholds[j]) & (score < thresholds[j+1])])\n",
    "            \n",
    "        ### Search the Bloom filters' size\n",
    "        R = np.zeros(num_group - 1)\n",
    "        R[:] = 0.5*R_sum\n",
    "        kk = 1\n",
    "        while abs(sum(R)-R_sum)>200:\n",
    "            if (sum(R)>R_sum):\n",
    "                R[0] = R[0] - int((0.5*R_sum)*(0.5)**kk+1)\n",
    "            else:\n",
    "                R[0] = R[0] + int((0.5*R_sum)*(0.5)**kk+1)\n",
    "            for j in range(1, int(num_group-1)):\n",
    "                R[j] = max(int(count_key[j]*(R[0]/count_key[0]+j*np.log(c)/np.log(0.618))),1)\n",
    "            if int((0.5*R_sum)*(0.5)**kk+1) == 1:\n",
    "                break\n",
    "            kk += 1\n",
    "        \n",
    "        Bloom_Filters = []\n",
    "        for j in range(int(num_group-1)):\n",
    "            Bloom_Filters.append(BloomFilter_3(count_key[j], R[j]))\n",
    "            Bloom_Filters[j].insert(url_group[j])\n",
    "            \n",
    "        ### Test URLs\n",
    "        ML_positive = train_negative.loc[(train_negative.loc[:,'score'] >= thresholds[-2]),'url']\n",
    "        url_negative =  train_negative.loc[(train_negative.loc[:,'score'] < thresholds[-2]),'url']\n",
    "        score_negative = train_negative.loc[(train_negative.loc[:,'score'] < thresholds[-2]),'score']\n",
    "\n",
    "        test_result = np.zeros(len(url_negative))\n",
    "        ss = 0\n",
    "        for score_s, url_s in zip(score_negative, url_negative):\n",
    "            ix = min(np.where(score_s < thresholds)[0])\n",
    "            test_result[ss] = Bloom_Filters[ix-1].test(url_s)\n",
    "            ss += 1\n",
    "        print('False positive items: ', [num_group, c], sum(test_result)+len(ML_positive))"
   ]
  },
  {
   "cell_type": "markdown",
   "metadata": {},
   "source": [
    "#### Corresponding performance on the testing set (Hash_len = 100000)"
   ]
  },
  {
   "cell_type": "code",
   "execution_count": 15,
   "metadata": {},
   "outputs": [
    {
     "name": "stdout",
     "output_type": "stream",
     "text": [
      "False positive items:  [8, 2.3] 711.0\n"
     ]
    }
   ],
   "source": [
    "c = 2.3\n",
    "num_group = 8\n",
    "\n",
    "R_sum = 100000\n",
    "\n",
    "### Determine the thresholds\n",
    "thresholds = np.zeros(num_group+1)\n",
    "thresholds[0] = 0\n",
    "thresholds[-1] = 1\n",
    "num_negative = sum(train_negative.loc[:,'score'] <= thresholds[-1])\n",
    "tau = sum(c**np.arange(0, num_group, 1)) \n",
    "num_piece = int(num_negative/tau)\n",
    "score = train_negative.loc[(train_negative.loc[:,'score'] <= thresholds[-1]),'score']\n",
    "score = np.sort(score)\n",
    "for i in range(num_group-1):\n",
    "    score_1 = score[score<=thresholds[-(i+1)]]\n",
    "    thresholds[-(i+2)] = score_1[-int(num_piece*c**i)]\n",
    "\n",
    "### Count the keys of each group\n",
    "url =  train_positive.loc[(train_positive.loc[:,'score'] < thresholds[-1]),'url']\n",
    "score = train_positive.loc[(train_positive.loc[:,'score'] < thresholds[-1]),'score']\n",
    "\n",
    "count_key = np.zeros(num_group)\n",
    "url_group = []\n",
    "bloom_filter = []\n",
    "for j in range(int(num_group)):\n",
    "    count_key[j] = sum((score >= thresholds[j]) & (score < thresholds[j+1]))\n",
    "    url_group.append(url[(score >= thresholds[j]) & (score < thresholds[j+1])])\n",
    "\n",
    "### Search the Bloom filters' size\n",
    "R = np.zeros(num_group - 1)\n",
    "R[:] = 0.5*R_sum\n",
    "kk = 1\n",
    "while abs(sum(R)-R_sum)>200:\n",
    "    if (sum(R)>R_sum):\n",
    "        R[0] = R[0] - int((0.5*R_sum)*(0.5)**kk+1)\n",
    "    else:\n",
    "        R[0] = R[0] + int((0.5*R_sum)*(0.5)**kk+1)\n",
    "    for j in range(1, int(num_group-1)):\n",
    "        R[j] = max(int(count_key[j]*(R[0]/count_key[0]+j*np.log(c)/np.log(0.618))),1)\n",
    "    if int((0.5*R_sum)*(0.5)**kk+1) == 1:\n",
    "        break\n",
    "    kk += 1\n",
    "\n",
    "Bloom_Filters = []\n",
    "for j in range(int(num_group-1)):\n",
    "    Bloom_Filters.append(BloomFilter_3(count_key[j], R[j]))\n",
    "    Bloom_Filters[j].insert(url_group[j])\n",
    "\n",
    "### Test URLs\n",
    "ML_positive = test_negative.loc[(test_negative.loc[:,'score'] >= thresholds[-2]),'url']\n",
    "url_negative =  test_negative.loc[(test_negative.loc[:,'score'] < thresholds[-2]),'url']\n",
    "score_negative = test_negative.loc[(test_negative.loc[:,'score'] < thresholds[-2]),'score']\n",
    "\n",
    "test_result = np.zeros(len(url_negative))\n",
    "ss = 0\n",
    "for score_s, url_s in zip(score_negative, url_negative):\n",
    "    ix = min(np.where(score_s < thresholds)[0])\n",
    "    test_result[ss] = Bloom_Filters[ix-1].test(url_s)\n",
    "    ss += 1\n",
    "print('False positive items: ', [num_group, c], sum(test_result)+len(ML_positive))"
   ]
  },
  {
   "cell_type": "markdown",
   "metadata": {},
   "source": [
    "#### Search Optimal k_max and c (Hash_len = 150000)"
   ]
  },
  {
   "cell_type": "code",
   "execution_count": 27,
   "metadata": {},
   "outputs": [
    {
     "name": "stdout",
     "output_type": "stream",
     "text": [
      "False positive items:  [8, 1.6] 4932.0\n",
      "False positive items:  [8, 1.7000000000000002] 3511.0\n",
      "False positive items:  [8, 1.8] 2527.0\n",
      "False positive items:  [8, 1.9000000000000001] 1842.0\n",
      "False positive items:  [8, 2.0] 1365.0\n",
      "False positive items:  [8, 2.1] 1038.0\n",
      "False positive items:  [8, 2.2] 822.0\n",
      "False positive items:  [8, 2.3] 707.0\n",
      "False positive items:  [8, 2.4] 659.0\n",
      "False positive items:  [8, 2.5] 658.0\n",
      "False positive items:  [9, 1.6] 3057.0\n",
      "False positive items:  [9, 1.7000000000000002] 2056.0\n",
      "False positive items:  [9, 1.8] 1410.0\n",
      "False positive items:  [9, 1.9000000000000001] 1008.0\n",
      "False positive items:  [9, 2.0] 780.0\n",
      "False positive items:  [9, 2.1] 691.0\n",
      "False positive items:  [9, 2.2] 646.0\n",
      "False positive items:  [9, 2.3] 644.0\n",
      "False positive items:  [9, 2.4] 745.0\n",
      "False positive items:  [9, 2.5] 744.0\n",
      "False positive items:  [10, 1.6] 1902.0\n",
      "False positive items:  [10, 1.7000000000000002] 1226.0\n",
      "False positive items:  [10, 1.8] 848.0\n",
      "False positive items:  [10, 1.9000000000000001] 676.0\n",
      "False positive items:  [10, 2.0] 615.0\n",
      "False positive items:  [10, 2.1] 707.0\n",
      "False positive items:  [10, 2.2] 730.0\n",
      "False positive items:  [10, 2.3] 734.0\n",
      "False positive items:  [10, 2.4] 767.0\n",
      "False positive items:  [10, 2.5] 727.0\n",
      "False positive items:  [11, 1.6] 1218.0\n",
      "False positive items:  [11, 1.7000000000000002] 807.0\n",
      "False positive items:  [11, 1.8] 683.0\n",
      "False positive items:  [11, 1.9000000000000001] 681.0\n",
      "False positive items:  [11, 2.0] 750.0\n",
      "False positive items:  [11, 2.1] 775.0\n",
      "False positive items:  [11, 2.2] 720.0\n",
      "False positive items:  [11, 2.3] 776.0\n",
      "False positive items:  [11, 2.4] 688.0\n",
      "False positive items:  [11, 2.5] 698.0\n",
      "False positive items:  [12, 1.6] 816.0\n",
      "False positive items:  [12, 1.7000000000000002] 666.0\n",
      "False positive items:  [12, 1.8] 667.0\n",
      "False positive items:  [12, 1.9000000000000001] 741.0\n",
      "False positive items:  [12, 2.0] 723.0\n",
      "False positive items:  [12, 2.1] 692.0\n",
      "False positive items:  [12, 2.2] 672.0\n",
      "False positive items:  [12, 2.3] 690.0\n",
      "False positive items:  [12, 2.4] 687.0\n",
      "False positive items:  [12, 2.5] 658.0\n"
     ]
    }
   ],
   "source": [
    "c_set = np.linspace(1.6, 2.5, 10)\n",
    "\n",
    "R_sum = 150000\n",
    "\n",
    "for num_group in range(8,13):\n",
    "    for c in c_set:\n",
    "        ### Determine the thresholds\n",
    "        thresholds = np.zeros(num_group+1)\n",
    "        thresholds[0] = 0\n",
    "        thresholds[-1] = 1\n",
    "        num_negative = sum(train_negative.loc[:,'score'] <= thresholds[-1])\n",
    "        tau = sum(c**np.arange(0, num_group, 1)) \n",
    "        num_piece = int(num_negative/tau)\n",
    "        score = train_negative.loc[(train_negative.loc[:,'score'] <= thresholds[-1]),'score']\n",
    "        score = np.sort(score)\n",
    "        for i in range(num_group-1):\n",
    "            score_1 = score[score<=thresholds[-(i+1)]]\n",
    "            thresholds[-(i+2)] = score_1[-int(num_piece*c**i)]\n",
    "        \n",
    "        ### Count the keys of each group\n",
    "        url =  train_positive.loc[(train_positive.loc[:,'score'] < thresholds[-1]),'url']\n",
    "        score = train_positive.loc[(train_positive.loc[:,'score'] < thresholds[-1]),'score']\n",
    "\n",
    "        count_key = np.zeros(num_group)\n",
    "        url_group = []\n",
    "        bloom_filter = []\n",
    "        for j in range(int(num_group)):\n",
    "            count_key[j] = sum((score >= thresholds[j]) & (score < thresholds[j+1]))\n",
    "            url_group.append(url[(score >= thresholds[j]) & (score < thresholds[j+1])])\n",
    "            \n",
    "        ### Search the Bloom filters' size\n",
    "        R = np.zeros(num_group - 1)\n",
    "        R[:] = 0.5*R_sum\n",
    "        kk = 1\n",
    "        while abs(sum(R)-R_sum)>200:\n",
    "            if (sum(R)>R_sum):\n",
    "                R[0] = R[0] - int((0.5*R_sum)*(0.5)**kk+1)\n",
    "            else:\n",
    "                R[0] = R[0] + int((0.5*R_sum)*(0.5)**kk+1)\n",
    "            for j in range(1, int(num_group-1)):\n",
    "                R[j] = max(int(count_key[j]*(R[0]/count_key[0]+j*np.log(c)/np.log(0.618))),1)\n",
    "            if int((0.5*R_sum)*(0.5)**kk+1) == 1:\n",
    "                break\n",
    "            kk += 1\n",
    "        \n",
    "        Bloom_Filters = []\n",
    "        for j in range(int(num_group-1)):\n",
    "            Bloom_Filters.append(BloomFilter_3(count_key[j], R[j]))\n",
    "            Bloom_Filters[j].insert(url_group[j])\n",
    "            \n",
    "        ### Test URLs\n",
    "        ML_positive = train_negative.loc[(train_negative.loc[:,'score'] >= thresholds[-2]),'url']\n",
    "        url_negative =  train_negative.loc[(train_negative.loc[:,'score'] < thresholds[-2]),'url']\n",
    "        score_negative = train_negative.loc[(train_negative.loc[:,'score'] < thresholds[-2]),'score']\n",
    "\n",
    "        test_result = np.zeros(len(url_negative))\n",
    "        ss = 0\n",
    "        for score_s, url_s in zip(score_negative, url_negative):\n",
    "            ix = min(np.where(score_s < thresholds)[0])\n",
    "            test_result[ss] = Bloom_Filters[ix-1].test(url_s)\n",
    "            ss += 1\n",
    "        print('False positive items: ', [num_group, c], sum(test_result)+len(ML_positive))"
   ]
  },
  {
   "cell_type": "markdown",
   "metadata": {},
   "source": [
    "#### Corresponding performance on the testing set (Hash_len = 150000)"
   ]
  },
  {
   "cell_type": "code",
   "execution_count": 16,
   "metadata": {},
   "outputs": [
    {
     "name": "stdout",
     "output_type": "stream",
     "text": [
      "False positive items:  [9, 2.1] 467.0\n"
     ]
    }
   ],
   "source": [
    "c = 2.1\n",
    "num_group = 9\n",
    "\n",
    "R_sum = 150000\n",
    "\n",
    "### Determine the thresholds\n",
    "thresholds = np.zeros(num_group+1)\n",
    "thresholds[0] = 0\n",
    "thresholds[-1] = 1\n",
    "num_negative = sum(train_negative.loc[:,'score'] <= thresholds[-1])\n",
    "tau = sum(c**np.arange(0, num_group, 1)) \n",
    "num_piece = int(num_negative/tau)\n",
    "score = train_negative.loc[(train_negative.loc[:,'score'] <= thresholds[-1]),'score']\n",
    "score = np.sort(score)\n",
    "for i in range(num_group-1):\n",
    "    score_1 = score[score<=thresholds[-(i+1)]]\n",
    "    thresholds[-(i+2)] = score_1[-int(num_piece*c**i)]\n",
    "\n",
    "### Count the keys of each group\n",
    "url =  train_positive.loc[(train_positive.loc[:,'score'] < thresholds[-1]),'url']\n",
    "score = train_positive.loc[(train_positive.loc[:,'score'] < thresholds[-1]),'score']\n",
    "\n",
    "count_key = np.zeros(num_group)\n",
    "url_group = []\n",
    "bloom_filter = []\n",
    "for j in range(int(num_group)):\n",
    "    count_key[j] = sum((score >= thresholds[j]) & (score < thresholds[j+1]))\n",
    "    url_group.append(url[(score >= thresholds[j]) & (score < thresholds[j+1])])\n",
    "\n",
    "### Search the Bloom filters' size\n",
    "R = np.zeros(num_group - 1)\n",
    "R[:] = 0.5*R_sum\n",
    "kk = 1\n",
    "while abs(sum(R)-R_sum)>200:\n",
    "    if (sum(R)>R_sum):\n",
    "        R[0] = R[0] - int((0.5*R_sum)*(0.5)**kk+1)\n",
    "    else:\n",
    "        R[0] = R[0] + int((0.5*R_sum)*(0.5)**kk+1)\n",
    "    for j in range(1, int(num_group-1)):\n",
    "        R[j] = max(int(count_key[j]*(R[0]/count_key[0]+j*np.log(c)/np.log(0.618))),1)\n",
    "    if int((0.5*R_sum)*(0.5)**kk+1) == 1:\n",
    "        break\n",
    "    kk += 1\n",
    "\n",
    "Bloom_Filters = []\n",
    "for j in range(int(num_group-1)):\n",
    "    Bloom_Filters.append(BloomFilter_3(count_key[j], R[j]))\n",
    "    Bloom_Filters[j].insert(url_group[j])\n",
    "\n",
    "### Test URLs\n",
    "ML_positive = test_negative.loc[(test_negative.loc[:,'score'] >= thresholds[-2]),'url']\n",
    "url_negative =  test_negative.loc[(test_negative.loc[:,'score'] < thresholds[-2]),'url']\n",
    "score_negative = test_negative.loc[(test_negative.loc[:,'score'] < thresholds[-2]),'score']\n",
    "\n",
    "test_result = np.zeros(len(url_negative))\n",
    "ss = 0\n",
    "for score_s, url_s in zip(score_negative, url_negative):\n",
    "    ix = min(np.where(score_s < thresholds)[0])\n",
    "    test_result[ss] = Bloom_Filters[ix-1].test(url_s)\n",
    "    ss += 1\n",
    "print('False positive items: ', [num_group, c], sum(test_result)+len(ML_positive))"
   ]
  },
  {
   "cell_type": "markdown",
   "metadata": {},
   "source": [
    "#### Search Optimal k_max and c (Hash_len = 200000)"
   ]
  },
  {
   "cell_type": "code",
   "execution_count": 28,
   "metadata": {},
   "outputs": [
    {
     "name": "stdout",
     "output_type": "stream",
     "text": [
      "False positive items:  [8, 1.6] 4932.0\n",
      "False positive items:  [8, 1.7000000000000002] 3511.0\n",
      "False positive items:  [8, 1.8] 2527.0\n",
      "False positive items:  [8, 1.9000000000000001] 1839.0\n",
      "False positive items:  [8, 2.0] 1354.0\n",
      "False positive items:  [8, 2.1] 1010.0\n",
      "False positive items:  [8, 2.2] 771.0\n",
      "False positive items:  [8, 2.3] 599.0\n",
      "False positive items:  [8, 2.4] 487.0\n",
      "False positive items:  [8, 2.5] 416.0\n",
      "False positive items:  [9, 1.6] 3056.0\n",
      "False positive items:  [9, 1.7000000000000002] 2053.0\n",
      "False positive items:  [9, 1.8] 1399.0\n",
      "False positive items:  [9, 1.9000000000000001] 969.0\n",
      "False positive items:  [9, 2.0] 694.0\n",
      "False positive items:  [9, 2.1] 521.0\n",
      "False positive items:  [9, 2.2] 423.0\n",
      "False positive items:  [9, 2.3] 387.0\n",
      "False positive items:  [9, 2.4] 381.0\n",
      "False positive items:  [9, 2.5] 392.0\n",
      "False positive items:  [10, 1.6] 1900.0\n",
      "False positive items:  [10, 1.7000000000000002] 1208.0\n",
      "False positive items:  [10, 1.8] 780.0\n",
      "False positive items:  [10, 1.9000000000000001] 541.0\n",
      "False positive items:  [10, 2.0] 416.0\n",
      "False positive items:  [10, 2.1] 375.0\n",
      "False positive items:  [10, 2.2] 373.0\n",
      "False positive items:  [10, 2.3] 381.0\n",
      "False positive items:  [10, 2.4] 391.0\n",
      "False positive items:  [10, 2.5] 384.0\n",
      "False positive items:  [11, 1.6] 1184.0\n",
      "False positive items:  [11, 1.7000000000000002] 718.0\n",
      "False positive items:  [11, 1.8] 485.0\n",
      "False positive items:  [11, 1.9000000000000001] 397.0\n",
      "False positive items:  [11, 2.0] 432.0\n",
      "False positive items:  [11, 2.1] 409.0\n",
      "False positive items:  [11, 2.2] 391.0\n",
      "False positive items:  [11, 2.3] 375.0\n",
      "False positive items:  [11, 2.4] 377.0\n",
      "False positive items:  [11, 2.5] 381.0\n",
      "False positive items:  [12, 1.6] 752.0\n",
      "False positive items:  [12, 1.7000000000000002] 478.0\n",
      "False positive items:  [12, 1.8] 396.0\n",
      "False positive items:  [12, 1.9000000000000001] 454.0\n",
      "False positive items:  [12, 2.0] 385.0\n",
      "False positive items:  [12, 2.1] 406.0\n",
      "False positive items:  [12, 2.2] 399.0\n",
      "False positive items:  [12, 2.3] 398.0\n",
      "False positive items:  [12, 2.4] 387.0\n",
      "False positive items:  [12, 2.5] 390.0\n"
     ]
    }
   ],
   "source": [
    "c_set = np.linspace(1.6, 2.5, 10)\n",
    "\n",
    "R_sum = 200000\n",
    "\n",
    "for num_group in range(8,13):\n",
    "    for c in c_set:\n",
    "        ### Determine the thresholds\n",
    "        thresholds = np.zeros(num_group+1)\n",
    "        thresholds[0] = 0\n",
    "        thresholds[-1] = 1\n",
    "        num_negative = sum(train_negative.loc[:,'score'] <= thresholds[-1])\n",
    "        tau = sum(c**np.arange(0, num_group, 1)) \n",
    "        num_piece = int(num_negative/tau)\n",
    "        score = train_negative.loc[(train_negative.loc[:,'score'] <= thresholds[-1]),'score']\n",
    "        score = np.sort(score)\n",
    "        for i in range(num_group-1):\n",
    "            score_1 = score[score<=thresholds[-(i+1)]]\n",
    "            thresholds[-(i+2)] = score_1[-int(num_piece*c**i)]\n",
    "        \n",
    "        ### Count the keys of each group\n",
    "        url =  train_positive.loc[(train_positive.loc[:,'score'] < thresholds[-1]),'url']\n",
    "        score = train_positive.loc[(train_positive.loc[:,'score'] < thresholds[-1]),'score']\n",
    "\n",
    "        count_key = np.zeros(num_group)\n",
    "        url_group = []\n",
    "        bloom_filter = []\n",
    "        for j in range(int(num_group)):\n",
    "            count_key[j] = sum((score >= thresholds[j]) & (score < thresholds[j+1]))\n",
    "            url_group.append(url[(score >= thresholds[j]) & (score < thresholds[j+1])])\n",
    "            \n",
    "        ### Search the Bloom filters' size\n",
    "        R = np.zeros(num_group - 1)\n",
    "        R[:] = 0.5*R_sum\n",
    "        kk = 1\n",
    "        while abs(sum(R)-R_sum)>200:\n",
    "            if (sum(R)>R_sum):\n",
    "                R[0] = R[0] - int((0.5*R_sum)*(0.5)**kk+1)\n",
    "            else:\n",
    "                R[0] = R[0] + int((0.5*R_sum)*(0.5)**kk+1)\n",
    "            for j in range(1, int(num_group-1)):\n",
    "                R[j] = max(int(count_key[j]*(R[0]/count_key[0]+j*np.log(c)/np.log(0.618))),1)\n",
    "            if int((0.5*R_sum)*(0.5)**kk+1) == 1:\n",
    "                break\n",
    "            kk += 1\n",
    "        \n",
    "        Bloom_Filters = []\n",
    "        for j in range(int(num_group-1)):\n",
    "            Bloom_Filters.append(BloomFilter_3(count_key[j], R[j]))\n",
    "            Bloom_Filters[j].insert(url_group[j])\n",
    "            \n",
    "        ### Test URLs\n",
    "        ML_positive = train_negative.loc[(train_negative.loc[:,'score'] >= thresholds[-2]),'url']\n",
    "        url_negative =  train_negative.loc[(train_negative.loc[:,'score'] < thresholds[-2]),'url']\n",
    "        score_negative = train_negative.loc[(train_negative.loc[:,'score'] < thresholds[-2]),'score']\n",
    "\n",
    "        test_result = np.zeros(len(url_negative))\n",
    "        ss = 0\n",
    "        for score_s, url_s in zip(score_negative, url_negative):\n",
    "            ix = min(np.where(score_s < thresholds)[0])\n",
    "            test_result[ss] = Bloom_Filters[ix-1].test(url_s)\n",
    "            ss += 1\n",
    "        print('False positive items: ', [num_group, c], sum(test_result)+len(ML_positive))"
   ]
  },
  {
   "cell_type": "markdown",
   "metadata": {},
   "source": [
    "#### Corresponding performance on the testing set (Hash_len = 200000)"
   ]
  },
  {
   "cell_type": "code",
   "execution_count": 17,
   "metadata": {},
   "outputs": [
    {
     "name": "stdout",
     "output_type": "stream",
     "text": [
      "False positive items:  [8, 2.5] 326.0\n"
     ]
    }
   ],
   "source": [
    "c = 2.5\n",
    "num_group = 8\n",
    "\n",
    "R_sum = 200000\n",
    "\n",
    "### Determine the thresholds\n",
    "thresholds = np.zeros(num_group+1)\n",
    "thresholds[0] = 0\n",
    "thresholds[-1] = 1\n",
    "num_negative = sum(train_negative.loc[:,'score'] <= thresholds[-1])\n",
    "tau = sum(c**np.arange(0, num_group, 1)) \n",
    "num_piece = int(num_negative/tau)\n",
    "score = train_negative.loc[(train_negative.loc[:,'score'] <= thresholds[-1]),'score']\n",
    "score = np.sort(score)\n",
    "for i in range(num_group-1):\n",
    "    score_1 = score[score<=thresholds[-(i+1)]]\n",
    "    thresholds[-(i+2)] = score_1[-int(num_piece*c**i)]\n",
    "\n",
    "### Count the keys of each group\n",
    "url =  train_positive.loc[(train_positive.loc[:,'score'] < thresholds[-1]),'url']\n",
    "score = train_positive.loc[(train_positive.loc[:,'score'] < thresholds[-1]),'score']\n",
    "\n",
    "count_key = np.zeros(num_group)\n",
    "url_group = []\n",
    "bloom_filter = []\n",
    "for j in range(int(num_group)):\n",
    "    count_key[j] = sum((score >= thresholds[j]) & (score < thresholds[j+1]))\n",
    "    url_group.append(url[(score >= thresholds[j]) & (score < thresholds[j+1])])\n",
    "\n",
    "### Search the Bloom filters' size\n",
    "R = np.zeros(num_group - 1)\n",
    "R[:] = 0.5*R_sum\n",
    "kk = 1\n",
    "while abs(sum(R)-R_sum)>200:\n",
    "    if (sum(R)>R_sum):\n",
    "        R[0] = R[0] - int((0.5*R_sum)*(0.5)**kk+1)\n",
    "    else:\n",
    "        R[0] = R[0] + int((0.5*R_sum)*(0.5)**kk+1)\n",
    "    for j in range(1, int(num_group-1)):\n",
    "        R[j] = max(int(count_key[j]*(R[0]/count_key[0]+j*np.log(c)/np.log(0.618))),1)\n",
    "    if int((0.5*R_sum)*(0.5)**kk+1) == 1:\n",
    "        break\n",
    "    kk += 1\n",
    "\n",
    "Bloom_Filters = []\n",
    "for j in range(int(num_group-1)):\n",
    "    Bloom_Filters.append(BloomFilter_3(count_key[j], R[j]))\n",
    "    Bloom_Filters[j].insert(url_group[j])\n",
    "\n",
    "### Test URLs\n",
    "ML_positive = test_negative.loc[(test_negative.loc[:,'score'] >= thresholds[-2]),'url']\n",
    "url_negative =  test_negative.loc[(test_negative.loc[:,'score'] < thresholds[-2]),'url']\n",
    "score_negative = test_negative.loc[(test_negative.loc[:,'score'] < thresholds[-2]),'score']\n",
    "\n",
    "test_result = np.zeros(len(url_negative))\n",
    "ss = 0\n",
    "for score_s, url_s in zip(score_negative, url_negative):\n",
    "    ix = min(np.where(score_s < thresholds)[0])\n",
    "    test_result[ss] = Bloom_Filters[ix-1].test(url_s)\n",
    "    ss += 1\n",
    "print('False positive items: ', [num_group, c], sum(test_result)+len(ML_positive))"
   ]
  },
  {
   "cell_type": "markdown",
   "metadata": {},
   "source": [
    "#### Search Optimal k_max and c (Hash_len = 250000)"
   ]
  },
  {
   "cell_type": "code",
   "execution_count": 31,
   "metadata": {},
   "outputs": [
    {
     "name": "stdout",
     "output_type": "stream",
     "text": [
      "False positive items:  [8, 1.6] 4932.0\n",
      "False positive items:  [8, 1.7000000000000002] 3511.0\n",
      "False positive items:  [8, 1.8] 2527.0\n",
      "False positive items:  [8, 1.9000000000000001] 1839.0\n",
      "False positive items:  [8, 2.0] 1353.0\n",
      "False positive items:  [8, 2.1] 1007.0\n",
      "False positive items:  [8, 2.2] 757.0\n",
      "False positive items:  [8, 2.3] 578.0\n",
      "False positive items:  [8, 2.4] 455.0\n",
      "False positive items:  [8, 2.5] 363.0\n",
      "False positive items:  [9, 1.6] 3056.0\n",
      "False positive items:  [9, 1.7000000000000002] 2053.0\n",
      "False positive items:  [9, 1.8] 1398.0\n",
      "False positive items:  [9, 1.9000000000000001] 965.0\n",
      "False positive items:  [9, 2.0] 678.0\n",
      "False positive items:  [9, 2.1] 487.0\n",
      "False positive items:  [9, 2.2] 359.0\n",
      "False positive items:  [9, 2.3] 278.0\n",
      "False positive items:  [9, 2.4] 252.0\n",
      "False positive items:  [9, 2.5] 241.0\n",
      "False positive items:  [10, 1.6] 1899.0\n",
      "False positive items:  [10, 1.7000000000000002] 1204.0\n",
      "False positive items:  [10, 1.8] 777.0\n",
      "False positive items:  [10, 1.9000000000000001] 513.0\n",
      "False positive items:  [10, 2.0] 366.0\n",
      "False positive items:  [10, 2.1] 278.0\n",
      "False positive items:  [10, 2.2] 274.0\n",
      "False positive items:  [10, 2.3] 254.0\n",
      "False positive items:  [10, 2.4] 231.0\n",
      "False positive items:  [10, 2.5] 215.0\n",
      "False positive items:  [11, 1.6] 1183.0\n",
      "False positive items:  [11, 1.7000000000000002] 707.0\n",
      "False positive items:  [11, 1.8] 442.0\n",
      "False positive items:  [11, 1.9000000000000001] 312.0\n",
      "False positive items:  [11, 2.0] 264.0\n",
      "False positive items:  [11, 2.1] 237.0\n",
      "False positive items:  [11, 2.2] 216.0\n",
      "False positive items:  [11, 2.3] 240.0\n",
      "False positive items:  [11, 2.4] 258.0\n",
      "False positive items:  [11, 2.5] 230.0\n",
      "False positive items:  [12, 1.6] 738.0\n",
      "False positive items:  [12, 1.7000000000000002] 431.0\n",
      "False positive items:  [12, 1.8] 301.0\n",
      "False positive items:  [12, 1.9000000000000001] 268.0\n",
      "False positive items:  [12, 2.0] 221.0\n",
      "False positive items:  [12, 2.1] 239.0\n",
      "False positive items:  [12, 2.2] 224.0\n",
      "False positive items:  [12, 2.3] 250.0\n",
      "False positive items:  [12, 2.4] 233.0\n",
      "False positive items:  [12, 2.5] 200.0\n"
     ]
    }
   ],
   "source": [
    "c_set = np.linspace(1.6, 2.5, 10)\n",
    "\n",
    "R_sum = 250000\n",
    "\n",
    "for num_group in range(8,13):\n",
    "    for c in c_set:\n",
    "        ### Determine the thresholds\n",
    "        thresholds = np.zeros(num_group+1)\n",
    "        thresholds[0] = 0\n",
    "        thresholds[-1] = 1\n",
    "        num_negative = sum(train_negative.loc[:,'score'] <= thresholds[-1])\n",
    "        tau = sum(c**np.arange(0, num_group, 1)) \n",
    "        num_piece = int(num_negative/tau)\n",
    "        score = train_negative.loc[(train_negative.loc[:,'score'] <= thresholds[-1]),'score']\n",
    "        score = np.sort(score)\n",
    "        for i in range(num_group-1):\n",
    "            score_1 = score[score<=thresholds[-(i+1)]]\n",
    "            thresholds[-(i+2)] = score_1[-int(num_piece*c**i)]\n",
    "        \n",
    "        ### Count the keys of each group\n",
    "        url =  train_positive.loc[(train_positive.loc[:,'score'] < thresholds[-1]),'url']\n",
    "        score = train_positive.loc[(train_positive.loc[:,'score'] < thresholds[-1]),'score']\n",
    "\n",
    "        count_key = np.zeros(num_group)\n",
    "        url_group = []\n",
    "        bloom_filter = []\n",
    "        for j in range(int(num_group)):\n",
    "            count_key[j] = sum((score >= thresholds[j]) & (score < thresholds[j+1]))\n",
    "            url_group.append(url[(score >= thresholds[j]) & (score < thresholds[j+1])])\n",
    "            \n",
    "        ### Search the Bloom filters' size\n",
    "        R = np.zeros(num_group - 1)\n",
    "        R[:] = 0.5*R_sum\n",
    "        kk = 1\n",
    "        while abs(sum(R)-R_sum)>200:\n",
    "            if (sum(R)>R_sum):\n",
    "                R[0] = R[0] - int((0.5*R_sum)*(0.5)**kk+1)\n",
    "            else:\n",
    "                R[0] = R[0] + int((0.5*R_sum)*(0.5)**kk+1)\n",
    "            for j in range(1, int(num_group-1)):\n",
    "                R[j] = max(int(count_key[j]*(R[0]/count_key[0]+j*np.log(c)/np.log(0.618))),1)\n",
    "            if int((0.5*R_sum)*(0.5)**kk+1) == 1:\n",
    "                break\n",
    "            kk += 1\n",
    "        \n",
    "        Bloom_Filters = []\n",
    "        for j in range(int(num_group-1)):\n",
    "            Bloom_Filters.append(BloomFilter_3(count_key[j], R[j]))\n",
    "            Bloom_Filters[j].insert(url_group[j])\n",
    "            \n",
    "        ### Test URLs\n",
    "        ML_positive = train_negative.loc[(train_negative.loc[:,'score'] >= thresholds[-2]),'url']\n",
    "        url_negative =  train_negative.loc[(train_negative.loc[:,'score'] < thresholds[-2]),'url']\n",
    "        score_negative = train_negative.loc[(train_negative.loc[:,'score'] < thresholds[-2]),'score']\n",
    "\n",
    "        test_result = np.zeros(len(url_negative))\n",
    "        ss = 0\n",
    "        for score_s, url_s in zip(score_negative, url_negative):\n",
    "            ix = min(np.where(score_s < thresholds)[0])\n",
    "            test_result[ss] = Bloom_Filters[ix-1].test(url_s)\n",
    "            ss += 1\n",
    "        print('False positive items: ', [num_group, c], sum(test_result)+len(ML_positive))"
   ]
  },
  {
   "cell_type": "markdown",
   "metadata": {},
   "source": [
    "#### Corresponding performance on the testing set (Hash_len = 250000)"
   ]
  },
  {
   "cell_type": "code",
   "execution_count": 19,
   "metadata": {},
   "outputs": [
    {
     "name": "stdout",
     "output_type": "stream",
     "text": [
      "False positive items:  [12, 2.5] 223.0\n"
     ]
    }
   ],
   "source": [
    "c = 2.5\n",
    "num_group = 12\n",
    "\n",
    "R_sum = 250000\n",
    "\n",
    "### Determine the thresholds\n",
    "thresholds = np.zeros(num_group+1)\n",
    "thresholds[0] = 0\n",
    "thresholds[-1] = 1\n",
    "num_negative = sum(train_negative.loc[:,'score'] <= thresholds[-1])\n",
    "tau = sum(c**np.arange(0, num_group, 1)) \n",
    "num_piece = int(num_negative/tau)\n",
    "score = train_negative.loc[(train_negative.loc[:,'score'] <= thresholds[-1]),'score']\n",
    "score = np.sort(score)\n",
    "for i in range(num_group-1):\n",
    "    score_1 = score[score<=thresholds[-(i+1)]]\n",
    "    thresholds[-(i+2)] = score_1[-int(num_piece*c**i)]\n",
    "\n",
    "### Count the keys of each group\n",
    "url =  train_positive.loc[(train_positive.loc[:,'score'] < thresholds[-1]),'url']\n",
    "score = train_positive.loc[(train_positive.loc[:,'score'] < thresholds[-1]),'score']\n",
    "\n",
    "count_key = np.zeros(num_group)\n",
    "url_group = []\n",
    "bloom_filter = []\n",
    "for j in range(int(num_group)):\n",
    "    count_key[j] = sum((score >= thresholds[j]) & (score < thresholds[j+1]))\n",
    "    url_group.append(url[(score >= thresholds[j]) & (score < thresholds[j+1])])\n",
    "\n",
    "### Search the Bloom filters' size\n",
    "R = np.zeros(num_group - 1)\n",
    "R[:] = 0.5*R_sum\n",
    "kk = 1\n",
    "while abs(sum(R)-R_sum)>200:\n",
    "    if (sum(R)>R_sum):\n",
    "        R[0] = R[0] - int((0.5*R_sum)*(0.5)**kk+1)\n",
    "    else:\n",
    "        R[0] = R[0] + int((0.5*R_sum)*(0.5)**kk+1)\n",
    "    for j in range(1, int(num_group-1)):\n",
    "        R[j] = max(int(count_key[j]*(R[0]/count_key[0]+j*np.log(c)/np.log(0.618))),1)\n",
    "    if int((0.5*R_sum)*(0.5)**kk+1) == 1:\n",
    "        break\n",
    "    kk += 1\n",
    "\n",
    "Bloom_Filters = []\n",
    "for j in range(int(num_group-1)):\n",
    "    Bloom_Filters.append(BloomFilter_3(count_key[j], R[j]))\n",
    "    Bloom_Filters[j].insert(url_group[j])\n",
    "\n",
    "### Test URLs\n",
    "ML_positive = test_negative.loc[(test_negative.loc[:,'score'] >= thresholds[-2]),'url']\n",
    "url_negative =  test_negative.loc[(test_negative.loc[:,'score'] < thresholds[-2]),'url']\n",
    "score_negative = test_negative.loc[(test_negative.loc[:,'score'] < thresholds[-2]),'score']\n",
    "\n",
    "test_result = np.zeros(len(url_negative))\n",
    "ss = 0\n",
    "for score_s, url_s in zip(score_negative, url_negative):\n",
    "    ix = min(np.where(score_s < thresholds)[0])\n",
    "    test_result[ss] = Bloom_Filters[ix-1].test(url_s)\n",
    "    ss += 1\n",
    "print('False positive items: ', [num_group, c], sum(test_result)+len(ML_positive))"
   ]
  },
  {
   "cell_type": "markdown",
   "metadata": {},
   "source": [
    "## <font color='red'> Enhanced Version of ML based Bloom Filter (Version 2)</font>"
   ]
  },
  {
   "cell_type": "code",
   "execution_count": 32,
   "metadata": {},
   "outputs": [],
   "source": [
    "class BloomFilter_2():\n",
    "    def __init__(self, n, hash_len, k_max):\n",
    "        self.n = n\n",
    "        self.hash_len = int(hash_len)\n",
    "        self.h = []\n",
    "        for i in range(int(k_max)):\n",
    "            self.h.append(hashfunc(self.hash_len))\n",
    "        self.table = np.zeros(self.hash_len, dtype=int)\n",
    "    def insert(self, key, k):\n",
    "        for j in range(int(k)):\n",
    "            t = self.h[j](key)\n",
    "            self.table[t] = 1\n",
    "    def test(self, key, k):\n",
    "        test_result = 0\n",
    "        match = 0\n",
    "        for j in range(int(k)):\n",
    "            t = self.h[j](key)\n",
    "            match += 1*(self.table[t] == 1)\n",
    "        if match == k:\n",
    "            test_result = 1\n",
    "        return test_result"
   ]
  },
  {
   "cell_type": "markdown",
   "metadata": {},
   "source": [
    "#### Search Optimal k_max and c (Hash_len = 100000)"
   ]
  },
  {
   "cell_type": "code",
   "execution_count": 33,
   "metadata": {},
   "outputs": [
    {
     "name": "stdout",
     "output_type": "stream",
     "text": [
      "False positive items:  [8, 1.6] 3931.0\n",
      "False positive items:  [8, 1.7000000000000002] 2818.0\n",
      "False positive items:  [8, 1.8] 2108.0\n",
      "False positive items:  [8, 1.9000000000000001] 1728.0\n",
      "False positive items:  [8, 2.0] 1371.0\n",
      "False positive items:  [8, 2.1] 1283.0\n",
      "False positive items:  [8, 2.2] 1280.0\n",
      "False positive items:  [8, 2.3] 1370.0\n",
      "False positive items:  [8, 2.4] 1687.0\n",
      "False positive items:  [8, 2.5] 2325.0\n",
      "False positive items:  [9, 1.6] 2674.0\n",
      "False positive items:  [9, 1.7000000000000002] 1939.0\n",
      "False positive items:  [9, 1.8] 1478.0\n",
      "False positive items:  [9, 1.9000000000000001] 1255.0\n",
      "False positive items:  [9, 2.0] 1205.0\n",
      "False positive items:  [9, 2.1] 1239.0\n",
      "False positive items:  [9, 2.2] 1797.0\n",
      "False positive items:  [9, 2.3] 2600.0\n",
      "False positive items:  [9, 2.4] 3797.0\n",
      "False positive items:  [9, 2.5] 5706.0\n",
      "False positive items:  [10, 1.6] 1909.0\n",
      "False positive items:  [10, 1.7000000000000002] 1377.0\n",
      "False positive items:  [10, 1.8] 1103.0\n",
      "False positive items:  [10, 1.9000000000000001] 1133.0\n",
      "False positive items:  [10, 2.0] 1496.0\n",
      "False positive items:  [10, 2.1] 2467.0\n",
      "False positive items:  [10, 2.2] 4057.0\n",
      "False positive items:  [10, 2.3] 6957.0\n",
      "False positive items:  [10, 2.4] 12095.0\n",
      "False positive items:  [10, 2.5] 18665.0\n",
      "False positive items:  [11, 1.6] 1406.0\n",
      "False positive items:  [11, 1.7000000000000002] 1096.0\n",
      "False positive items:  [11, 1.8] 1084.0\n",
      "False positive items:  [11, 1.9000000000000001] 1790.0\n",
      "False positive items:  [11, 2.0] 2977.0\n",
      "False positive items:  [11, 2.1] 6002.0\n",
      "False positive items:  [11, 2.2] 11682.0\n",
      "False positive items:  [11, 2.3] 21339.0\n",
      "False positive items:  [11, 2.4] 30279.0\n",
      "False positive items:  [11, 2.5] 48544.0\n",
      "False positive items:  [12, 1.6] 1092.0\n",
      "False positive items:  [12, 1.7000000000000002] 1016.0\n",
      "False positive items:  [12, 1.8] 1672.0\n",
      "False positive items:  [12, 1.9000000000000001] 3560.0\n",
      "False positive items:  [12, 2.0] 7864.0\n",
      "False positive items:  [12, 2.1] 17717.0\n",
      "False positive items:  [12, 2.2] 30650.0\n",
      "False positive items:  [12, 2.3] 54431.0\n",
      "False positive items:  [12, 2.4] 70265.0\n",
      "False positive items:  [12, 2.5] 88227.0\n"
     ]
    }
   ],
   "source": [
    "k_min = 0\n",
    "k_max_set = range(8,13)\n",
    "c_set = np.linspace(1.6, 2.5, 10)\n",
    "for k_max in k_max_set:\n",
    "    for c in c_set:\n",
    "        tau = sum(c**np.arange(0, k_max-k_min+1, 1)) \n",
    "        n = train_positive.shape[0]\n",
    "        hash_len = 100000\n",
    "        bloom_filter = BloomFilter_2(n, hash_len, k_max)\n",
    "        thresholds = np.zeros(k_max-k_min+1)\n",
    "        thresholds[-1] = 1\n",
    "        num_negative = sum(train_negative.loc[:,'score'] <= thresholds[-1])\n",
    "        num_piece = int(num_negative/tau)+1\n",
    "        score = train_negative.loc[(train_negative.loc[:,'score'] <= thresholds[-1]),'score']\n",
    "        score = np.sort(score)\n",
    "        for k in range(k_min,k_max):\n",
    "            i = k - k_min\n",
    "            score_1 = score[score<=thresholds[-(i+1)]]\n",
    "            thresholds[-(i+2)] = score_1[-int(num_piece*c**i)]\n",
    "        url =  train_positive.loc[(train_positive.loc[:,'score'] < thresholds[-1]),'url']\n",
    "        score = train_positive.loc[(train_positive.loc[:,'score'] < thresholds[-1]),'score']\n",
    "\n",
    "        for score_s, url_s in zip(score, url):\n",
    "            ix = min(np.where(score_s<=thresholds)[0])\n",
    "            thres = thresholds[ix]\n",
    "            k = k_max - ix\n",
    "            bloom_filter.insert(url_s, k)\n",
    "        ML_positive = train_negative.loc[(train_negative.loc[:,'score'] > thresholds[-1]),'url']\n",
    "        url_negative =  train_negative.loc[(train_negative.loc[:,'score'] <= thresholds[-1]),'url']\n",
    "        score_negative = train_negative.loc[(train_negative.loc[:,'score'] <= thresholds[-1]),'score']\n",
    "\n",
    "        test_result = np.zeros(len(url_negative))\n",
    "        ss = 0\n",
    "        for score_s, url_s in zip(score_negative, url_negative):\n",
    "            ix = min(np.where(score_s<=thresholds)[0])\n",
    "            thres = thresholds[ix]\n",
    "            k = k_max - ix\n",
    "            test_result[ss] = bloom_filter.test(url_s, k)\n",
    "            ss += 1\n",
    "        print('False positive items: ', [k_max, c], sum(test_result)+len(ML_positive))"
   ]
  },
  {
   "cell_type": "markdown",
   "metadata": {},
   "source": [
    "#### Corresponding performance on the testing set (Hash_len = 100000)"
   ]
  },
  {
   "cell_type": "code",
   "execution_count": 14,
   "metadata": {},
   "outputs": [
    {
     "name": "stdout",
     "output_type": "stream",
     "text": [
      "False positive items:  [12, 1.7] 598.0\n"
     ]
    }
   ],
   "source": [
    "k_min = 0\n",
    "k_max = 12\n",
    "c = 1.7\n",
    "\n",
    "\n",
    "tau = sum(c**np.arange(0, k_max-k_min+1, 1)) \n",
    "n = train_positive.shape[0]\n",
    "hash_len = 100000\n",
    "bloom_filter = BloomFilter_2(n, hash_len, k_max)\n",
    "thresholds = np.zeros(k_max-k_min+1)\n",
    "thresholds[-1] = 1\n",
    "num_negative = sum(train_negative.loc[:,'score'] <= thresholds[-1])\n",
    "num_piece = int(num_negative/tau)+1\n",
    "score = train_negative.loc[(train_negative.loc[:,'score'] <= thresholds[-1]),'score']\n",
    "score = np.sort(score)\n",
    "for k in range(k_min,k_max):\n",
    "    i = k - k_min\n",
    "    score_1 = score[score<=thresholds[-(i+1)]]\n",
    "    thresholds[-(i+2)] = score_1[-int(num_piece*c**i)]\n",
    "url =  train_positive.loc[(train_positive.loc[:,'score'] < thresholds[-1]),'url']\n",
    "score = train_positive.loc[(train_positive.loc[:,'score'] < thresholds[-1]),'score']\n",
    "\n",
    "for score_s, url_s in zip(score, url):\n",
    "    ix = min(np.where(score_s<=thresholds)[0])\n",
    "    thres = thresholds[ix]\n",
    "    k = k_max - ix\n",
    "    bloom_filter.insert(url_s, k)\n",
    "ML_positive = test_negative.loc[(test_negative.loc[:,'score'] > thresholds[-1]),'url']\n",
    "url_negative =  test_negative.loc[(test_negative.loc[:,'score'] <= thresholds[-1]),'url']\n",
    "score_negative = test_negative.loc[(test_negative.loc[:,'score'] <= thresholds[-1]),'score']\n",
    "\n",
    "test_result = np.zeros(len(url_negative))\n",
    "ss = 0\n",
    "for score_s, url_s in zip(score_negative, url_negative):\n",
    "    ix = min(np.where(score_s<=thresholds)[0])\n",
    "    thres = thresholds[ix]\n",
    "    k = k_max - ix\n",
    "    test_result[ss] = bloom_filter.test(url_s, k)\n",
    "    ss += 1\n",
    "print('False positive items: ', [k_max, c], sum(test_result)+len(ML_positive))"
   ]
  },
  {
   "cell_type": "markdown",
   "metadata": {},
   "source": [
    "#### Search Optimal k_max and c (Hash_len = 150000)"
   ]
  },
  {
   "cell_type": "code",
   "execution_count": 34,
   "metadata": {},
   "outputs": [
    {
     "name": "stdout",
     "output_type": "stream",
     "text": [
      "False positive items:  [8, 1.6] 3568.0\n",
      "False positive items:  [8, 1.7000000000000002] 2527.0\n",
      "False positive items:  [8, 1.8] 1822.0\n",
      "False positive items:  [8, 1.9000000000000001] 1359.0\n",
      "False positive items:  [8, 2.0] 1056.0\n",
      "False positive items:  [8, 2.1] 828.0\n",
      "False positive items:  [8, 2.2] 728.0\n",
      "False positive items:  [8, 2.3] 672.0\n",
      "False positive items:  [8, 2.4] 653.0\n",
      "False positive items:  [8, 2.5] 703.0\n",
      "False positive items:  [9, 1.6] 2349.0\n",
      "False positive items:  [9, 1.7000000000000002] 1626.0\n",
      "False positive items:  [9, 1.8] 1131.0\n",
      "False positive items:  [9, 1.9000000000000001] 878.0\n",
      "False positive items:  [9, 2.0] 728.0\n",
      "False positive items:  [9, 2.1] 633.0\n",
      "False positive items:  [9, 2.2] 598.0\n",
      "False positive items:  [9, 2.3] 679.0\n",
      "False positive items:  [9, 2.4] 768.0\n",
      "False positive items:  [9, 2.5] 1055.0\n",
      "False positive items:  [10, 1.6] 1624.0\n",
      "False positive items:  [10, 1.7000000000000002] 1081.0\n",
      "False positive items:  [10, 1.8] 774.0\n",
      "False positive items:  [10, 1.9000000000000001] 623.0\n",
      "False positive items:  [10, 2.0] 580.0\n",
      "False positive items:  [10, 2.1] 591.0\n",
      "False positive items:  [10, 2.2] 712.0\n",
      "False positive items:  [10, 2.3] 1114.0\n",
      "False positive items:  [10, 2.4] 1753.0\n",
      "False positive items:  [10, 2.5] 2709.0\n",
      "False positive items:  [11, 1.6] 1105.0\n",
      "False positive items:  [11, 1.7000000000000002] 750.0\n",
      "False positive items:  [11, 1.8] 563.0\n",
      "False positive items:  [11, 1.9000000000000001] 502.0\n",
      "False positive items:  [11, 2.0] 580.0\n",
      "False positive items:  [11, 2.1] 838.0\n",
      "False positive items:  [11, 2.2] 1552.0\n",
      "False positive items:  [11, 2.3] 2971.0\n",
      "False positive items:  [11, 2.4] 4647.0\n",
      "False positive items:  [11, 2.5] 8056.0\n",
      "False positive items:  [12, 1.6] 797.0\n",
      "False positive items:  [12, 1.7000000000000002] 583.0\n",
      "False positive items:  [12, 1.8] 522.0\n",
      "False positive items:  [12, 1.9000000000000001] 622.0\n",
      "False positive items:  [12, 2.0] 937.0\n",
      "False positive items:  [12, 2.1] 2277.0\n",
      "False positive items:  [12, 2.2] 4308.0\n",
      "False positive items:  [12, 2.3] 8809.0\n",
      "False positive items:  [12, 2.4] 12347.0\n",
      "False positive items:  [12, 2.5] 17920.0\n"
     ]
    }
   ],
   "source": [
    "k_min = 0\n",
    "k_max_set = range(8,13)\n",
    "c_set = np.linspace(1.6, 2.5, 10)\n",
    "for k_max in k_max_set:\n",
    "    for c in c_set:\n",
    "        tau = sum(c**np.arange(0, k_max-k_min+1, 1)) \n",
    "        n = train_positive.shape[0]\n",
    "        hash_len = 150000\n",
    "        bloom_filter = BloomFilter_2(n, hash_len, k_max)\n",
    "        thresholds = np.zeros(k_max-k_min+1)\n",
    "        thresholds[-1] = 1\n",
    "        num_negative = sum(train_negative.loc[:,'score'] <= thresholds[-1])\n",
    "        num_piece = int(num_negative/tau)+1\n",
    "        score = train_negative.loc[(train_negative.loc[:,'score'] <= thresholds[-1]),'score']\n",
    "        score = np.sort(score)\n",
    "        for k in range(k_min,k_max):\n",
    "            i = k - k_min\n",
    "            score_1 = score[score<=thresholds[-(i+1)]]\n",
    "            thresholds[-(i+2)] = score_1[-int(num_piece*c**i)]\n",
    "        url =  train_positive.loc[(train_positive.loc[:,'score'] < thresholds[-1]),'url']\n",
    "        score = train_positive.loc[(train_positive.loc[:,'score'] < thresholds[-1]),'score']\n",
    "\n",
    "        for score_s, url_s in zip(score, url):\n",
    "            ix = min(np.where(score_s<=thresholds)[0])\n",
    "            thres = thresholds[ix]\n",
    "            k = k_max - ix\n",
    "            bloom_filter.insert(url_s, k)\n",
    "        ML_positive = train_negative.loc[(train_negative.loc[:,'score'] > thresholds[-1]),'url']\n",
    "        url_negative =  train_negative.loc[(train_negative.loc[:,'score'] <= thresholds[-1]),'url']\n",
    "        score_negative = train_negative.loc[(train_negative.loc[:,'score'] <= thresholds[-1]),'score']\n",
    "\n",
    "        test_result = np.zeros(len(url_negative))\n",
    "        ss = 0\n",
    "        for score_s, url_s in zip(score_negative, url_negative):\n",
    "            ix = min(np.where(score_s<=thresholds)[0])\n",
    "            thres = thresholds[ix]\n",
    "            k = k_max - ix\n",
    "            test_result[ss] = bloom_filter.test(url_s, k)\n",
    "            ss += 1\n",
    "        print('False positive items: ', [k_max, c], sum(test_result)+len(ML_positive))"
   ]
  },
  {
   "cell_type": "markdown",
   "metadata": {},
   "source": [
    "#### Corresponding performance on the testing set (Hash_len = 150000)"
   ]
  },
  {
   "cell_type": "code",
   "execution_count": 16,
   "metadata": {},
   "outputs": [
    {
     "name": "stdout",
     "output_type": "stream",
     "text": [
      "False positive items:  [11, 1.8] 382.0\n"
     ]
    }
   ],
   "source": [
    "k_min = 0\n",
    "k_max = 11\n",
    "c = 1.8\n",
    "\n",
    "\n",
    "tau = sum(c**np.arange(0, k_max-k_min+1, 1)) \n",
    "n = train_positive.shape[0]\n",
    "hash_len = 150000\n",
    "bloom_filter = BloomFilter_2(n, hash_len, k_max)\n",
    "thresholds = np.zeros(k_max-k_min+1)\n",
    "thresholds[-1] = 1\n",
    "num_negative = sum(train_negative.loc[:,'score'] <= thresholds[-1])\n",
    "num_piece = int(num_negative/tau)+1\n",
    "score = train_negative.loc[(train_negative.loc[:,'score'] <= thresholds[-1]),'score']\n",
    "score = np.sort(score)\n",
    "for k in range(k_min,k_max):\n",
    "    i = k - k_min\n",
    "    score_1 = score[score<=thresholds[-(i+1)]]\n",
    "    thresholds[-(i+2)] = score_1[-int(num_piece*c**i)]\n",
    "url =  train_positive.loc[(train_positive.loc[:,'score'] < thresholds[-1]),'url']\n",
    "score = train_positive.loc[(train_positive.loc[:,'score'] < thresholds[-1]),'score']\n",
    "\n",
    "for score_s, url_s in zip(score, url):\n",
    "    ix = min(np.where(score_s<=thresholds)[0])\n",
    "    thres = thresholds[ix]\n",
    "    k = k_max - ix\n",
    "    bloom_filter.insert(url_s, k)\n",
    "ML_positive = test_negative.loc[(test_negative.loc[:,'score'] > thresholds[-1]),'url']\n",
    "url_negative =  test_negative.loc[(test_negative.loc[:,'score'] <= thresholds[-1]),'url']\n",
    "score_negative = test_negative.loc[(test_negative.loc[:,'score'] <= thresholds[-1]),'score']\n",
    "\n",
    "test_result = np.zeros(len(url_negative))\n",
    "ss = 0\n",
    "for score_s, url_s in zip(score_negative, url_negative):\n",
    "    ix = min(np.where(score_s<=thresholds)[0])\n",
    "    thres = thresholds[ix]\n",
    "    k = k_max - ix\n",
    "    test_result[ss] = bloom_filter.test(url_s, k)\n",
    "    ss += 1\n",
    "print('False positive items: ', [k_max, c], sum(test_result)+len(ML_positive))"
   ]
  },
  {
   "cell_type": "markdown",
   "metadata": {},
   "source": [
    "#### Search Optimal k_max and c (Hash_len = 200000)"
   ]
  },
  {
   "cell_type": "code",
   "execution_count": 35,
   "metadata": {},
   "outputs": [
    {
     "name": "stdout",
     "output_type": "stream",
     "text": [
      "False positive items:  [8, 1.6] 3422.0\n",
      "False positive items:  [8, 1.7000000000000002] 2387.0\n",
      "False positive items:  [8, 1.8] 1711.0\n",
      "False positive items:  [8, 1.9] 1259.0\n",
      "False positive items:  [8, 2.0] 956.0\n",
      "False positive items:  [8, 2.1] 728.0\n",
      "False positive items:  [8, 2.2] 584.0\n",
      "False positive items:  [8, 2.3] 472.0\n",
      "False positive items:  [8, 2.4] 449.0\n",
      "False positive items:  [8, 2.5] 385.0\n",
      "False positive items:  [8, 2.5999999999999996] 377.0\n",
      "False positive items:  [8, 2.6999999999999997] 403.0\n",
      "False positive items:  [8, 2.8] 414.0\n",
      "False positive items:  [9, 1.6] 2266.0\n",
      "False positive items:  [9, 1.7000000000000002] 1486.0\n",
      "False positive items:  [9, 1.8] 1029.0\n",
      "False positive items:  [9, 1.9] 751.0\n",
      "False positive items:  [9, 2.0] 556.0\n",
      "False positive items:  [9, 2.1] 455.0\n",
      "False positive items:  [9, 2.2] 371.0\n",
      "False positive items:  [9, 2.3] 346.0\n",
      "False positive items:  [9, 2.4] 346.0\n",
      "False positive items:  [9, 2.5] 386.0\n",
      "False positive items:  [9, 2.5999999999999996] 456.0\n",
      "False positive items:  [9, 2.6999999999999997] 623.0\n",
      "False positive items:  [9, 2.8] 818.0\n",
      "False positive items:  [10, 1.6] 1454.0\n",
      "False positive items:  [10, 1.7000000000000002] 967.0\n",
      "False positive items:  [10, 1.8] 660.0\n",
      "False positive items:  [10, 1.9] 474.0\n",
      "False positive items:  [10, 2.0] 363.0\n",
      "False positive items:  [10, 2.1] 313.0\n",
      "False positive items:  [10, 2.2] 337.0\n",
      "False positive items:  [10, 2.3] 356.0\n",
      "False positive items:  [10, 2.4] 441.0\n",
      "False positive items:  [10, 2.5] 634.0\n",
      "False positive items:  [10, 2.5999999999999996] 943.0\n",
      "False positive items:  [10, 2.6999999999999997] 1433.0\n",
      "False positive items:  [10, 2.8] 1933.0\n",
      "False positive items:  [11, 1.6] 977.0\n",
      "False positive items:  [11, 1.7000000000000002] 641.0\n",
      "False positive items:  [11, 1.8] 442.0\n",
      "False positive items:  [11, 1.9] 357.0\n",
      "False positive items:  [11, 2.0] 290.0\n",
      "False positive items:  [11, 2.1] 291.0\n",
      "False positive items:  [11, 2.2] 416.0\n",
      "False positive items:  [11, 2.3] 637.0\n",
      "False positive items:  [11, 2.4] 974.0\n",
      "False positive items:  [11, 2.5] 1702.0\n",
      "False positive items:  [11, 2.5999999999999996] 2633.0\n",
      "False positive items:  [11, 2.6999999999999997] 3755.0\n",
      "False positive items:  [11, 2.8] 5243.0\n",
      "False positive items:  [12, 1.6] 699.0\n",
      "False positive items:  [12, 1.7000000000000002] 434.0\n",
      "False positive items:  [12, 1.8] 327.0\n",
      "False positive items:  [12, 1.9] 284.0\n",
      "False positive items:  [12, 2.0] 328.0\n",
      "False positive items:  [12, 2.1] 500.0\n",
      "False positive items:  [12, 2.2] 848.0\n",
      "False positive items:  [12, 2.3] 1594.0\n",
      "False positive items:  [12, 2.4] 2496.0\n",
      "False positive items:  [12, 2.5] 3724.0\n",
      "False positive items:  [12, 2.5999999999999996] 5285.0\n",
      "False positive items:  [12, 2.6999999999999997] 7436.0\n",
      "False positive items:  [12, 2.8] 16164.0\n"
     ]
    }
   ],
   "source": [
    "k_min = 0\n",
    "k_max_set = range(8,13)\n",
    "c_set = np.linspace(1.6, 2.8, 13)\n",
    "for k_max in k_max_set:\n",
    "    for c in c_set:\n",
    "        tau = sum(c**np.arange(0, k_max-k_min+1, 1)) \n",
    "        n = train_positive.shape[0]\n",
    "        hash_len = 200000\n",
    "        bloom_filter = BloomFilter_2(n, hash_len, k_max)\n",
    "        thresholds = np.zeros(k_max-k_min+1)\n",
    "        thresholds[-1] = 1\n",
    "        num_negative = sum(train_negative.loc[:,'score'] <= thresholds[-1])\n",
    "        num_piece = int(num_negative/tau)+1\n",
    "        score = train_negative.loc[(train_negative.loc[:,'score'] <= thresholds[-1]),'score']\n",
    "        score = np.sort(score)\n",
    "        for k in range(k_min,k_max):\n",
    "            i = k - k_min\n",
    "            score_1 = score[score<=thresholds[-(i+1)]]\n",
    "            thresholds[-(i+2)] = score_1[-int(num_piece*c**i)]\n",
    "        url =  train_positive.loc[(train_positive.loc[:,'score'] < thresholds[-1]),'url']\n",
    "        score = train_positive.loc[(train_positive.loc[:,'score'] < thresholds[-1]),'score']\n",
    "\n",
    "        for score_s, url_s in zip(score, url):\n",
    "            ix = min(np.where(score_s<=thresholds)[0])\n",
    "            thres = thresholds[ix]\n",
    "            k = k_max - ix\n",
    "            bloom_filter.insert(url_s, k)\n",
    "        ML_positive = train_negative.loc[(train_negative.loc[:,'score'] > thresholds[-1]),'url']\n",
    "        url_negative =  train_negative.loc[(train_negative.loc[:,'score'] <= thresholds[-1]),'url']\n",
    "        score_negative = train_negative.loc[(train_negative.loc[:,'score'] <= thresholds[-1]),'score']\n",
    "\n",
    "        test_result = np.zeros(len(url_negative))\n",
    "        ss = 0\n",
    "        for score_s, url_s in zip(score_negative, url_negative):\n",
    "            ix = min(np.where(score_s<=thresholds)[0])\n",
    "            thres = thresholds[ix]\n",
    "            k = k_max - ix\n",
    "            test_result[ss] = bloom_filter.test(url_s, k)\n",
    "            ss += 1\n",
    "        print('False positive items: ', [k_max, c], sum(test_result)+len(ML_positive))"
   ]
  },
  {
   "cell_type": "markdown",
   "metadata": {},
   "source": [
    "#### Corresponding performance on the testing set (Hash_len = 200000)"
   ]
  },
  {
   "cell_type": "code",
   "execution_count": 17,
   "metadata": {},
   "outputs": [
    {
     "name": "stdout",
     "output_type": "stream",
     "text": [
      "False positive items:  [11, 1.9] 242.0\n"
     ]
    }
   ],
   "source": [
    "k_min = 0\n",
    "k_max = 11\n",
    "c = 1.9\n",
    "\n",
    "\n",
    "tau = sum(c**np.arange(0, k_max-k_min+1, 1)) \n",
    "n = train_positive.shape[0]\n",
    "hash_len = 200000\n",
    "bloom_filter = BloomFilter_2(n, hash_len, k_max)\n",
    "thresholds = np.zeros(k_max-k_min+1)\n",
    "thresholds[-1] = 1\n",
    "num_negative = sum(train_negative.loc[:,'score'] <= thresholds[-1])\n",
    "num_piece = int(num_negative/tau)+1\n",
    "score = train_negative.loc[(train_negative.loc[:,'score'] <= thresholds[-1]),'score']\n",
    "score = np.sort(score)\n",
    "for k in range(k_min,k_max):\n",
    "    i = k - k_min\n",
    "    score_1 = score[score<=thresholds[-(i+1)]]\n",
    "    thresholds[-(i+2)] = score_1[-int(num_piece*c**i)]\n",
    "url =  train_positive.loc[(train_positive.loc[:,'score'] < thresholds[-1]),'url']\n",
    "score = train_positive.loc[(train_positive.loc[:,'score'] < thresholds[-1]),'score']\n",
    "\n",
    "for score_s, url_s in zip(score, url):\n",
    "    ix = min(np.where(score_s<=thresholds)[0])\n",
    "    thres = thresholds[ix]\n",
    "    k = k_max - ix\n",
    "    bloom_filter.insert(url_s, k)\n",
    "ML_positive = test_negative.loc[(test_negative.loc[:,'score'] > thresholds[-1]),'url']\n",
    "url_negative =  test_negative.loc[(test_negative.loc[:,'score'] <= thresholds[-1]),'url']\n",
    "score_negative = test_negative.loc[(test_negative.loc[:,'score'] <= thresholds[-1]),'score']\n",
    "\n",
    "test_result = np.zeros(len(url_negative))\n",
    "ss = 0\n",
    "for score_s, url_s in zip(score_negative, url_negative):\n",
    "    ix = min(np.where(score_s<=thresholds)[0])\n",
    "    thres = thresholds[ix]\n",
    "    k = k_max - ix\n",
    "    test_result[ss] = bloom_filter.test(url_s, k)\n",
    "    ss += 1\n",
    "print('False positive items: ', [k_max, c], sum(test_result)+len(ML_positive))"
   ]
  },
  {
   "cell_type": "markdown",
   "metadata": {},
   "source": [
    "#### Search Optimal k_max and c (Hash_len = 250000)"
   ]
  },
  {
   "cell_type": "code",
   "execution_count": 36,
   "metadata": {},
   "outputs": [
    {
     "name": "stdout",
     "output_type": "stream",
     "text": [
      "False positive items:  [8, 1.6] 3340.0\n",
      "False positive items:  [8, 1.7000000000000002] 2315.0\n",
      "False positive items:  [8, 1.8] 1627.0\n",
      "False positive items:  [8, 1.9] 1200.0\n",
      "False positive items:  [8, 2.0] 857.0\n",
      "False positive items:  [8, 2.1] 663.0\n",
      "False positive items:  [8, 2.2] 518.0\n",
      "False positive items:  [8, 2.3] 414.0\n",
      "False positive items:  [8, 2.4] 335.0\n",
      "False positive items:  [8, 2.5] 298.0\n",
      "False positive items:  [8, 2.5999999999999996] 271.0\n",
      "False positive items:  [8, 2.6999999999999997] 246.0\n",
      "False positive items:  [8, 2.8] 233.0\n",
      "False positive items:  [9, 1.6] 2157.0\n",
      "False positive items:  [9, 1.7000000000000002] 1434.0\n",
      "False positive items:  [9, 1.8] 988.0\n",
      "False positive items:  [9, 1.9] 693.0\n",
      "False positive items:  [9, 2.0] 493.0\n",
      "False positive items:  [9, 2.1] 401.0\n",
      "False positive items:  [9, 2.2] 299.0\n",
      "False positive items:  [9, 2.3] 270.0\n",
      "False positive items:  [9, 2.4] 231.0\n",
      "False positive items:  [9, 2.5] 206.0\n",
      "False positive items:  [9, 2.5999999999999996] 215.0\n",
      "False positive items:  [9, 2.6999999999999997] 234.0\n",
      "False positive items:  [9, 2.8] 327.0\n",
      "False positive items:  [10, 1.6] 1393.0\n",
      "False positive items:  [10, 1.7000000000000002] 903.0\n",
      "False positive items:  [10, 1.8] 604.0\n",
      "False positive items:  [10, 1.9] 421.0\n",
      "False positive items:  [10, 2.0] 316.0\n",
      "False positive items:  [10, 2.1] 230.0\n",
      "False positive items:  [10, 2.2] 201.0\n",
      "False positive items:  [10, 2.3] 193.0\n",
      "False positive items:  [10, 2.4] 208.0\n",
      "False positive items:  [10, 2.5] 267.0\n",
      "False positive items:  [10, 2.5999999999999996] 295.0\n",
      "False positive items:  [10, 2.6999999999999997] 423.0\n",
      "False positive items:  [10, 2.8] 571.0\n",
      "False positive items:  [11, 1.6] 951.0\n",
      "False positive items:  [11, 1.7000000000000002] 610.0\n",
      "False positive items:  [11, 1.8] 391.0\n",
      "False positive items:  [11, 1.9] 296.0\n",
      "False positive items:  [11, 2.0] 207.0\n",
      "False positive items:  [11, 2.1] 180.0\n",
      "False positive items:  [11, 2.2] 201.0\n",
      "False positive items:  [11, 2.3] 235.0\n",
      "False positive items:  [11, 2.4] 289.0\n",
      "False positive items:  [11, 2.5] 515.0\n",
      "False positive items:  [11, 2.5999999999999996] 667.0\n",
      "False positive items:  [11, 2.6999999999999997] 1016.0\n",
      "False positive items:  [11, 2.8] 1402.0\n",
      "False positive items:  [12, 1.6] 629.0\n",
      "False positive items:  [12, 1.7000000000000002] 392.0\n",
      "False positive items:  [12, 1.8] 257.0\n",
      "False positive items:  [12, 1.9] 180.0\n",
      "False positive items:  [12, 2.0] 178.0\n",
      "False positive items:  [12, 2.1] 196.0\n",
      "False positive items:  [12, 2.2] 275.0\n",
      "False positive items:  [12, 2.3] 472.0\n",
      "False positive items:  [12, 2.4] 666.0\n",
      "False positive items:  [12, 2.5] 1032.0\n",
      "False positive items:  [12, 2.5999999999999996] 1454.0\n",
      "False positive items:  [12, 2.6999999999999997] 2004.0\n",
      "False positive items:  [12, 2.8] 5008.0\n"
     ]
    }
   ],
   "source": [
    "k_min = 0\n",
    "k_max_set = range(8,13)\n",
    "c_set = np.linspace(1.6, 2.8, 13)\n",
    "for k_max in k_max_set:\n",
    "    for c in c_set:\n",
    "        tau = sum(c**np.arange(0, k_max-k_min+1, 1)) \n",
    "        n = train_positive.shape[0]\n",
    "        hash_len = 250000\n",
    "        bloom_filter = BloomFilter_2(n, hash_len, k_max)\n",
    "        thresholds = np.zeros(k_max-k_min+1)\n",
    "        thresholds[-1] = 1\n",
    "        num_negative = sum(train_negative.loc[:,'score'] <= thresholds[-1])\n",
    "        num_piece = int(num_negative/tau)+1\n",
    "        score = train_negative.loc[(train_negative.loc[:,'score'] <= thresholds[-1]),'score']\n",
    "        score = np.sort(score)\n",
    "        for k in range(k_min,k_max):\n",
    "            i = k - k_min\n",
    "            score_1 = score[score<=thresholds[-(i+1)]]\n",
    "            thresholds[-(i+2)] = score_1[-int(num_piece*c**i)]\n",
    "        url =  train_positive.loc[(train_positive.loc[:,'score'] < thresholds[-1]),'url']\n",
    "        score = train_positive.loc[(train_positive.loc[:,'score'] < thresholds[-1]),'score']\n",
    "\n",
    "        for score_s, url_s in zip(score, url):\n",
    "            ix = min(np.where(score_s<=thresholds)[0])\n",
    "            thres = thresholds[ix]\n",
    "            k = k_max - ix\n",
    "            bloom_filter.insert(url_s, k)\n",
    "        ML_positive = train_negative.loc[(train_negative.loc[:,'score'] > thresholds[-1]),'url']\n",
    "        url_negative =  train_negative.loc[(train_negative.loc[:,'score'] <= thresholds[-1]),'url']\n",
    "        score_negative = train_negative.loc[(train_negative.loc[:,'score'] <= thresholds[-1]),'score']\n",
    "\n",
    "        test_result = np.zeros(len(url_negative))\n",
    "        ss = 0\n",
    "        for score_s, url_s in zip(score_negative, url_negative):\n",
    "            ix = min(np.where(score_s<=thresholds)[0])\n",
    "            thres = thresholds[ix]\n",
    "            k = k_max - ix\n",
    "            test_result[ss] = bloom_filter.test(url_s, k)\n",
    "            ss += 1\n",
    "        print('False positive items: ', [k_max, c], sum(test_result)+len(ML_positive))"
   ]
  },
  {
   "cell_type": "markdown",
   "metadata": {},
   "source": [
    "#### Corresponding performance on the testing set (Hash_len = 250000)"
   ]
  },
  {
   "cell_type": "code",
   "execution_count": 18,
   "metadata": {},
   "outputs": [
    {
     "name": "stdout",
     "output_type": "stream",
     "text": [
      "False positive items:  [11, 2] 175.0\n"
     ]
    }
   ],
   "source": [
    "k_min = 0\n",
    "k_max = 11\n",
    "c = 2\n",
    "\n",
    "\n",
    "tau = sum(c**np.arange(0, k_max-k_min+1, 1)) \n",
    "n = train_positive.shape[0]\n",
    "hash_len = 250000\n",
    "bloom_filter = BloomFilter_2(n, hash_len, k_max)\n",
    "thresholds = np.zeros(k_max-k_min+1)\n",
    "thresholds[-1] = 1\n",
    "num_negative = sum(train_negative.loc[:,'score'] <= thresholds[-1])\n",
    "num_piece = int(num_negative/tau)+1\n",
    "score = train_negative.loc[(train_negative.loc[:,'score'] <= thresholds[-1]),'score']\n",
    "score = np.sort(score)\n",
    "for k in range(k_min,k_max):\n",
    "    i = k - k_min\n",
    "    score_1 = score[score<=thresholds[-(i+1)]]\n",
    "    thresholds[-(i+2)] = score_1[-int(num_piece*c**i)]\n",
    "url =  train_positive.loc[(train_positive.loc[:,'score'] < thresholds[-1]),'url']\n",
    "score = train_positive.loc[(train_positive.loc[:,'score'] < thresholds[-1]),'score']\n",
    "\n",
    "for score_s, url_s in zip(score, url):\n",
    "    ix = min(np.where(score_s<=thresholds)[0])\n",
    "    thres = thresholds[ix]\n",
    "    k = k_max - ix\n",
    "    bloom_filter.insert(url_s, k)\n",
    "ML_positive = test_negative.loc[(test_negative.loc[:,'score'] > thresholds[-1]),'url']\n",
    "url_negative =  test_negative.loc[(test_negative.loc[:,'score'] <= thresholds[-1]),'url']\n",
    "score_negative = test_negative.loc[(test_negative.loc[:,'score'] <= thresholds[-1]),'score']\n",
    "\n",
    "test_result = np.zeros(len(url_negative))\n",
    "ss = 0\n",
    "for score_s, url_s in zip(score_negative, url_negative):\n",
    "    ix = min(np.where(score_s<=thresholds)[0])\n",
    "    thres = thresholds[ix]\n",
    "    k = k_max - ix\n",
    "    test_result[ss] = bloom_filter.test(url_s, k)\n",
    "    ss += 1\n",
    "print('False positive items: ', [k_max, c], sum(test_result)+len(ML_positive))"
   ]
  },
  {
   "cell_type": "markdown",
   "metadata": {},
   "source": [
    "## <font color='red'> Generate the Figure (Training Data)</font>"
   ]
  },
  {
   "cell_type": "code",
   "execution_count": 40,
   "metadata": {},
   "outputs": [],
   "source": [
    "FP_item_train = {'original':np.array([2439,1276,822,585]), 'enhanced':np.array([1103,502,290,178]), 'blocked':np.array([1292,615,373,215]), 'sandwich':np.array([3318,1814,1136,809])}\n",
    "size = 344821\n",
    "FPR_train = {'original':np.array([2439,1276,822,585])/size, 'enhanced':np.array([1103,502,290,178])/size, 'blocked':np.array([1292,615,373,215])/size, 'sandwich':np.array([3318,1814,1136,809])/size}"
   ]
  },
  {
   "cell_type": "code",
   "execution_count": 56,
   "metadata": {},
   "outputs": [
    {
     "data": {
      "image/png": "[encoded data removed]",
      "text/plain": [
       "<Figure size 432x288 with 1 Axes>"
      ]
     },
     "metadata": {
      "needs_background": "light"
     },
     "output_type": "display_data"
    }
   ],
   "source": [
    "plt.plot([6*10**4, 8*10**4, 1*10**5, 1.2*10**5], FP_item_train['original'], 'x-', label = 'original learned Bloom filter')\n",
    "plt.plot([6*10**4, 8*10**4, 1*10**5, 1.2*10**5], FP_item_train['enhanced'], 'x-', label = 'enhanced learned Bloom filter')\n",
    "plt.plot([6*10**4, 8*10**4, 1*10**5, 1.2*10**5], FP_item_train['blocked'], 'x-', label = 'blocked learned Bloom filter')\n",
    "plt.plot([6*10**4, 8*10**4, 1*10**5, 1.2*10**5], FP_item_train['sandwich'], 'x-', label = 'sandwiching learned Bloom filter')\n",
    "plt.title('False Positive Items')\n",
    "plt.show()"
   ]
  },
  {
   "cell_type": "code",
   "execution_count": 45,
   "metadata": {},
   "outputs": [
    {
     "data": {
      "image/png": "[encoded data removed]",
      "text/plain": [
       "<Figure size 936x360 with 2 Axes>"
      ]
     },
     "metadata": {
      "needs_background": "light"
     },
     "output_type": "display_data"
    }
   ],
   "source": [
    "from matplotlib import gridspec\n",
    "\n",
    "fig = plt.figure(figsize = (13,5))\n",
    "gs = gridspec.GridSpec(1, 2, width_ratios = [1, 1])\n",
    "ax0 = plt.subplot(gs[0])\n",
    "# ax0.style.use('seaborn-deep')\n",
    "\n",
    "x = train_data.loc[train_data.loc[:,'label']==1,'score']\n",
    "y = train_data.loc[train_data.loc[:,'label']==-1,'score']\n",
    "bins = np.linspace(0, 1, 25)\n",
    "ax0.hist([x, y], bins, log=True, label=['Malicious', 'Benign'])\n",
    "ax0.legend(loc='upper right')\n",
    "ax0.set_title('Distribution of Scores')\n",
    "\n",
    "ax1 = plt.subplot(gs[1])\n",
    "ax1.plot([10*10**4, 15*10**4, 20*10**4, 25*10**4], FPR_train['original'], 'x-', label = 'original learned Bloom filter')\n",
    "ax1.plot([10*10**4, 15*10**4, 20*10**4, 25*10**4], FPR_train['enhanced'], 'x-', label = 'enhanced learned Bloom filter')\n",
    "ax1.plot([10*10**4, 15*10**4, 20*10**4, 25*10**4], FPR_train['blocked'], 'x-', label = 'blocked learned Bloom filter')\n",
    "ax1.plot([10*10**4, 15*10**4, 20*10**4, 25*10**4], FPR_train['sandwich'], 'x-', label = 'sandwiching learned Bloom filter')\n",
    "ax1.set_title('False Positive Rates Comparison')\n",
    "ax1.legend(loc='upper right')\n",
    "ax1.set_xticks(np.arange(100000, 260000, 25000))\n",
    "ax1.set_ylim(0, 0.01)\n",
    "ax1.set_xlabel('Budget of buckets')\n",
    "ax1.set_ylabel('False Positive Rate')\n",
    "\n",
    "fig.savefig('FPR_benchmark_allsample.png')"
   ]
  }
 ],
 "metadata": {
  "kernelspec": {
   "display_name": "Python 3",
   "language": "python",
   "name": "python3"
  },
  "language_info": {
   "codemirror_mode": {
    "name": "ipython",
    "version": 3
   },
   "file_extension": ".py",
   "mimetype": "text/x-python",
   "name": "python",
   "nbconvert_exporter": "python",
   "pygments_lexer": "ipython3",
   "version": "3.7.1"
  }
 },
 "nbformat": 4,
 "nbformat_minor": 2
}
